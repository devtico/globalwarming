{
  "nbformat": 4,
  "nbformat_minor": 0,
  "metadata": {
    "colab": {
      "name": "aquecimento_global.ipynb",
      "provenance": [],
      "include_colab_link": true
    },
    "kernelspec": {
      "name": "python3",
      "display_name": "Python 3"
    },
    "accelerator": "GPU"
  },
  "cells": [
    {
      "cell_type": "markdown",
      "metadata": {
        "id": "view-in-github",
        "colab_type": "text"
      },
      "source": [
        "<a href=\"https://colab.research.google.com/github/devtico/globalwarning/blob/master/aquecimento_global.ipynb\" target=\"_parent\"><img src=\"https://colab.research.google.com/assets/colab-badge.svg\" alt=\"Open In Colab\"/></a>"
      ]
    },
    {
      "cell_type": "markdown",
      "metadata": {
        "id": "TJ5B1vAMpSRn",
        "colab_type": "text"
      },
      "source": [
        "<h1>Aqucimento global</h1>"
      ]
    },
    {
      "cell_type": "code",
      "metadata": {
        "id": "IkQQoisepPXi",
        "colab_type": "code",
        "colab": {
          "base_uri": "https://localhost:8080/",
          "height": 211
        },
        "outputId": "48d7f300-d9d5-4ad4-fbdc-4c4053bbb78c"
      },
      "source": [
        "!pip install plotly==4.3.0\n",
        "import pandas as pd\n",
        "import os\n",
        "import plotly.express as px\n",
        "import plotly.offline as py\n",
        "from sklearn.decomposition import PCA\n",
        "import numpy as np"
      ],
      "execution_count": null,
      "outputs": [
        {
          "output_type": "stream",
          "text": [
            "Collecting plotly==4.3.0\n",
            "\u001b[?25l  Downloading https://files.pythonhosted.org/packages/e3/67/eb2b2be7a63a66548abea92447fc04d9abf363520f1af6145c5f033cd1b3/plotly-4.3.0-py2.py3-none-any.whl (7.3MB)\n",
            "\u001b[K     |████████████████████████████████| 7.3MB 6.8MB/s \n",
            "\u001b[?25hRequirement already satisfied: retrying>=1.3.3 in /usr/local/lib/python3.6/dist-packages (from plotly==4.3.0) (1.3.3)\n",
            "Requirement already satisfied: six in /usr/local/lib/python3.6/dist-packages (from plotly==4.3.0) (1.12.0)\n",
            "Installing collected packages: plotly\n",
            "  Found existing installation: plotly 4.1.1\n",
            "    Uninstalling plotly-4.1.1:\n",
            "      Successfully uninstalled plotly-4.1.1\n",
            "Successfully installed plotly-4.3.0\n"
          ],
          "name": "stdout"
        }
      ]
    },
    {
      "cell_type": "markdown",
      "metadata": {
        "id": "2QLAPezbqzpm",
        "colab_type": "text"
      },
      "source": [
        "##Baixando dados"
      ]
    },
    {
      "cell_type": "code",
      "metadata": {
        "id": "1t1iFTXXp8C-",
        "colab_type": "code",
        "colab": {}
      },
      "source": [
        "raw_data = pd.read_csv(\"https://data.giss.nasa.gov/gistemp/tabledata_v4/ZonAnn.Ts+dSST.csv\")"
      ],
      "execution_count": null,
      "outputs": []
    },
    {
      "cell_type": "code",
      "metadata": {
        "id": "f7dPRiPPrHip",
        "colab_type": "code",
        "colab": {
          "base_uri": "https://localhost:8080/",
          "height": 424
        },
        "outputId": "e0c6461b-13bc-4fb8-f126-45f138ae1112"
      },
      "source": [
        "raw_data"
      ],
      "execution_count": null,
      "outputs": [
        {
          "output_type": "execute_result",
          "data": {
            "text/html": [
              "<div>\n",
              "<style scoped>\n",
              "    .dataframe tbody tr th:only-of-type {\n",
              "        vertical-align: middle;\n",
              "    }\n",
              "\n",
              "    .dataframe tbody tr th {\n",
              "        vertical-align: top;\n",
              "    }\n",
              "\n",
              "    .dataframe thead th {\n",
              "        text-align: right;\n",
              "    }\n",
              "</style>\n",
              "<table border=\"1\" class=\"dataframe\">\n",
              "  <thead>\n",
              "    <tr style=\"text-align: right;\">\n",
              "      <th></th>\n",
              "      <th>Year</th>\n",
              "      <th>Glob</th>\n",
              "      <th>NHem</th>\n",
              "      <th>SHem</th>\n",
              "      <th>24N-90N</th>\n",
              "      <th>24S-24N</th>\n",
              "      <th>90S-24S</th>\n",
              "      <th>64N-90N</th>\n",
              "      <th>44N-64N</th>\n",
              "      <th>24N-44N</th>\n",
              "      <th>EQU-24N</th>\n",
              "      <th>24S-EQU</th>\n",
              "      <th>44S-24S</th>\n",
              "      <th>64S-44S</th>\n",
              "      <th>90S-64S</th>\n",
              "    </tr>\n",
              "  </thead>\n",
              "  <tbody>\n",
              "    <tr>\n",
              "      <th>0</th>\n",
              "      <td>1880</td>\n",
              "      <td>-0.16</td>\n",
              "      <td>-0.27</td>\n",
              "      <td>-0.05</td>\n",
              "      <td>-0.36</td>\n",
              "      <td>-0.12</td>\n",
              "      <td>-0.02</td>\n",
              "      <td>-0.83</td>\n",
              "      <td>-0.45</td>\n",
              "      <td>-0.26</td>\n",
              "      <td>-0.15</td>\n",
              "      <td>-0.10</td>\n",
              "      <td>-0.04</td>\n",
              "      <td>0.05</td>\n",
              "      <td>0.63</td>\n",
              "    </tr>\n",
              "    <tr>\n",
              "      <th>1</th>\n",
              "      <td>1881</td>\n",
              "      <td>-0.07</td>\n",
              "      <td>-0.16</td>\n",
              "      <td>0.00</td>\n",
              "      <td>-0.32</td>\n",
              "      <td>0.11</td>\n",
              "      <td>-0.07</td>\n",
              "      <td>-0.93</td>\n",
              "      <td>-0.42</td>\n",
              "      <td>-0.17</td>\n",
              "      <td>0.10</td>\n",
              "      <td>0.11</td>\n",
              "      <td>-0.05</td>\n",
              "      <td>-0.07</td>\n",
              "      <td>0.56</td>\n",
              "    </tr>\n",
              "    <tr>\n",
              "      <th>2</th>\n",
              "      <td>1882</td>\n",
              "      <td>-0.10</td>\n",
              "      <td>-0.19</td>\n",
              "      <td>-0.01</td>\n",
              "      <td>-0.28</td>\n",
              "      <td>-0.04</td>\n",
              "      <td>0.01</td>\n",
              "      <td>-1.42</td>\n",
              "      <td>-0.24</td>\n",
              "      <td>-0.11</td>\n",
              "      <td>-0.04</td>\n",
              "      <td>-0.05</td>\n",
              "      <td>0.01</td>\n",
              "      <td>0.04</td>\n",
              "      <td>0.59</td>\n",
              "    </tr>\n",
              "    <tr>\n",
              "      <th>3</th>\n",
              "      <td>1883</td>\n",
              "      <td>-0.17</td>\n",
              "      <td>-0.27</td>\n",
              "      <td>-0.07</td>\n",
              "      <td>-0.33</td>\n",
              "      <td>-0.16</td>\n",
              "      <td>-0.01</td>\n",
              "      <td>-0.21</td>\n",
              "      <td>-0.53</td>\n",
              "      <td>-0.23</td>\n",
              "      <td>-0.17</td>\n",
              "      <td>-0.15</td>\n",
              "      <td>-0.04</td>\n",
              "      <td>0.07</td>\n",
              "      <td>0.46</td>\n",
              "    </tr>\n",
              "    <tr>\n",
              "      <th>4</th>\n",
              "      <td>1884</td>\n",
              "      <td>-0.28</td>\n",
              "      <td>-0.42</td>\n",
              "      <td>-0.15</td>\n",
              "      <td>-0.59</td>\n",
              "      <td>-0.14</td>\n",
              "      <td>-0.14</td>\n",
              "      <td>-1.35</td>\n",
              "      <td>-0.64</td>\n",
              "      <td>-0.43</td>\n",
              "      <td>-0.12</td>\n",
              "      <td>-0.16</td>\n",
              "      <td>-0.19</td>\n",
              "      <td>-0.02</td>\n",
              "      <td>0.61</td>\n",
              "    </tr>\n",
              "    <tr>\n",
              "      <th>...</th>\n",
              "      <td>...</td>\n",
              "      <td>...</td>\n",
              "      <td>...</td>\n",
              "      <td>...</td>\n",
              "      <td>...</td>\n",
              "      <td>...</td>\n",
              "      <td>...</td>\n",
              "      <td>...</td>\n",
              "      <td>...</td>\n",
              "      <td>...</td>\n",
              "      <td>...</td>\n",
              "      <td>...</td>\n",
              "      <td>...</td>\n",
              "      <td>...</td>\n",
              "      <td>...</td>\n",
              "    </tr>\n",
              "    <tr>\n",
              "      <th>134</th>\n",
              "      <td>2014</td>\n",
              "      <td>0.75</td>\n",
              "      <td>0.92</td>\n",
              "      <td>0.58</td>\n",
              "      <td>1.07</td>\n",
              "      <td>0.68</td>\n",
              "      <td>0.52</td>\n",
              "      <td>2.04</td>\n",
              "      <td>1.12</td>\n",
              "      <td>0.73</td>\n",
              "      <td>0.69</td>\n",
              "      <td>0.66</td>\n",
              "      <td>0.72</td>\n",
              "      <td>0.18</td>\n",
              "      <td>0.52</td>\n",
              "    </tr>\n",
              "    <tr>\n",
              "      <th>135</th>\n",
              "      <td>2015</td>\n",
              "      <td>0.90</td>\n",
              "      <td>1.18</td>\n",
              "      <td>0.63</td>\n",
              "      <td>1.31</td>\n",
              "      <td>0.96</td>\n",
              "      <td>0.41</td>\n",
              "      <td>2.00</td>\n",
              "      <td>1.47</td>\n",
              "      <td>0.99</td>\n",
              "      <td>0.98</td>\n",
              "      <td>0.95</td>\n",
              "      <td>0.75</td>\n",
              "      <td>0.18</td>\n",
              "      <td>-0.34</td>\n",
              "    </tr>\n",
              "    <tr>\n",
              "      <th>136</th>\n",
              "      <td>2016</td>\n",
              "      <td>1.02</td>\n",
              "      <td>1.30</td>\n",
              "      <td>0.73</td>\n",
              "      <td>1.54</td>\n",
              "      <td>1.01</td>\n",
              "      <td>0.49</td>\n",
              "      <td>3.24</td>\n",
              "      <td>1.43</td>\n",
              "      <td>1.07</td>\n",
              "      <td>0.96</td>\n",
              "      <td>1.07</td>\n",
              "      <td>0.67</td>\n",
              "      <td>0.26</td>\n",
              "      <td>0.36</td>\n",
              "    </tr>\n",
              "    <tr>\n",
              "      <th>137</th>\n",
              "      <td>2017</td>\n",
              "      <td>0.92</td>\n",
              "      <td>1.18</td>\n",
              "      <td>0.67</td>\n",
              "      <td>1.38</td>\n",
              "      <td>0.82</td>\n",
              "      <td>0.59</td>\n",
              "      <td>2.51</td>\n",
              "      <td>1.37</td>\n",
              "      <td>1.04</td>\n",
              "      <td>0.87</td>\n",
              "      <td>0.78</td>\n",
              "      <td>0.76</td>\n",
              "      <td>0.35</td>\n",
              "      <td>0.54</td>\n",
              "    </tr>\n",
              "    <tr>\n",
              "      <th>138</th>\n",
              "      <td>2018</td>\n",
              "      <td>0.85</td>\n",
              "      <td>1.04</td>\n",
              "      <td>0.66</td>\n",
              "      <td>1.25</td>\n",
              "      <td>0.68</td>\n",
              "      <td>0.68</td>\n",
              "      <td>2.15</td>\n",
              "      <td>1.09</td>\n",
              "      <td>1.05</td>\n",
              "      <td>0.73</td>\n",
              "      <td>0.63</td>\n",
              "      <td>0.80</td>\n",
              "      <td>0.38</td>\n",
              "      <td>0.93</td>\n",
              "    </tr>\n",
              "  </tbody>\n",
              "</table>\n",
              "<p>139 rows × 15 columns</p>\n",
              "</div>"
            ],
            "text/plain": [
              "     Year  Glob  NHem  SHem  ...  24S-EQU  44S-24S  64S-44S  90S-64S\n",
              "0    1880 -0.16 -0.27 -0.05  ...    -0.10    -0.04     0.05     0.63\n",
              "1    1881 -0.07 -0.16  0.00  ...     0.11    -0.05    -0.07     0.56\n",
              "2    1882 -0.10 -0.19 -0.01  ...    -0.05     0.01     0.04     0.59\n",
              "3    1883 -0.17 -0.27 -0.07  ...    -0.15    -0.04     0.07     0.46\n",
              "4    1884 -0.28 -0.42 -0.15  ...    -0.16    -0.19    -0.02     0.61\n",
              "..    ...   ...   ...   ...  ...      ...      ...      ...      ...\n",
              "134  2014  0.75  0.92  0.58  ...     0.66     0.72     0.18     0.52\n",
              "135  2015  0.90  1.18  0.63  ...     0.95     0.75     0.18    -0.34\n",
              "136  2016  1.02  1.30  0.73  ...     1.07     0.67     0.26     0.36\n",
              "137  2017  0.92  1.18  0.67  ...     0.78     0.76     0.35     0.54\n",
              "138  2018  0.85  1.04  0.66  ...     0.63     0.80     0.38     0.93\n",
              "\n",
              "[139 rows x 15 columns]"
            ]
          },
          "metadata": {
            "tags": []
          },
          "execution_count": 3
        }
      ]
    },
    {
      "cell_type": "code",
      "metadata": {
        "id": "i_h7AOIgrJEG",
        "colab_type": "code",
        "colab": {
          "base_uri": "https://localhost:8080/",
          "height": 320
        },
        "outputId": "997e5e5c-e5be-4cf0-c79f-dcf97cdace22"
      },
      "source": [
        "raw_data.describe()"
      ],
      "execution_count": null,
      "outputs": [
        {
          "output_type": "execute_result",
          "data": {
            "text/html": [
              "<div>\n",
              "<style scoped>\n",
              "    .dataframe tbody tr th:only-of-type {\n",
              "        vertical-align: middle;\n",
              "    }\n",
              "\n",
              "    .dataframe tbody tr th {\n",
              "        vertical-align: top;\n",
              "    }\n",
              "\n",
              "    .dataframe thead th {\n",
              "        text-align: right;\n",
              "    }\n",
              "</style>\n",
              "<table border=\"1\" class=\"dataframe\">\n",
              "  <thead>\n",
              "    <tr style=\"text-align: right;\">\n",
              "      <th></th>\n",
              "      <th>Year</th>\n",
              "      <th>Glob</th>\n",
              "      <th>NHem</th>\n",
              "      <th>SHem</th>\n",
              "      <th>24N-90N</th>\n",
              "      <th>24S-24N</th>\n",
              "      <th>90S-24S</th>\n",
              "      <th>64N-90N</th>\n",
              "      <th>44N-64N</th>\n",
              "      <th>24N-44N</th>\n",
              "      <th>EQU-24N</th>\n",
              "      <th>24S-EQU</th>\n",
              "      <th>44S-24S</th>\n",
              "      <th>64S-44S</th>\n",
              "      <th>90S-64S</th>\n",
              "    </tr>\n",
              "  </thead>\n",
              "  <tbody>\n",
              "    <tr>\n",
              "      <th>count</th>\n",
              "      <td>139.000000</td>\n",
              "      <td>139.000000</td>\n",
              "      <td>139.000000</td>\n",
              "      <td>139.000000</td>\n",
              "      <td>139.000000</td>\n",
              "      <td>139.000000</td>\n",
              "      <td>139.000000</td>\n",
              "      <td>139.000000</td>\n",
              "      <td>139.000000</td>\n",
              "      <td>139.000000</td>\n",
              "      <td>139.0000</td>\n",
              "      <td>139.000000</td>\n",
              "      <td>139.000000</td>\n",
              "      <td>139.000000</td>\n",
              "      <td>139.000000</td>\n",
              "    </tr>\n",
              "    <tr>\n",
              "      <th>mean</th>\n",
              "      <td>1949.000000</td>\n",
              "      <td>0.036403</td>\n",
              "      <td>0.061439</td>\n",
              "      <td>0.011367</td>\n",
              "      <td>0.077410</td>\n",
              "      <td>0.048993</td>\n",
              "      <td>-0.022374</td>\n",
              "      <td>0.178633</td>\n",
              "      <td>0.097554</td>\n",
              "      <td>0.018345</td>\n",
              "      <td>0.0400</td>\n",
              "      <td>0.058201</td>\n",
              "      <td>0.021511</td>\n",
              "      <td>-0.069928</td>\n",
              "      <td>-0.112662</td>\n",
              "    </tr>\n",
              "    <tr>\n",
              "      <th>std</th>\n",
              "      <td>40.269923</td>\n",
              "      <td>0.342451</td>\n",
              "      <td>0.402322</td>\n",
              "      <td>0.302291</td>\n",
              "      <td>0.479698</td>\n",
              "      <td>0.333973</td>\n",
              "      <td>0.296549</td>\n",
              "      <td>0.945850</td>\n",
              "      <td>0.538041</td>\n",
              "      <td>0.365917</td>\n",
              "      <td>0.3311</td>\n",
              "      <td>0.343524</td>\n",
              "      <td>0.313540</td>\n",
              "      <td>0.269856</td>\n",
              "      <td>0.742451</td>\n",
              "    </tr>\n",
              "    <tr>\n",
              "      <th>min</th>\n",
              "      <td>1880.000000</td>\n",
              "      <td>-0.480000</td>\n",
              "      <td>-0.570000</td>\n",
              "      <td>-0.480000</td>\n",
              "      <td>-0.630000</td>\n",
              "      <td>-0.640000</td>\n",
              "      <td>-0.480000</td>\n",
              "      <td>-1.800000</td>\n",
              "      <td>-0.770000</td>\n",
              "      <td>-0.600000</td>\n",
              "      <td>-0.6900</td>\n",
              "      <td>-0.600000</td>\n",
              "      <td>-0.440000</td>\n",
              "      <td>-0.550000</td>\n",
              "      <td>-2.600000</td>\n",
              "    </tr>\n",
              "    <tr>\n",
              "      <th>25%</th>\n",
              "      <td>1914.500000</td>\n",
              "      <td>-0.210000</td>\n",
              "      <td>-0.215000</td>\n",
              "      <td>-0.220000</td>\n",
              "      <td>-0.285000</td>\n",
              "      <td>-0.200000</td>\n",
              "      <td>-0.255000</td>\n",
              "      <td>-0.425000</td>\n",
              "      <td>-0.315000</td>\n",
              "      <td>-0.215000</td>\n",
              "      <td>-0.2150</td>\n",
              "      <td>-0.185000</td>\n",
              "      <td>-0.220000</td>\n",
              "      <td>-0.265000</td>\n",
              "      <td>-0.540000</td>\n",
              "    </tr>\n",
              "    <tr>\n",
              "      <th>50%</th>\n",
              "      <td>1949.000000</td>\n",
              "      <td>-0.070000</td>\n",
              "      <td>-0.020000</td>\n",
              "      <td>-0.070000</td>\n",
              "      <td>0.020000</td>\n",
              "      <td>-0.030000</td>\n",
              "      <td>-0.090000</td>\n",
              "      <td>0.070000</td>\n",
              "      <td>-0.030000</td>\n",
              "      <td>-0.080000</td>\n",
              "      <td>-0.0100</td>\n",
              "      <td>-0.030000</td>\n",
              "      <td>-0.080000</td>\n",
              "      <td>-0.080000</td>\n",
              "      <td>0.010000</td>\n",
              "    </tr>\n",
              "    <tr>\n",
              "      <th>75%</th>\n",
              "      <td>1983.500000</td>\n",
              "      <td>0.210000</td>\n",
              "      <td>0.210000</td>\n",
              "      <td>0.265000</td>\n",
              "      <td>0.230000</td>\n",
              "      <td>0.265000</td>\n",
              "      <td>0.230000</td>\n",
              "      <td>0.670000</td>\n",
              "      <td>0.365000</td>\n",
              "      <td>0.125000</td>\n",
              "      <td>0.2550</td>\n",
              "      <td>0.290000</td>\n",
              "      <td>0.255000</td>\n",
              "      <td>0.180000</td>\n",
              "      <td>0.400000</td>\n",
              "    </tr>\n",
              "    <tr>\n",
              "      <th>max</th>\n",
              "      <td>2018.000000</td>\n",
              "      <td>1.020000</td>\n",
              "      <td>1.300000</td>\n",
              "      <td>0.730000</td>\n",
              "      <td>1.540000</td>\n",
              "      <td>1.010000</td>\n",
              "      <td>0.680000</td>\n",
              "      <td>3.240000</td>\n",
              "      <td>1.470000</td>\n",
              "      <td>1.070000</td>\n",
              "      <td>0.9800</td>\n",
              "      <td>1.070000</td>\n",
              "      <td>0.800000</td>\n",
              "      <td>0.440000</td>\n",
              "      <td>1.220000</td>\n",
              "    </tr>\n",
              "  </tbody>\n",
              "</table>\n",
              "</div>"
            ],
            "text/plain": [
              "              Year        Glob        NHem  ...     44S-24S     64S-44S     90S-64S\n",
              "count   139.000000  139.000000  139.000000  ...  139.000000  139.000000  139.000000\n",
              "mean   1949.000000    0.036403    0.061439  ...    0.021511   -0.069928   -0.112662\n",
              "std      40.269923    0.342451    0.402322  ...    0.313540    0.269856    0.742451\n",
              "min    1880.000000   -0.480000   -0.570000  ...   -0.440000   -0.550000   -2.600000\n",
              "25%    1914.500000   -0.210000   -0.215000  ...   -0.220000   -0.265000   -0.540000\n",
              "50%    1949.000000   -0.070000   -0.020000  ...   -0.080000   -0.080000    0.010000\n",
              "75%    1983.500000    0.210000    0.210000  ...    0.255000    0.180000    0.400000\n",
              "max    2018.000000    1.020000    1.300000  ...    0.800000    0.440000    1.220000\n",
              "\n",
              "[8 rows x 15 columns]"
            ]
          },
          "metadata": {
            "tags": []
          },
          "execution_count": 4
        }
      ]
    },
    {
      "cell_type": "code",
      "metadata": {
        "id": "SQKRvGcctBQ-",
        "colab_type": "code",
        "colab": {
          "base_uri": "https://localhost:8080/",
          "height": 86
        },
        "outputId": "c2b7fa5e-cb33-4564-a81c-fc03eeb6c8ad"
      },
      "source": [
        "raw_data.columns"
      ],
      "execution_count": null,
      "outputs": [
        {
          "output_type": "execute_result",
          "data": {
            "text/plain": [
              "Index(['Year', 'Glob', 'NHem', 'SHem', '24N-90N', '24S-24N', '90S-24S',\n",
              "       '64N-90N', '44N-64N', '24N-44N', 'EQU-24N', '24S-EQU', '44S-24S',\n",
              "       '64S-44S', '90S-64S'],\n",
              "      dtype='object')"
            ]
          },
          "metadata": {
            "tags": []
          },
          "execution_count": 5
        }
      ]
    },
    {
      "cell_type": "markdown",
      "metadata": {
        "id": "XukviCgRselJ",
        "colab_type": "text"
      },
      "source": [
        "Usando a divisão mais fina"
      ]
    },
    {
      "cell_type": "code",
      "metadata": {
        "id": "mkFkLmtArRMQ",
        "colab_type": "code",
        "colab": {}
      },
      "source": [
        "sector_cols = ['64N-90N', '44N-64N', '24N-44N', 'EQU-24N', '24S-EQU', '44S-24S',\n",
        "       '64S-44S', '90S-64S']"
      ],
      "execution_count": null,
      "outputs": []
    },
    {
      "cell_type": "code",
      "metadata": {
        "id": "T0IRuPVattzN",
        "colab_type": "code",
        "colab": {}
      },
      "source": [
        "sector_data = raw_data[[\"Year\"] + sector_cols]"
      ],
      "execution_count": null,
      "outputs": []
    },
    {
      "cell_type": "code",
      "metadata": {
        "id": "9EvYrJz8tudN",
        "colab_type": "code",
        "colab": {
          "base_uri": "https://localhost:8080/",
          "height": 424
        },
        "outputId": "6513c03f-5c74-4238-b0e7-cb74033c35bb"
      },
      "source": [
        "sector_data"
      ],
      "execution_count": null,
      "outputs": [
        {
          "output_type": "execute_result",
          "data": {
            "text/html": [
              "<div>\n",
              "<style scoped>\n",
              "    .dataframe tbody tr th:only-of-type {\n",
              "        vertical-align: middle;\n",
              "    }\n",
              "\n",
              "    .dataframe tbody tr th {\n",
              "        vertical-align: top;\n",
              "    }\n",
              "\n",
              "    .dataframe thead th {\n",
              "        text-align: right;\n",
              "    }\n",
              "</style>\n",
              "<table border=\"1\" class=\"dataframe\">\n",
              "  <thead>\n",
              "    <tr style=\"text-align: right;\">\n",
              "      <th></th>\n",
              "      <th>Year</th>\n",
              "      <th>64N-90N</th>\n",
              "      <th>44N-64N</th>\n",
              "      <th>24N-44N</th>\n",
              "      <th>EQU-24N</th>\n",
              "      <th>24S-EQU</th>\n",
              "      <th>44S-24S</th>\n",
              "      <th>64S-44S</th>\n",
              "      <th>90S-64S</th>\n",
              "    </tr>\n",
              "  </thead>\n",
              "  <tbody>\n",
              "    <tr>\n",
              "      <th>0</th>\n",
              "      <td>1880</td>\n",
              "      <td>-0.83</td>\n",
              "      <td>-0.45</td>\n",
              "      <td>-0.26</td>\n",
              "      <td>-0.15</td>\n",
              "      <td>-0.10</td>\n",
              "      <td>-0.04</td>\n",
              "      <td>0.05</td>\n",
              "      <td>0.63</td>\n",
              "    </tr>\n",
              "    <tr>\n",
              "      <th>1</th>\n",
              "      <td>1881</td>\n",
              "      <td>-0.93</td>\n",
              "      <td>-0.42</td>\n",
              "      <td>-0.17</td>\n",
              "      <td>0.10</td>\n",
              "      <td>0.11</td>\n",
              "      <td>-0.05</td>\n",
              "      <td>-0.07</td>\n",
              "      <td>0.56</td>\n",
              "    </tr>\n",
              "    <tr>\n",
              "      <th>2</th>\n",
              "      <td>1882</td>\n",
              "      <td>-1.42</td>\n",
              "      <td>-0.24</td>\n",
              "      <td>-0.11</td>\n",
              "      <td>-0.04</td>\n",
              "      <td>-0.05</td>\n",
              "      <td>0.01</td>\n",
              "      <td>0.04</td>\n",
              "      <td>0.59</td>\n",
              "    </tr>\n",
              "    <tr>\n",
              "      <th>3</th>\n",
              "      <td>1883</td>\n",
              "      <td>-0.21</td>\n",
              "      <td>-0.53</td>\n",
              "      <td>-0.23</td>\n",
              "      <td>-0.17</td>\n",
              "      <td>-0.15</td>\n",
              "      <td>-0.04</td>\n",
              "      <td>0.07</td>\n",
              "      <td>0.46</td>\n",
              "    </tr>\n",
              "    <tr>\n",
              "      <th>4</th>\n",
              "      <td>1884</td>\n",
              "      <td>-1.35</td>\n",
              "      <td>-0.64</td>\n",
              "      <td>-0.43</td>\n",
              "      <td>-0.12</td>\n",
              "      <td>-0.16</td>\n",
              "      <td>-0.19</td>\n",
              "      <td>-0.02</td>\n",
              "      <td>0.61</td>\n",
              "    </tr>\n",
              "    <tr>\n",
              "      <th>...</th>\n",
              "      <td>...</td>\n",
              "      <td>...</td>\n",
              "      <td>...</td>\n",
              "      <td>...</td>\n",
              "      <td>...</td>\n",
              "      <td>...</td>\n",
              "      <td>...</td>\n",
              "      <td>...</td>\n",
              "      <td>...</td>\n",
              "    </tr>\n",
              "    <tr>\n",
              "      <th>134</th>\n",
              "      <td>2014</td>\n",
              "      <td>2.04</td>\n",
              "      <td>1.12</td>\n",
              "      <td>0.73</td>\n",
              "      <td>0.69</td>\n",
              "      <td>0.66</td>\n",
              "      <td>0.72</td>\n",
              "      <td>0.18</td>\n",
              "      <td>0.52</td>\n",
              "    </tr>\n",
              "    <tr>\n",
              "      <th>135</th>\n",
              "      <td>2015</td>\n",
              "      <td>2.00</td>\n",
              "      <td>1.47</td>\n",
              "      <td>0.99</td>\n",
              "      <td>0.98</td>\n",
              "      <td>0.95</td>\n",
              "      <td>0.75</td>\n",
              "      <td>0.18</td>\n",
              "      <td>-0.34</td>\n",
              "    </tr>\n",
              "    <tr>\n",
              "      <th>136</th>\n",
              "      <td>2016</td>\n",
              "      <td>3.24</td>\n",
              "      <td>1.43</td>\n",
              "      <td>1.07</td>\n",
              "      <td>0.96</td>\n",
              "      <td>1.07</td>\n",
              "      <td>0.67</td>\n",
              "      <td>0.26</td>\n",
              "      <td>0.36</td>\n",
              "    </tr>\n",
              "    <tr>\n",
              "      <th>137</th>\n",
              "      <td>2017</td>\n",
              "      <td>2.51</td>\n",
              "      <td>1.37</td>\n",
              "      <td>1.04</td>\n",
              "      <td>0.87</td>\n",
              "      <td>0.78</td>\n",
              "      <td>0.76</td>\n",
              "      <td>0.35</td>\n",
              "      <td>0.54</td>\n",
              "    </tr>\n",
              "    <tr>\n",
              "      <th>138</th>\n",
              "      <td>2018</td>\n",
              "      <td>2.15</td>\n",
              "      <td>1.09</td>\n",
              "      <td>1.05</td>\n",
              "      <td>0.73</td>\n",
              "      <td>0.63</td>\n",
              "      <td>0.80</td>\n",
              "      <td>0.38</td>\n",
              "      <td>0.93</td>\n",
              "    </tr>\n",
              "  </tbody>\n",
              "</table>\n",
              "<p>139 rows × 9 columns</p>\n",
              "</div>"
            ],
            "text/plain": [
              "     Year  64N-90N  44N-64N  24N-44N  ...  24S-EQU  44S-24S  64S-44S  90S-64S\n",
              "0    1880    -0.83    -0.45    -0.26  ...    -0.10    -0.04     0.05     0.63\n",
              "1    1881    -0.93    -0.42    -0.17  ...     0.11    -0.05    -0.07     0.56\n",
              "2    1882    -1.42    -0.24    -0.11  ...    -0.05     0.01     0.04     0.59\n",
              "3    1883    -0.21    -0.53    -0.23  ...    -0.15    -0.04     0.07     0.46\n",
              "4    1884    -1.35    -0.64    -0.43  ...    -0.16    -0.19    -0.02     0.61\n",
              "..    ...      ...      ...      ...  ...      ...      ...      ...      ...\n",
              "134  2014     2.04     1.12     0.73  ...     0.66     0.72     0.18     0.52\n",
              "135  2015     2.00     1.47     0.99  ...     0.95     0.75     0.18    -0.34\n",
              "136  2016     3.24     1.43     1.07  ...     1.07     0.67     0.26     0.36\n",
              "137  2017     2.51     1.37     1.04  ...     0.78     0.76     0.35     0.54\n",
              "138  2018     2.15     1.09     1.05  ...     0.63     0.80     0.38     0.93\n",
              "\n",
              "[139 rows x 9 columns]"
            ]
          },
          "metadata": {
            "tags": []
          },
          "execution_count": 8
        }
      ]
    },
    {
      "cell_type": "markdown",
      "metadata": {
        "id": "jKrqwswFuVFP",
        "colab_type": "text"
      },
      "source": [
        "Transformando a tabela para o formato longo para fazer os gráficos"
      ]
    },
    {
      "cell_type": "code",
      "metadata": {
        "id": "qS2ssM60t1Sd",
        "colab_type": "code",
        "colab": {}
      },
      "source": [
        "sector_melt = sector_data.melt(id_vars='Year', # vai continuar igual\n",
        "                               var_name='Sector',\n",
        "                               value_name = 'Temperature'\n",
        "                               )\n"
      ],
      "execution_count": null,
      "outputs": []
    },
    {
      "cell_type": "code",
      "metadata": {
        "id": "pGYyZiuvvAJZ",
        "colab_type": "code",
        "colab": {
          "base_uri": "https://localhost:8080/",
          "height": 424
        },
        "outputId": "7a91e835-eecd-47ad-caa8-66ae3c5560ce"
      },
      "source": [
        "sector_melt"
      ],
      "execution_count": null,
      "outputs": [
        {
          "output_type": "execute_result",
          "data": {
            "text/html": [
              "<div>\n",
              "<style scoped>\n",
              "    .dataframe tbody tr th:only-of-type {\n",
              "        vertical-align: middle;\n",
              "    }\n",
              "\n",
              "    .dataframe tbody tr th {\n",
              "        vertical-align: top;\n",
              "    }\n",
              "\n",
              "    .dataframe thead th {\n",
              "        text-align: right;\n",
              "    }\n",
              "</style>\n",
              "<table border=\"1\" class=\"dataframe\">\n",
              "  <thead>\n",
              "    <tr style=\"text-align: right;\">\n",
              "      <th></th>\n",
              "      <th>Year</th>\n",
              "      <th>Sector</th>\n",
              "      <th>Temperature</th>\n",
              "    </tr>\n",
              "  </thead>\n",
              "  <tbody>\n",
              "    <tr>\n",
              "      <th>0</th>\n",
              "      <td>1880</td>\n",
              "      <td>64N-90N</td>\n",
              "      <td>-0.83</td>\n",
              "    </tr>\n",
              "    <tr>\n",
              "      <th>1</th>\n",
              "      <td>1881</td>\n",
              "      <td>64N-90N</td>\n",
              "      <td>-0.93</td>\n",
              "    </tr>\n",
              "    <tr>\n",
              "      <th>2</th>\n",
              "      <td>1882</td>\n",
              "      <td>64N-90N</td>\n",
              "      <td>-1.42</td>\n",
              "    </tr>\n",
              "    <tr>\n",
              "      <th>3</th>\n",
              "      <td>1883</td>\n",
              "      <td>64N-90N</td>\n",
              "      <td>-0.21</td>\n",
              "    </tr>\n",
              "    <tr>\n",
              "      <th>4</th>\n",
              "      <td>1884</td>\n",
              "      <td>64N-90N</td>\n",
              "      <td>-1.35</td>\n",
              "    </tr>\n",
              "    <tr>\n",
              "      <th>...</th>\n",
              "      <td>...</td>\n",
              "      <td>...</td>\n",
              "      <td>...</td>\n",
              "    </tr>\n",
              "    <tr>\n",
              "      <th>1107</th>\n",
              "      <td>2014</td>\n",
              "      <td>90S-64S</td>\n",
              "      <td>0.52</td>\n",
              "    </tr>\n",
              "    <tr>\n",
              "      <th>1108</th>\n",
              "      <td>2015</td>\n",
              "      <td>90S-64S</td>\n",
              "      <td>-0.34</td>\n",
              "    </tr>\n",
              "    <tr>\n",
              "      <th>1109</th>\n",
              "      <td>2016</td>\n",
              "      <td>90S-64S</td>\n",
              "      <td>0.36</td>\n",
              "    </tr>\n",
              "    <tr>\n",
              "      <th>1110</th>\n",
              "      <td>2017</td>\n",
              "      <td>90S-64S</td>\n",
              "      <td>0.54</td>\n",
              "    </tr>\n",
              "    <tr>\n",
              "      <th>1111</th>\n",
              "      <td>2018</td>\n",
              "      <td>90S-64S</td>\n",
              "      <td>0.93</td>\n",
              "    </tr>\n",
              "  </tbody>\n",
              "</table>\n",
              "<p>1112 rows × 3 columns</p>\n",
              "</div>"
            ],
            "text/plain": [
              "      Year   Sector  Temperature\n",
              "0     1880  64N-90N        -0.83\n",
              "1     1881  64N-90N        -0.93\n",
              "2     1882  64N-90N        -1.42\n",
              "3     1883  64N-90N        -0.21\n",
              "4     1884  64N-90N        -1.35\n",
              "...    ...      ...          ...\n",
              "1107  2014  90S-64S         0.52\n",
              "1108  2015  90S-64S        -0.34\n",
              "1109  2016  90S-64S         0.36\n",
              "1110  2017  90S-64S         0.54\n",
              "1111  2018  90S-64S         0.93\n",
              "\n",
              "[1112 rows x 3 columns]"
            ]
          },
          "metadata": {
            "tags": []
          },
          "execution_count": 10
        }
      ]
    },
    {
      "cell_type": "markdown",
      "metadata": {
        "id": "F9ZQSMrvwJOT",
        "colab_type": "text"
      },
      "source": [
        "Temperatura em função do tempo"
      ]
    },
    {
      "cell_type": "code",
      "metadata": {
        "id": "pxD3j-3VvHeT",
        "colab_type": "code",
        "colab": {
          "base_uri": "https://localhost:8080/",
          "height": 617
        },
        "outputId": "82f71d4a-e5c7-47e7-b9db-79d61e00b999"
      },
      "source": [
        "px.line(sector_melt, x='Year', y='Temperature', color='Sector')"
      ],
      "execution_count": null,
      "outputs": [
        {
          "output_type": "display_data",
          "data": {
            "text/html": [
              "<html>\n",
              "<head><meta charset=\"utf-8\" /></head>\n",
              "<body>\n",
              "    <div>\n",
              "            <script src=\"https://cdnjs.cloudflare.com/ajax/libs/mathjax/2.7.5/MathJax.js?config=TeX-AMS-MML_SVG\"></script><script type=\"text/javascript\">if (window.MathJax) {MathJax.Hub.Config({SVG: {font: \"STIX-Web\"}});}</script>\n",
              "                <script type=\"text/javascript\">window.PlotlyConfig = {MathJaxConfig: 'local'};</script>\n",
              "        <script src=\"https://cdn.plot.ly/plotly-latest.min.js\"></script>    \n",
              "            <div id=\"240e2669-416b-45e9-8e24-98290382ad22\" class=\"plotly-graph-div\" style=\"height:600px; width:100%;\"></div>\n",
              "            <script type=\"text/javascript\">\n",
              "                \n",
              "                    window.PLOTLYENV=window.PLOTLYENV || {};\n",
              "                    \n",
              "                if (document.getElementById(\"240e2669-416b-45e9-8e24-98290382ad22\")) {\n",
              "                    Plotly.newPlot(\n",
              "                        '240e2669-416b-45e9-8e24-98290382ad22',\n",
              "                        [{\"hoverlabel\": {\"namelength\": 0}, \"hovertemplate\": \"Sector=64N-90N<br>Year=%{x}<br>Temperature=%{y}\", \"legendgroup\": \"Sector=64N-90N\", \"line\": {\"color\": \"#636efa\", \"dash\": \"solid\"}, \"mode\": \"lines\", \"name\": \"Sector=64N-90N\", \"showlegend\": true, \"type\": \"scattergl\", \"x\": [1880, 1881, 1882, 1883, 1884, 1885, 1886, 1887, 1888, 1889, 1890, 1891, 1892, 1893, 1894, 1895, 1896, 1897, 1898, 1899, 1900, 1901, 1902, 1903, 1904, 1905, 1906, 1907, 1908, 1909, 1910, 1911, 1912, 1913, 1914, 1915, 1916, 1917, 1918, 1919, 1920, 1921, 1922, 1923, 1924, 1925, 1926, 1927, 1928, 1929, 1930, 1931, 1932, 1933, 1934, 1935, 1936, 1937, 1938, 1939, 1940, 1941, 1942, 1943, 1944, 1945, 1946, 1947, 1948, 1949, 1950, 1951, 1952, 1953, 1954, 1955, 1956, 1957, 1958, 1959, 1960, 1961, 1962, 1963, 1964, 1965, 1966, 1967, 1968, 1969, 1970, 1971, 1972, 1973, 1974, 1975, 1976, 1977, 1978, 1979, 1980, 1981, 1982, 1983, 1984, 1985, 1986, 1987, 1988, 1989, 1990, 1991, 1992, 1993, 1994, 1995, 1996, 1997, 1998, 1999, 2000, 2001, 2002, 2003, 2004, 2005, 2006, 2007, 2008, 2009, 2010, 2011, 2012, 2013, 2014, 2015, 2016, 2017, 2018], \"xaxis\": \"x\", \"y\": [-0.83, -0.93, -1.42, -0.21, -1.35, -1.55, -1.63, -1.8, -1.34, -0.72, -1.17, -1.15, -1.15, -0.72, -0.97, -0.68, -0.88, -0.56, -1.13, -1.06, -0.56, -0.45, -1.43, -0.31, -0.2, -0.08, -0.29, -0.61, -0.25, -0.76, -0.58, -0.3, -0.5, -0.5, -0.38, -0.6, -0.49, -0.84, -1.04, -0.72, -0.03, -0.03, -0.32, 0.15, 0.44, -0.09, 0.56, 0.01, 0.71, 0.13, 0.52, 0.57, 0.48, -0.16, 0.88, 0.34, 0.39, 1.23, 1.5, 0.56, 1.0, 0.0, 0.73, 1.42, 1.18, 0.63, -0.02, 1.07, 0.12, 0.2, 0.2, 0.09, 0.27, 1.02, 0.8, -0.24, 0.01, 0.09, -0.17, 0.48, 0.34, -0.15, 0.45, -0.16, -0.67, -0.28, -0.76, 0.36, -0.33, -0.04, -0.21, -0.08, -0.37, 0.07, -0.19, 0.1, -0.07, 0.16, -0.16, -0.61, 0.25, 1.09, -0.4, 0.19, 0.36, 0.39, 0.01, -0.36, 0.59, 0.33, 0.58, 0.75, -0.16, 0.54, 0.34, 1.31, 0.77, 0.75, 0.85, 0.39, 0.96, 1.06, 1.25, 1.5, 0.47, 1.98, 1.73, 2.11, 1.54, 1.43, 2.21, 2.34, 2.2, 1.56, 2.04, 2.0, 3.24, 2.51, 2.15], \"yaxis\": \"y\"}, {\"hoverlabel\": {\"namelength\": 0}, \"hovertemplate\": \"Sector=44N-64N<br>Year=%{x}<br>Temperature=%{y}\", \"legendgroup\": \"Sector=44N-64N\", \"line\": {\"color\": \"#EF553B\", \"dash\": \"solid\"}, \"mode\": \"lines\", \"name\": \"Sector=44N-64N\", \"showlegend\": true, \"type\": \"scattergl\", \"x\": [1880, 1881, 1882, 1883, 1884, 1885, 1886, 1887, 1888, 1889, 1890, 1891, 1892, 1893, 1894, 1895, 1896, 1897, 1898, 1899, 1900, 1901, 1902, 1903, 1904, 1905, 1906, 1907, 1908, 1909, 1910, 1911, 1912, 1913, 1914, 1915, 1916, 1917, 1918, 1919, 1920, 1921, 1922, 1923, 1924, 1925, 1926, 1927, 1928, 1929, 1930, 1931, 1932, 1933, 1934, 1935, 1936, 1937, 1938, 1939, 1940, 1941, 1942, 1943, 1944, 1945, 1946, 1947, 1948, 1949, 1950, 1951, 1952, 1953, 1954, 1955, 1956, 1957, 1958, 1959, 1960, 1961, 1962, 1963, 1964, 1965, 1966, 1967, 1968, 1969, 1970, 1971, 1972, 1973, 1974, 1975, 1976, 1977, 1978, 1979, 1980, 1981, 1982, 1983, 1984, 1985, 1986, 1987, 1988, 1989, 1990, 1991, 1992, 1993, 1994, 1995, 1996, 1997, 1998, 1999, 2000, 2001, 2002, 2003, 2004, 2005, 2006, 2007, 2008, 2009, 2010, 2011, 2012, 2013, 2014, 2015, 2016, 2017, 2018], \"xaxis\": \"x\", \"y\": [-0.45, -0.42, -0.24, -0.53, -0.64, -0.66, -0.48, -0.49, -0.4, -0.21, -0.57, -0.32, -0.63, -0.54, -0.32, -0.51, -0.34, -0.45, -0.18, -0.07, -0.11, -0.09, -0.5, -0.4, -0.58, -0.21, -0.04, -0.71, -0.52, -0.6, -0.22, -0.4, -0.77, -0.32, -0.15, -0.15, -0.53, -0.49, -0.26, -0.55, -0.19, 0.18, -0.39, -0.14, -0.24, 0.19, 0.17, -0.21, -0.16, -0.61, 0.04, -0.04, 0.2, -0.47, 0.31, -0.05, 0.1, 0.02, 0.38, 0.28, -0.02, -0.1, -0.06, 0.27, 0.46, -0.03, -0.05, -0.13, 0.31, 0.16, -0.31, 0.01, -0.09, 0.35, -0.21, -0.11, -0.47, 0.22, 0.15, 0.18, -0.07, 0.38, 0.31, 0.31, -0.2, -0.24, -0.19, 0.26, -0.02, -0.61, -0.13, 0.01, -0.47, 0.27, -0.07, 0.39, -0.32, 0.24, 0.03, 0.06, 0.02, 0.78, 0.09, 0.69, 0.08, -0.27, 0.27, 0.13, 0.57, 0.69, 0.88, 0.66, 0.44, 0.29, 0.5, 0.99, 0.17, 0.9, 0.94, 0.8, 0.8, 0.86, 1.0, 0.98, 0.96, 1.22, 1.06, 1.32, 1.08, 0.6, 0.87, 0.94, 0.93, 1.05, 1.12, 1.47, 1.43, 1.37, 1.09], \"yaxis\": \"y\"}, {\"hoverlabel\": {\"namelength\": 0}, \"hovertemplate\": \"Sector=24N-44N<br>Year=%{x}<br>Temperature=%{y}\", \"legendgroup\": \"Sector=24N-44N\", \"line\": {\"color\": \"#00cc96\", \"dash\": \"solid\"}, \"mode\": \"lines\", \"name\": \"Sector=24N-44N\", \"showlegend\": true, \"type\": \"scattergl\", \"x\": [1880, 1881, 1882, 1883, 1884, 1885, 1886, 1887, 1888, 1889, 1890, 1891, 1892, 1893, 1894, 1895, 1896, 1897, 1898, 1899, 1900, 1901, 1902, 1903, 1904, 1905, 1906, 1907, 1908, 1909, 1910, 1911, 1912, 1913, 1914, 1915, 1916, 1917, 1918, 1919, 1920, 1921, 1922, 1923, 1924, 1925, 1926, 1927, 1928, 1929, 1930, 1931, 1932, 1933, 1934, 1935, 1936, 1937, 1938, 1939, 1940, 1941, 1942, 1943, 1944, 1945, 1946, 1947, 1948, 1949, 1950, 1951, 1952, 1953, 1954, 1955, 1956, 1957, 1958, 1959, 1960, 1961, 1962, 1963, 1964, 1965, 1966, 1967, 1968, 1969, 1970, 1971, 1972, 1973, 1974, 1975, 1976, 1977, 1978, 1979, 1980, 1981, 1982, 1983, 1984, 1985, 1986, 1987, 1988, 1989, 1990, 1991, 1992, 1993, 1994, 1995, 1996, 1997, 1998, 1999, 2000, 2001, 2002, 2003, 2004, 2005, 2006, 2007, 2008, 2009, 2010, 2011, 2012, 2013, 2014, 2015, 2016, 2017, 2018], \"xaxis\": \"x\", \"y\": [-0.26, -0.17, -0.11, -0.23, -0.43, -0.42, -0.37, -0.26, -0.21, -0.25, -0.25, -0.34, -0.15, -0.44, -0.15, -0.24, -0.19, -0.21, -0.2, -0.12, -0.13, -0.12, -0.3, -0.53, -0.53, -0.6, -0.37, -0.5, -0.5, -0.42, -0.47, -0.45, -0.48, -0.49, -0.26, -0.17, -0.22, -0.41, -0.33, -0.28, -0.33, -0.07, -0.12, -0.24, -0.21, -0.17, -0.2, -0.11, -0.22, -0.37, -0.09, -0.13, -0.19, -0.1, -0.11, -0.15, -0.24, -0.01, 0.04, 0.09, -0.08, 0.09, 0.07, 0.11, 0.1, 0.04, 0.17, 0.05, 0.01, 0.05, 0.04, 0.12, 0.19, 0.14, 0.01, 0.23, -0.09, -0.11, 0.12, 0.05, 0.11, 0.18, 0.14, 0.13, -0.12, -0.12, 0.08, -0.05, -0.09, -0.17, -0.06, -0.1, -0.25, 0.02, -0.18, -0.05, -0.28, 0.06, -0.04, 0.09, 0.02, 0.08, -0.09, -0.07, -0.14, -0.01, 0.03, 0.12, 0.24, 0.25, 0.49, 0.26, -0.03, -0.11, 0.42, 0.32, 0.1, 0.23, 0.66, 0.74, 0.55, 0.69, 0.58, 0.54, 0.66, 0.57, 0.7, 0.69, 0.62, 0.69, 0.74, 0.58, 0.74, 0.69, 0.73, 0.99, 1.07, 1.04, 1.05], \"yaxis\": \"y\"}, {\"hoverlabel\": {\"namelength\": 0}, \"hovertemplate\": \"Sector=EQU-24N<br>Year=%{x}<br>Temperature=%{y}\", \"legendgroup\": \"Sector=EQU-24N\", \"line\": {\"color\": \"#ab63fa\", \"dash\": \"solid\"}, \"mode\": \"lines\", \"name\": \"Sector=EQU-24N\", \"showlegend\": true, \"type\": \"scattergl\", \"x\": [1880, 1881, 1882, 1883, 1884, 1885, 1886, 1887, 1888, 1889, 1890, 1891, 1892, 1893, 1894, 1895, 1896, 1897, 1898, 1899, 1900, 1901, 1902, 1903, 1904, 1905, 1906, 1907, 1908, 1909, 1910, 1911, 1912, 1913, 1914, 1915, 1916, 1917, 1918, 1919, 1920, 1921, 1922, 1923, 1924, 1925, 1926, 1927, 1928, 1929, 1930, 1931, 1932, 1933, 1934, 1935, 1936, 1937, 1938, 1939, 1940, 1941, 1942, 1943, 1944, 1945, 1946, 1947, 1948, 1949, 1950, 1951, 1952, 1953, 1954, 1955, 1956, 1957, 1958, 1959, 1960, 1961, 1962, 1963, 1964, 1965, 1966, 1967, 1968, 1969, 1970, 1971, 1972, 1973, 1974, 1975, 1976, 1977, 1978, 1979, 1980, 1981, 1982, 1983, 1984, 1985, 1986, 1987, 1988, 1989, 1990, 1991, 1992, 1993, 1994, 1995, 1996, 1997, 1998, 1999, 2000, 2001, 2002, 2003, 2004, 2005, 2006, 2007, 2008, 2009, 2010, 2011, 2012, 2013, 2014, 2015, 2016, 2017, 2018], \"xaxis\": \"x\", \"y\": [-0.15, 0.1, -0.04, -0.17, -0.12, -0.04, -0.18, -0.27, 0.1, 0.04, -0.24, 0.03, -0.3, -0.4, -0.45, -0.11, 0.08, 0.16, -0.16, -0.15, 0.12, -0.04, -0.01, -0.23, -0.43, -0.1, -0.2, -0.3, -0.42, -0.43, -0.49, -0.43, -0.28, -0.39, -0.11, -0.01, -0.49, -0.69, -0.38, -0.23, -0.37, -0.29, -0.32, -0.32, -0.27, -0.29, 0.0, -0.15, -0.16, -0.28, -0.1, 0.1, -0.19, -0.29, -0.27, -0.18, -0.06, 0.0, -0.18, -0.12, 0.27, 0.54, 0.11, -0.11, 0.1, 0.09, -0.03, -0.04, -0.23, -0.24, -0.31, -0.01, -0.02, 0.08, -0.14, -0.3, -0.29, 0.05, 0.26, 0.07, 0.06, -0.07, -0.05, 0.13, -0.14, -0.08, 0.16, -0.11, -0.02, 0.35, 0.07, -0.29, 0.07, 0.08, -0.23, -0.3, -0.12, 0.1, 0.11, 0.26, 0.33, 0.22, 0.25, 0.3, 0.08, 0.05, 0.18, 0.55, 0.33, 0.07, 0.38, 0.33, 0.2, 0.29, 0.29, 0.41, 0.32, 0.5, 0.6, 0.16, 0.21, 0.41, 0.56, 0.62, 0.57, 0.63, 0.57, 0.45, 0.34, 0.66, 0.73, 0.39, 0.48, 0.59, 0.69, 0.98, 0.96, 0.87, 0.73], \"yaxis\": \"y\"}, {\"hoverlabel\": {\"namelength\": 0}, \"hovertemplate\": \"Sector=24S-EQU<br>Year=%{x}<br>Temperature=%{y}\", \"legendgroup\": \"Sector=24S-EQU\", \"line\": {\"color\": \"#FFA15A\", \"dash\": \"solid\"}, \"mode\": \"lines\", \"name\": \"Sector=24S-EQU\", \"showlegend\": true, \"type\": \"scattergl\", \"x\": [1880, 1881, 1882, 1883, 1884, 1885, 1886, 1887, 1888, 1889, 1890, 1891, 1892, 1893, 1894, 1895, 1896, 1897, 1898, 1899, 1900, 1901, 1902, 1903, 1904, 1905, 1906, 1907, 1908, 1909, 1910, 1911, 1912, 1913, 1914, 1915, 1916, 1917, 1918, 1919, 1920, 1921, 1922, 1923, 1924, 1925, 1926, 1927, 1928, 1929, 1930, 1931, 1932, 1933, 1934, 1935, 1936, 1937, 1938, 1939, 1940, 1941, 1942, 1943, 1944, 1945, 1946, 1947, 1948, 1949, 1950, 1951, 1952, 1953, 1954, 1955, 1956, 1957, 1958, 1959, 1960, 1961, 1962, 1963, 1964, 1965, 1966, 1967, 1968, 1969, 1970, 1971, 1972, 1973, 1974, 1975, 1976, 1977, 1978, 1979, 1980, 1981, 1982, 1983, 1984, 1985, 1986, 1987, 1988, 1989, 1990, 1991, 1992, 1993, 1994, 1995, 1996, 1997, 1998, 1999, 2000, 2001, 2002, 2003, 2004, 2005, 2006, 2007, 2008, 2009, 2010, 2011, 2012, 2013, 2014, 2015, 2016, 2017, 2018], \"xaxis\": \"x\", \"y\": [-0.1, 0.11, -0.05, -0.15, -0.16, -0.2, -0.18, -0.3, 0.12, 0.14, -0.48, -0.17, -0.27, -0.31, -0.19, 0.0, 0.13, 0.19, -0.28, -0.09, 0.24, -0.03, -0.07, -0.35, -0.51, -0.07, -0.2, -0.33, -0.47, -0.54, -0.5, -0.44, -0.1, -0.16, -0.03, -0.03, -0.42, -0.6, -0.29, -0.18, -0.15, -0.23, -0.33, -0.28, -0.26, -0.21, 0.01, -0.19, -0.17, -0.29, -0.14, 0.04, -0.15, -0.29, -0.25, -0.21, -0.22, -0.12, -0.29, -0.14, 0.28, 0.43, 0.02, -0.08, 0.25, 0.23, -0.08, -0.1, -0.15, -0.16, -0.29, -0.13, 0.03, 0.06, -0.29, -0.39, -0.38, 0.1, 0.15, 0.07, -0.03, 0.0, -0.05, 0.1, -0.14, 0.02, 0.0, -0.17, -0.1, 0.32, 0.07, -0.22, 0.27, 0.3, -0.16, -0.16, -0.1, 0.22, 0.05, 0.27, 0.29, 0.15, 0.29, 0.58, 0.3, 0.14, 0.28, 0.62, 0.43, 0.19, 0.37, 0.41, 0.37, 0.36, 0.35, 0.46, 0.33, 0.53, 0.8, 0.26, 0.29, 0.45, 0.64, 0.67, 0.55, 0.63, 0.56, 0.49, 0.43, 0.72, 0.66, 0.36, 0.58, 0.59, 0.66, 0.95, 1.07, 0.78, 0.63], \"yaxis\": \"y\"}, {\"hoverlabel\": {\"namelength\": 0}, \"hovertemplate\": \"Sector=44S-24S<br>Year=%{x}<br>Temperature=%{y}\", \"legendgroup\": \"Sector=44S-24S\", \"line\": {\"color\": \"#19d3f3\", \"dash\": \"solid\"}, \"mode\": \"lines\", \"name\": \"Sector=44S-24S\", \"showlegend\": true, \"type\": \"scattergl\", \"x\": [1880, 1881, 1882, 1883, 1884, 1885, 1886, 1887, 1888, 1889, 1890, 1891, 1892, 1893, 1894, 1895, 1896, 1897, 1898, 1899, 1900, 1901, 1902, 1903, 1904, 1905, 1906, 1907, 1908, 1909, 1910, 1911, 1912, 1913, 1914, 1915, 1916, 1917, 1918, 1919, 1920, 1921, 1922, 1923, 1924, 1925, 1926, 1927, 1928, 1929, 1930, 1931, 1932, 1933, 1934, 1935, 1936, 1937, 1938, 1939, 1940, 1941, 1942, 1943, 1944, 1945, 1946, 1947, 1948, 1949, 1950, 1951, 1952, 1953, 1954, 1955, 1956, 1957, 1958, 1959, 1960, 1961, 1962, 1963, 1964, 1965, 1966, 1967, 1968, 1969, 1970, 1971, 1972, 1973, 1974, 1975, 1976, 1977, 1978, 1979, 1980, 1981, 1982, 1983, 1984, 1985, 1986, 1987, 1988, 1989, 1990, 1991, 1992, 1993, 1994, 1995, 1996, 1997, 1998, 1999, 2000, 2001, 2002, 2003, 2004, 2005, 2006, 2007, 2008, 2009, 2010, 2011, 2012, 2013, 2014, 2015, 2016, 2017, 2018], \"xaxis\": \"x\", \"y\": [-0.04, -0.05, 0.01, -0.04, -0.19, -0.34, -0.2, -0.28, -0.31, -0.16, -0.18, -0.18, 0.02, 0.06, -0.15, -0.2, -0.15, -0.19, -0.28, -0.16, -0.29, -0.28, -0.28, -0.35, -0.37, -0.33, -0.21, -0.21, -0.29, -0.38, -0.33, -0.44, -0.37, -0.28, -0.16, -0.15, -0.23, -0.23, -0.06, -0.15, -0.19, -0.23, -0.24, -0.26, -0.4, -0.24, -0.35, -0.3, -0.29, -0.43, -0.33, -0.42, -0.21, -0.22, -0.16, -0.31, -0.27, -0.19, -0.06, -0.04, 0.03, 0.04, 0.06, 0.07, 0.19, 0.04, -0.22, -0.19, -0.19, -0.17, -0.06, -0.22, -0.1, -0.08, -0.18, -0.16, -0.14, -0.09, -0.08, -0.03, -0.1, 0.14, 0.09, -0.1, -0.3, -0.23, -0.24, -0.09, -0.14, 0.0, 0.11, 0.03, 0.16, 0.22, 0.22, 0.13, 0.1, 0.21, 0.21, 0.29, 0.35, 0.28, 0.18, 0.21, 0.16, 0.3, 0.25, 0.32, 0.38, 0.36, 0.38, 0.31, 0.2, 0.27, 0.26, 0.29, 0.33, 0.42, 0.39, 0.46, 0.42, 0.58, 0.49, 0.44, 0.48, 0.49, 0.51, 0.5, 0.53, 0.6, 0.63, 0.64, 0.56, 0.63, 0.72, 0.75, 0.67, 0.76, 0.8], \"yaxis\": \"y\"}, {\"hoverlabel\": {\"namelength\": 0}, \"hovertemplate\": \"Sector=64S-44S<br>Year=%{x}<br>Temperature=%{y}\", \"legendgroup\": \"Sector=64S-44S\", \"line\": {\"color\": \"#FF6692\", \"dash\": \"solid\"}, \"mode\": \"lines\", \"name\": \"Sector=64S-44S\", \"showlegend\": true, \"type\": \"scattergl\", \"x\": [1880, 1881, 1882, 1883, 1884, 1885, 1886, 1887, 1888, 1889, 1890, 1891, 1892, 1893, 1894, 1895, 1896, 1897, 1898, 1899, 1900, 1901, 1902, 1903, 1904, 1905, 1906, 1907, 1908, 1909, 1910, 1911, 1912, 1913, 1914, 1915, 1916, 1917, 1918, 1919, 1920, 1921, 1922, 1923, 1924, 1925, 1926, 1927, 1928, 1929, 1930, 1931, 1932, 1933, 1934, 1935, 1936, 1937, 1938, 1939, 1940, 1941, 1942, 1943, 1944, 1945, 1946, 1947, 1948, 1949, 1950, 1951, 1952, 1953, 1954, 1955, 1956, 1957, 1958, 1959, 1960, 1961, 1962, 1963, 1964, 1965, 1966, 1967, 1968, 1969, 1970, 1971, 1972, 1973, 1974, 1975, 1976, 1977, 1978, 1979, 1980, 1981, 1982, 1983, 1984, 1985, 1986, 1987, 1988, 1989, 1990, 1991, 1992, 1993, 1994, 1995, 1996, 1997, 1998, 1999, 2000, 2001, 2002, 2003, 2004, 2005, 2006, 2007, 2008, 2009, 2010, 2011, 2012, 2013, 2014, 2015, 2016, 2017, 2018], \"xaxis\": \"x\", \"y\": [0.05, -0.07, 0.04, 0.07, -0.02, -0.15, -0.21, -0.26, -0.23, -0.15, -0.27, -0.24, -0.22, -0.2, -0.35, -0.32, -0.13, -0.27, -0.21, -0.22, -0.29, -0.34, -0.43, -0.4, -0.49, -0.37, -0.23, -0.37, -0.48, -0.52, -0.45, -0.53, -0.29, -0.4, -0.18, -0.24, -0.17, -0.1, -0.23, -0.32, -0.48, -0.38, -0.29, -0.41, -0.45, -0.55, -0.45, -0.46, -0.48, -0.45, -0.47, -0.4, -0.53, -0.49, -0.38, -0.42, -0.33, -0.26, -0.11, -0.19, -0.2, -0.15, -0.05, -0.01, -0.1, 0.0, -0.24, -0.08, -0.19, -0.15, -0.16, -0.16, -0.02, -0.24, -0.2, -0.08, 0.02, -0.02, -0.08, -0.26, -0.07, -0.17, -0.07, -0.17, -0.07, -0.03, -0.14, -0.02, 0.0, 0.13, 0.03, 0.16, -0.02, 0.08, -0.08, 0.14, 0.22, 0.31, 0.13, 0.33, 0.37, 0.39, 0.32, 0.41, 0.32, 0.44, 0.25, 0.25, 0.2, 0.3, 0.37, 0.29, 0.33, 0.39, 0.23, 0.15, 0.28, 0.36, 0.31, 0.19, 0.1, 0.24, 0.32, 0.24, 0.23, 0.19, 0.2, 0.07, 0.09, 0.15, 0.2, 0.18, 0.19, 0.23, 0.18, 0.18, 0.26, 0.35, 0.38], \"yaxis\": \"y\"}, {\"hoverlabel\": {\"namelength\": 0}, \"hovertemplate\": \"Sector=90S-64S<br>Year=%{x}<br>Temperature=%{y}\", \"legendgroup\": \"Sector=90S-64S\", \"line\": {\"color\": \"#B6E880\", \"dash\": \"solid\"}, \"mode\": \"lines\", \"name\": \"Sector=90S-64S\", \"showlegend\": true, \"type\": \"scattergl\", \"x\": [1880, 1881, 1882, 1883, 1884, 1885, 1886, 1887, 1888, 1889, 1890, 1891, 1892, 1893, 1894, 1895, 1896, 1897, 1898, 1899, 1900, 1901, 1902, 1903, 1904, 1905, 1906, 1907, 1908, 1909, 1910, 1911, 1912, 1913, 1914, 1915, 1916, 1917, 1918, 1919, 1920, 1921, 1922, 1923, 1924, 1925, 1926, 1927, 1928, 1929, 1930, 1931, 1932, 1933, 1934, 1935, 1936, 1937, 1938, 1939, 1940, 1941, 1942, 1943, 1944, 1945, 1946, 1947, 1948, 1949, 1950, 1951, 1952, 1953, 1954, 1955, 1956, 1957, 1958, 1959, 1960, 1961, 1962, 1963, 1964, 1965, 1966, 1967, 1968, 1969, 1970, 1971, 1972, 1973, 1974, 1975, 1976, 1977, 1978, 1979, 1980, 1981, 1982, 1983, 1984, 1985, 1986, 1987, 1988, 1989, 1990, 1991, 1992, 1993, 1994, 1995, 1996, 1997, 1998, 1999, 2000, 2001, 2002, 2003, 2004, 2005, 2006, 2007, 2008, 2009, 2010, 2011, 2012, 2013, 2014, 2015, 2016, 2017, 2018], \"xaxis\": \"x\", \"y\": [0.63, 0.56, 0.59, 0.46, 0.61, 0.78, 0.55, 0.28, 0.12, 0.41, 0.11, -0.2, 0.05, -0.08, -0.42, -0.62, 0.22, 0.36, 0.34, 0.54, 0.23, 0.22, -0.09, -0.5, -1.32, -0.34, -0.71, -1.2, 0.67, -0.57, 0.16, 0.05, -1.64, -1.04, -0.37, -1.98, -1.05, 0.06, -0.28, 0.19, -1.15, -0.84, -0.28, -0.55, -0.53, -0.86, -0.64, -1.38, -2.12, -1.08, -2.6, -0.41, -0.99, -1.15, -0.57, -1.72, -0.04, 0.36, -0.87, -1.61, -0.06, -0.47, -0.9, 1.13, -0.92, -1.75, -0.14, -0.19, -1.35, -1.95, -0.87, -0.69, -0.49, -1.09, -0.8, 1.22, 0.76, 0.48, -0.47, -0.33, -0.7, 0.25, -0.55, -0.03, -0.4, -0.03, 0.06, 0.29, -0.03, -0.09, 0.26, 0.4, 0.4, 0.33, 0.64, 0.25, -0.28, 0.24, 0.03, -0.21, 0.57, 0.56, -0.12, -0.02, 0.47, 0.0, -0.1, 0.01, 0.78, 0.3, 0.39, 0.89, 0.34, -0.32, -0.06, 0.15, 1.2, 0.01, 0.19, 0.04, 0.27, 0.32, 0.74, 0.45, 0.06, 0.72, 0.44, 1.17, 0.56, 0.91, 0.48, 0.98, 0.26, 0.99, 0.52, -0.34, 0.36, 0.54, 0.93], \"yaxis\": \"y\"}],\n",
              "                        {\"height\": 600, \"legend\": {\"tracegroupgap\": 0}, \"margin\": {\"t\": 60}, \"template\": {\"data\": {\"bar\": [{\"error_x\": {\"color\": \"#2a3f5f\"}, \"error_y\": {\"color\": \"#2a3f5f\"}, \"marker\": {\"line\": {\"color\": \"#E5ECF6\", \"width\": 0.5}}, \"type\": \"bar\"}], \"barpolar\": [{\"marker\": {\"line\": {\"color\": \"#E5ECF6\", \"width\": 0.5}}, \"type\": \"barpolar\"}], \"carpet\": [{\"aaxis\": {\"endlinecolor\": \"#2a3f5f\", \"gridcolor\": \"white\", \"linecolor\": \"white\", \"minorgridcolor\": \"white\", \"startlinecolor\": \"#2a3f5f\"}, \"baxis\": {\"endlinecolor\": \"#2a3f5f\", \"gridcolor\": \"white\", \"linecolor\": \"white\", \"minorgridcolor\": \"white\", \"startlinecolor\": \"#2a3f5f\"}, \"type\": \"carpet\"}], \"choropleth\": [{\"colorbar\": {\"outlinewidth\": 0, \"ticks\": \"\"}, \"type\": \"choropleth\"}], \"contour\": [{\"colorbar\": {\"outlinewidth\": 0, \"ticks\": \"\"}, \"colorscale\": [[0.0, \"#0d0887\"], [0.1111111111111111, \"#46039f\"], [0.2222222222222222, \"#7201a8\"], [0.3333333333333333, \"#9c179e\"], [0.4444444444444444, \"#bd3786\"], [0.5555555555555556, \"#d8576b\"], [0.6666666666666666, \"#ed7953\"], [0.7777777777777778, \"#fb9f3a\"], [0.8888888888888888, \"#fdca26\"], [1.0, \"#f0f921\"]], \"type\": \"contour\"}], \"contourcarpet\": [{\"colorbar\": {\"outlinewidth\": 0, \"ticks\": \"\"}, \"type\": \"contourcarpet\"}], \"heatmap\": [{\"colorbar\": {\"outlinewidth\": 0, \"ticks\": \"\"}, \"colorscale\": [[0.0, \"#0d0887\"], [0.1111111111111111, \"#46039f\"], [0.2222222222222222, \"#7201a8\"], [0.3333333333333333, \"#9c179e\"], [0.4444444444444444, \"#bd3786\"], [0.5555555555555556, \"#d8576b\"], [0.6666666666666666, \"#ed7953\"], [0.7777777777777778, \"#fb9f3a\"], [0.8888888888888888, \"#fdca26\"], [1.0, \"#f0f921\"]], \"type\": \"heatmap\"}], \"heatmapgl\": [{\"colorbar\": {\"outlinewidth\": 0, \"ticks\": \"\"}, \"colorscale\": [[0.0, \"#0d0887\"], [0.1111111111111111, \"#46039f\"], [0.2222222222222222, \"#7201a8\"], [0.3333333333333333, \"#9c179e\"], [0.4444444444444444, \"#bd3786\"], [0.5555555555555556, \"#d8576b\"], [0.6666666666666666, \"#ed7953\"], [0.7777777777777778, \"#fb9f3a\"], [0.8888888888888888, \"#fdca26\"], [1.0, \"#f0f921\"]], \"type\": \"heatmapgl\"}], \"histogram\": [{\"marker\": {\"colorbar\": {\"outlinewidth\": 0, \"ticks\": \"\"}}, \"type\": \"histogram\"}], \"histogram2d\": [{\"colorbar\": {\"outlinewidth\": 0, \"ticks\": \"\"}, \"colorscale\": [[0.0, \"#0d0887\"], [0.1111111111111111, \"#46039f\"], [0.2222222222222222, \"#7201a8\"], [0.3333333333333333, \"#9c179e\"], [0.4444444444444444, \"#bd3786\"], [0.5555555555555556, \"#d8576b\"], [0.6666666666666666, \"#ed7953\"], [0.7777777777777778, \"#fb9f3a\"], [0.8888888888888888, \"#fdca26\"], [1.0, \"#f0f921\"]], \"type\": \"histogram2d\"}], \"histogram2dcontour\": [{\"colorbar\": {\"outlinewidth\": 0, \"ticks\": \"\"}, \"colorscale\": [[0.0, \"#0d0887\"], [0.1111111111111111, \"#46039f\"], [0.2222222222222222, \"#7201a8\"], [0.3333333333333333, \"#9c179e\"], [0.4444444444444444, \"#bd3786\"], [0.5555555555555556, \"#d8576b\"], [0.6666666666666666, \"#ed7953\"], [0.7777777777777778, \"#fb9f3a\"], [0.8888888888888888, \"#fdca26\"], [1.0, \"#f0f921\"]], \"type\": \"histogram2dcontour\"}], \"mesh3d\": [{\"colorbar\": {\"outlinewidth\": 0, \"ticks\": \"\"}, \"type\": \"mesh3d\"}], \"parcoords\": [{\"line\": {\"colorbar\": {\"outlinewidth\": 0, \"ticks\": \"\"}}, \"type\": \"parcoords\"}], \"pie\": [{\"automargin\": true, \"type\": \"pie\"}], \"scatter\": [{\"marker\": {\"colorbar\": {\"outlinewidth\": 0, \"ticks\": \"\"}}, \"type\": \"scatter\"}], \"scatter3d\": [{\"line\": {\"colorbar\": {\"outlinewidth\": 0, \"ticks\": \"\"}}, \"marker\": {\"colorbar\": {\"outlinewidth\": 0, \"ticks\": \"\"}}, \"type\": \"scatter3d\"}], \"scattercarpet\": [{\"marker\": {\"colorbar\": {\"outlinewidth\": 0, \"ticks\": \"\"}}, \"type\": \"scattercarpet\"}], \"scattergeo\": [{\"marker\": {\"colorbar\": {\"outlinewidth\": 0, \"ticks\": \"\"}}, \"type\": \"scattergeo\"}], \"scattergl\": [{\"marker\": {\"colorbar\": {\"outlinewidth\": 0, \"ticks\": \"\"}}, \"type\": \"scattergl\"}], \"scattermapbox\": [{\"marker\": {\"colorbar\": {\"outlinewidth\": 0, \"ticks\": \"\"}}, \"type\": \"scattermapbox\"}], \"scatterpolar\": [{\"marker\": {\"colorbar\": {\"outlinewidth\": 0, \"ticks\": \"\"}}, \"type\": \"scatterpolar\"}], \"scatterpolargl\": [{\"marker\": {\"colorbar\": {\"outlinewidth\": 0, \"ticks\": \"\"}}, \"type\": \"scatterpolargl\"}], \"scatterternary\": [{\"marker\": {\"colorbar\": {\"outlinewidth\": 0, \"ticks\": \"\"}}, \"type\": \"scatterternary\"}], \"surface\": [{\"colorbar\": {\"outlinewidth\": 0, \"ticks\": \"\"}, \"colorscale\": [[0.0, \"#0d0887\"], [0.1111111111111111, \"#46039f\"], [0.2222222222222222, \"#7201a8\"], [0.3333333333333333, \"#9c179e\"], [0.4444444444444444, \"#bd3786\"], [0.5555555555555556, \"#d8576b\"], [0.6666666666666666, \"#ed7953\"], [0.7777777777777778, \"#fb9f3a\"], [0.8888888888888888, \"#fdca26\"], [1.0, \"#f0f921\"]], \"type\": \"surface\"}], \"table\": [{\"cells\": {\"fill\": {\"color\": \"#EBF0F8\"}, \"line\": {\"color\": \"white\"}}, \"header\": {\"fill\": {\"color\": \"#C8D4E3\"}, \"line\": {\"color\": \"white\"}}, \"type\": \"table\"}]}, \"layout\": {\"annotationdefaults\": {\"arrowcolor\": \"#2a3f5f\", \"arrowhead\": 0, \"arrowwidth\": 1}, \"coloraxis\": {\"colorbar\": {\"outlinewidth\": 0, \"ticks\": \"\"}}, \"colorscale\": {\"diverging\": [[0, \"#8e0152\"], [0.1, \"#c51b7d\"], [0.2, \"#de77ae\"], [0.3, \"#f1b6da\"], [0.4, \"#fde0ef\"], [0.5, \"#f7f7f7\"], [0.6, \"#e6f5d0\"], [0.7, \"#b8e186\"], [0.8, \"#7fbc41\"], [0.9, \"#4d9221\"], [1, \"#276419\"]], \"sequential\": [[0.0, \"#0d0887\"], [0.1111111111111111, \"#46039f\"], [0.2222222222222222, \"#7201a8\"], [0.3333333333333333, \"#9c179e\"], [0.4444444444444444, \"#bd3786\"], [0.5555555555555556, \"#d8576b\"], [0.6666666666666666, \"#ed7953\"], [0.7777777777777778, \"#fb9f3a\"], [0.8888888888888888, \"#fdca26\"], [1.0, \"#f0f921\"]], \"sequentialminus\": [[0.0, \"#0d0887\"], [0.1111111111111111, \"#46039f\"], [0.2222222222222222, \"#7201a8\"], [0.3333333333333333, \"#9c179e\"], [0.4444444444444444, \"#bd3786\"], [0.5555555555555556, \"#d8576b\"], [0.6666666666666666, \"#ed7953\"], [0.7777777777777778, \"#fb9f3a\"], [0.8888888888888888, \"#fdca26\"], [1.0, \"#f0f921\"]]}, \"colorway\": [\"#636efa\", \"#EF553B\", \"#00cc96\", \"#ab63fa\", \"#FFA15A\", \"#19d3f3\", \"#FF6692\", \"#B6E880\", \"#FF97FF\", \"#FECB52\"], \"font\": {\"color\": \"#2a3f5f\"}, \"geo\": {\"bgcolor\": \"white\", \"lakecolor\": \"white\", \"landcolor\": \"#E5ECF6\", \"showlakes\": true, \"showland\": true, \"subunitcolor\": \"white\"}, \"hoverlabel\": {\"align\": \"left\"}, \"hovermode\": \"closest\", \"mapbox\": {\"style\": \"light\"}, \"paper_bgcolor\": \"white\", \"plot_bgcolor\": \"#E5ECF6\", \"polar\": {\"angularaxis\": {\"gridcolor\": \"white\", \"linecolor\": \"white\", \"ticks\": \"\"}, \"bgcolor\": \"#E5ECF6\", \"radialaxis\": {\"gridcolor\": \"white\", \"linecolor\": \"white\", \"ticks\": \"\"}}, \"scene\": {\"xaxis\": {\"backgroundcolor\": \"#E5ECF6\", \"gridcolor\": \"white\", \"gridwidth\": 2, \"linecolor\": \"white\", \"showbackground\": true, \"ticks\": \"\", \"zerolinecolor\": \"white\"}, \"yaxis\": {\"backgroundcolor\": \"#E5ECF6\", \"gridcolor\": \"white\", \"gridwidth\": 2, \"linecolor\": \"white\", \"showbackground\": true, \"ticks\": \"\", \"zerolinecolor\": \"white\"}, \"zaxis\": {\"backgroundcolor\": \"#E5ECF6\", \"gridcolor\": \"white\", \"gridwidth\": 2, \"linecolor\": \"white\", \"showbackground\": true, \"ticks\": \"\", \"zerolinecolor\": \"white\"}}, \"shapedefaults\": {\"line\": {\"color\": \"#2a3f5f\"}}, \"ternary\": {\"aaxis\": {\"gridcolor\": \"white\", \"linecolor\": \"white\", \"ticks\": \"\"}, \"baxis\": {\"gridcolor\": \"white\", \"linecolor\": \"white\", \"ticks\": \"\"}, \"bgcolor\": \"#E5ECF6\", \"caxis\": {\"gridcolor\": \"white\", \"linecolor\": \"white\", \"ticks\": \"\"}}, \"title\": {\"x\": 0.05}, \"xaxis\": {\"automargin\": true, \"gridcolor\": \"white\", \"linecolor\": \"white\", \"ticks\": \"\", \"title\": {\"standoff\": 15}, \"zerolinecolor\": \"white\", \"zerolinewidth\": 2}, \"yaxis\": {\"automargin\": true, \"gridcolor\": \"white\", \"linecolor\": \"white\", \"ticks\": \"\", \"title\": {\"standoff\": 15}, \"zerolinecolor\": \"white\", \"zerolinewidth\": 2}}}, \"xaxis\": {\"anchor\": \"y\", \"domain\": [0.0, 1.0], \"title\": {\"text\": \"Year\"}}, \"yaxis\": {\"anchor\": \"x\", \"domain\": [0.0, 1.0], \"title\": {\"text\": \"Temperature\"}}},\n",
              "                        {\"responsive\": true}\n",
              "                    ).then(function(){\n",
              "                            \n",
              "var gd = document.getElementById('240e2669-416b-45e9-8e24-98290382ad22');\n",
              "var x = new MutationObserver(function (mutations, observer) {{\n",
              "        var display = window.getComputedStyle(gd).display;\n",
              "        if (!display || display === 'none') {{\n",
              "            console.log([gd, 'removed!']);\n",
              "            Plotly.purge(gd);\n",
              "            observer.disconnect();\n",
              "        }}\n",
              "}});\n",
              "\n",
              "// Listen for the removal of the full notebook cells\n",
              "var notebookContainer = gd.closest('#notebook-container');\n",
              "if (notebookContainer) {{\n",
              "    x.observe(notebookContainer, {childList: true});\n",
              "}}\n",
              "\n",
              "// Listen for the clearing of the current output cell\n",
              "var outputEl = gd.closest('.output');\n",
              "if (outputEl) {{\n",
              "    x.observe(outputEl, {childList: true});\n",
              "}}\n",
              "\n",
              "                        })\n",
              "                };\n",
              "                \n",
              "            </script>\n",
              "        </div>\n",
              "</body>\n",
              "</html>"
            ]
          },
          "metadata": {
            "tags": []
          }
        }
      ]
    },
    {
      "cell_type": "code",
      "metadata": {
        "id": "37oO46RFwkde",
        "colab_type": "code",
        "colab": {
          "base_uri": "https://localhost:8080/",
          "height": 617
        },
        "outputId": "60fafa32-33ab-4ae1-f38e-957cb2ef601b"
      },
      "source": [
        "px.line(sector_melt, x='Year', y='Temperature', color='Sector',\n",
        "        facet_col='Sector', facet_col_wrap=2)"
      ],
      "execution_count": null,
      "outputs": [
        {
          "output_type": "display_data",
          "data": {
            "text/html": [
              "<html>\n",
              "<head><meta charset=\"utf-8\" /></head>\n",
              "<body>\n",
              "    <div>\n",
              "            <script src=\"https://cdnjs.cloudflare.com/ajax/libs/mathjax/2.7.5/MathJax.js?config=TeX-AMS-MML_SVG\"></script><script type=\"text/javascript\">if (window.MathJax) {MathJax.Hub.Config({SVG: {font: \"STIX-Web\"}});}</script>\n",
              "                <script type=\"text/javascript\">window.PlotlyConfig = {MathJaxConfig: 'local'};</script>\n",
              "        <script src=\"https://cdn.plot.ly/plotly-latest.min.js\"></script>    \n",
              "            <div id=\"a4c9e5db-c7f8-4fce-bf81-378bf7678814\" class=\"plotly-graph-div\" style=\"height:600px; width:100%;\"></div>\n",
              "            <script type=\"text/javascript\">\n",
              "                \n",
              "                    window.PLOTLYENV=window.PLOTLYENV || {};\n",
              "                    \n",
              "                if (document.getElementById(\"a4c9e5db-c7f8-4fce-bf81-378bf7678814\")) {\n",
              "                    Plotly.newPlot(\n",
              "                        'a4c9e5db-c7f8-4fce-bf81-378bf7678814',\n",
              "                        [{\"hoverlabel\": {\"namelength\": 0}, \"hovertemplate\": \"Sector=64N-90N<br>Year=%{x}<br>Temperature=%{y}\", \"legendgroup\": \"Sector=64N-90N\", \"line\": {\"color\": \"#636efa\", \"dash\": \"solid\"}, \"mode\": \"lines\", \"name\": \"Sector=64N-90N\", \"showlegend\": true, \"type\": \"scattergl\", \"x\": [1880, 1881, 1882, 1883, 1884, 1885, 1886, 1887, 1888, 1889, 1890, 1891, 1892, 1893, 1894, 1895, 1896, 1897, 1898, 1899, 1900, 1901, 1902, 1903, 1904, 1905, 1906, 1907, 1908, 1909, 1910, 1911, 1912, 1913, 1914, 1915, 1916, 1917, 1918, 1919, 1920, 1921, 1922, 1923, 1924, 1925, 1926, 1927, 1928, 1929, 1930, 1931, 1932, 1933, 1934, 1935, 1936, 1937, 1938, 1939, 1940, 1941, 1942, 1943, 1944, 1945, 1946, 1947, 1948, 1949, 1950, 1951, 1952, 1953, 1954, 1955, 1956, 1957, 1958, 1959, 1960, 1961, 1962, 1963, 1964, 1965, 1966, 1967, 1968, 1969, 1970, 1971, 1972, 1973, 1974, 1975, 1976, 1977, 1978, 1979, 1980, 1981, 1982, 1983, 1984, 1985, 1986, 1987, 1988, 1989, 1990, 1991, 1992, 1993, 1994, 1995, 1996, 1997, 1998, 1999, 2000, 2001, 2002, 2003, 2004, 2005, 2006, 2007, 2008, 2009, 2010, 2011, 2012, 2013, 2014, 2015, 2016, 2017, 2018], \"xaxis\": \"x7\", \"y\": [-0.83, -0.93, -1.42, -0.21, -1.35, -1.55, -1.63, -1.8, -1.34, -0.72, -1.17, -1.15, -1.15, -0.72, -0.97, -0.68, -0.88, -0.56, -1.13, -1.06, -0.56, -0.45, -1.43, -0.31, -0.2, -0.08, -0.29, -0.61, -0.25, -0.76, -0.58, -0.3, -0.5, -0.5, -0.38, -0.6, -0.49, -0.84, -1.04, -0.72, -0.03, -0.03, -0.32, 0.15, 0.44, -0.09, 0.56, 0.01, 0.71, 0.13, 0.52, 0.57, 0.48, -0.16, 0.88, 0.34, 0.39, 1.23, 1.5, 0.56, 1.0, 0.0, 0.73, 1.42, 1.18, 0.63, -0.02, 1.07, 0.12, 0.2, 0.2, 0.09, 0.27, 1.02, 0.8, -0.24, 0.01, 0.09, -0.17, 0.48, 0.34, -0.15, 0.45, -0.16, -0.67, -0.28, -0.76, 0.36, -0.33, -0.04, -0.21, -0.08, -0.37, 0.07, -0.19, 0.1, -0.07, 0.16, -0.16, -0.61, 0.25, 1.09, -0.4, 0.19, 0.36, 0.39, 0.01, -0.36, 0.59, 0.33, 0.58, 0.75, -0.16, 0.54, 0.34, 1.31, 0.77, 0.75, 0.85, 0.39, 0.96, 1.06, 1.25, 1.5, 0.47, 1.98, 1.73, 2.11, 1.54, 1.43, 2.21, 2.34, 2.2, 1.56, 2.04, 2.0, 3.24, 2.51, 2.15], \"yaxis\": \"y7\"}, {\"hoverlabel\": {\"namelength\": 0}, \"hovertemplate\": \"Sector=44N-64N<br>Year=%{x}<br>Temperature=%{y}\", \"legendgroup\": \"Sector=44N-64N\", \"line\": {\"color\": \"#EF553B\", \"dash\": \"solid\"}, \"mode\": \"lines\", \"name\": \"Sector=44N-64N\", \"showlegend\": true, \"type\": \"scattergl\", \"x\": [1880, 1881, 1882, 1883, 1884, 1885, 1886, 1887, 1888, 1889, 1890, 1891, 1892, 1893, 1894, 1895, 1896, 1897, 1898, 1899, 1900, 1901, 1902, 1903, 1904, 1905, 1906, 1907, 1908, 1909, 1910, 1911, 1912, 1913, 1914, 1915, 1916, 1917, 1918, 1919, 1920, 1921, 1922, 1923, 1924, 1925, 1926, 1927, 1928, 1929, 1930, 1931, 1932, 1933, 1934, 1935, 1936, 1937, 1938, 1939, 1940, 1941, 1942, 1943, 1944, 1945, 1946, 1947, 1948, 1949, 1950, 1951, 1952, 1953, 1954, 1955, 1956, 1957, 1958, 1959, 1960, 1961, 1962, 1963, 1964, 1965, 1966, 1967, 1968, 1969, 1970, 1971, 1972, 1973, 1974, 1975, 1976, 1977, 1978, 1979, 1980, 1981, 1982, 1983, 1984, 1985, 1986, 1987, 1988, 1989, 1990, 1991, 1992, 1993, 1994, 1995, 1996, 1997, 1998, 1999, 2000, 2001, 2002, 2003, 2004, 2005, 2006, 2007, 2008, 2009, 2010, 2011, 2012, 2013, 2014, 2015, 2016, 2017, 2018], \"xaxis\": \"x8\", \"y\": [-0.45, -0.42, -0.24, -0.53, -0.64, -0.66, -0.48, -0.49, -0.4, -0.21, -0.57, -0.32, -0.63, -0.54, -0.32, -0.51, -0.34, -0.45, -0.18, -0.07, -0.11, -0.09, -0.5, -0.4, -0.58, -0.21, -0.04, -0.71, -0.52, -0.6, -0.22, -0.4, -0.77, -0.32, -0.15, -0.15, -0.53, -0.49, -0.26, -0.55, -0.19, 0.18, -0.39, -0.14, -0.24, 0.19, 0.17, -0.21, -0.16, -0.61, 0.04, -0.04, 0.2, -0.47, 0.31, -0.05, 0.1, 0.02, 0.38, 0.28, -0.02, -0.1, -0.06, 0.27, 0.46, -0.03, -0.05, -0.13, 0.31, 0.16, -0.31, 0.01, -0.09, 0.35, -0.21, -0.11, -0.47, 0.22, 0.15, 0.18, -0.07, 0.38, 0.31, 0.31, -0.2, -0.24, -0.19, 0.26, -0.02, -0.61, -0.13, 0.01, -0.47, 0.27, -0.07, 0.39, -0.32, 0.24, 0.03, 0.06, 0.02, 0.78, 0.09, 0.69, 0.08, -0.27, 0.27, 0.13, 0.57, 0.69, 0.88, 0.66, 0.44, 0.29, 0.5, 0.99, 0.17, 0.9, 0.94, 0.8, 0.8, 0.86, 1.0, 0.98, 0.96, 1.22, 1.06, 1.32, 1.08, 0.6, 0.87, 0.94, 0.93, 1.05, 1.12, 1.47, 1.43, 1.37, 1.09], \"yaxis\": \"y8\"}, {\"hoverlabel\": {\"namelength\": 0}, \"hovertemplate\": \"Sector=24N-44N<br>Year=%{x}<br>Temperature=%{y}\", \"legendgroup\": \"Sector=24N-44N\", \"line\": {\"color\": \"#00cc96\", \"dash\": \"solid\"}, \"mode\": \"lines\", \"name\": \"Sector=24N-44N\", \"showlegend\": true, \"type\": \"scattergl\", \"x\": [1880, 1881, 1882, 1883, 1884, 1885, 1886, 1887, 1888, 1889, 1890, 1891, 1892, 1893, 1894, 1895, 1896, 1897, 1898, 1899, 1900, 1901, 1902, 1903, 1904, 1905, 1906, 1907, 1908, 1909, 1910, 1911, 1912, 1913, 1914, 1915, 1916, 1917, 1918, 1919, 1920, 1921, 1922, 1923, 1924, 1925, 1926, 1927, 1928, 1929, 1930, 1931, 1932, 1933, 1934, 1935, 1936, 1937, 1938, 1939, 1940, 1941, 1942, 1943, 1944, 1945, 1946, 1947, 1948, 1949, 1950, 1951, 1952, 1953, 1954, 1955, 1956, 1957, 1958, 1959, 1960, 1961, 1962, 1963, 1964, 1965, 1966, 1967, 1968, 1969, 1970, 1971, 1972, 1973, 1974, 1975, 1976, 1977, 1978, 1979, 1980, 1981, 1982, 1983, 1984, 1985, 1986, 1987, 1988, 1989, 1990, 1991, 1992, 1993, 1994, 1995, 1996, 1997, 1998, 1999, 2000, 2001, 2002, 2003, 2004, 2005, 2006, 2007, 2008, 2009, 2010, 2011, 2012, 2013, 2014, 2015, 2016, 2017, 2018], \"xaxis\": \"x5\", \"y\": [-0.26, -0.17, -0.11, -0.23, -0.43, -0.42, -0.37, -0.26, -0.21, -0.25, -0.25, -0.34, -0.15, -0.44, -0.15, -0.24, -0.19, -0.21, -0.2, -0.12, -0.13, -0.12, -0.3, -0.53, -0.53, -0.6, -0.37, -0.5, -0.5, -0.42, -0.47, -0.45, -0.48, -0.49, -0.26, -0.17, -0.22, -0.41, -0.33, -0.28, -0.33, -0.07, -0.12, -0.24, -0.21, -0.17, -0.2, -0.11, -0.22, -0.37, -0.09, -0.13, -0.19, -0.1, -0.11, -0.15, -0.24, -0.01, 0.04, 0.09, -0.08, 0.09, 0.07, 0.11, 0.1, 0.04, 0.17, 0.05, 0.01, 0.05, 0.04, 0.12, 0.19, 0.14, 0.01, 0.23, -0.09, -0.11, 0.12, 0.05, 0.11, 0.18, 0.14, 0.13, -0.12, -0.12, 0.08, -0.05, -0.09, -0.17, -0.06, -0.1, -0.25, 0.02, -0.18, -0.05, -0.28, 0.06, -0.04, 0.09, 0.02, 0.08, -0.09, -0.07, -0.14, -0.01, 0.03, 0.12, 0.24, 0.25, 0.49, 0.26, -0.03, -0.11, 0.42, 0.32, 0.1, 0.23, 0.66, 0.74, 0.55, 0.69, 0.58, 0.54, 0.66, 0.57, 0.7, 0.69, 0.62, 0.69, 0.74, 0.58, 0.74, 0.69, 0.73, 0.99, 1.07, 1.04, 1.05], \"yaxis\": \"y5\"}, {\"hoverlabel\": {\"namelength\": 0}, \"hovertemplate\": \"Sector=EQU-24N<br>Year=%{x}<br>Temperature=%{y}\", \"legendgroup\": \"Sector=EQU-24N\", \"line\": {\"color\": \"#ab63fa\", \"dash\": \"solid\"}, \"mode\": \"lines\", \"name\": \"Sector=EQU-24N\", \"showlegend\": true, \"type\": \"scattergl\", \"x\": [1880, 1881, 1882, 1883, 1884, 1885, 1886, 1887, 1888, 1889, 1890, 1891, 1892, 1893, 1894, 1895, 1896, 1897, 1898, 1899, 1900, 1901, 1902, 1903, 1904, 1905, 1906, 1907, 1908, 1909, 1910, 1911, 1912, 1913, 1914, 1915, 1916, 1917, 1918, 1919, 1920, 1921, 1922, 1923, 1924, 1925, 1926, 1927, 1928, 1929, 1930, 1931, 1932, 1933, 1934, 1935, 1936, 1937, 1938, 1939, 1940, 1941, 1942, 1943, 1944, 1945, 1946, 1947, 1948, 1949, 1950, 1951, 1952, 1953, 1954, 1955, 1956, 1957, 1958, 1959, 1960, 1961, 1962, 1963, 1964, 1965, 1966, 1967, 1968, 1969, 1970, 1971, 1972, 1973, 1974, 1975, 1976, 1977, 1978, 1979, 1980, 1981, 1982, 1983, 1984, 1985, 1986, 1987, 1988, 1989, 1990, 1991, 1992, 1993, 1994, 1995, 1996, 1997, 1998, 1999, 2000, 2001, 2002, 2003, 2004, 2005, 2006, 2007, 2008, 2009, 2010, 2011, 2012, 2013, 2014, 2015, 2016, 2017, 2018], \"xaxis\": \"x6\", \"y\": [-0.15, 0.1, -0.04, -0.17, -0.12, -0.04, -0.18, -0.27, 0.1, 0.04, -0.24, 0.03, -0.3, -0.4, -0.45, -0.11, 0.08, 0.16, -0.16, -0.15, 0.12, -0.04, -0.01, -0.23, -0.43, -0.1, -0.2, -0.3, -0.42, -0.43, -0.49, -0.43, -0.28, -0.39, -0.11, -0.01, -0.49, -0.69, -0.38, -0.23, -0.37, -0.29, -0.32, -0.32, -0.27, -0.29, 0.0, -0.15, -0.16, -0.28, -0.1, 0.1, -0.19, -0.29, -0.27, -0.18, -0.06, 0.0, -0.18, -0.12, 0.27, 0.54, 0.11, -0.11, 0.1, 0.09, -0.03, -0.04, -0.23, -0.24, -0.31, -0.01, -0.02, 0.08, -0.14, -0.3, -0.29, 0.05, 0.26, 0.07, 0.06, -0.07, -0.05, 0.13, -0.14, -0.08, 0.16, -0.11, -0.02, 0.35, 0.07, -0.29, 0.07, 0.08, -0.23, -0.3, -0.12, 0.1, 0.11, 0.26, 0.33, 0.22, 0.25, 0.3, 0.08, 0.05, 0.18, 0.55, 0.33, 0.07, 0.38, 0.33, 0.2, 0.29, 0.29, 0.41, 0.32, 0.5, 0.6, 0.16, 0.21, 0.41, 0.56, 0.62, 0.57, 0.63, 0.57, 0.45, 0.34, 0.66, 0.73, 0.39, 0.48, 0.59, 0.69, 0.98, 0.96, 0.87, 0.73], \"yaxis\": \"y6\"}, {\"hoverlabel\": {\"namelength\": 0}, \"hovertemplate\": \"Sector=24S-EQU<br>Year=%{x}<br>Temperature=%{y}\", \"legendgroup\": \"Sector=24S-EQU\", \"line\": {\"color\": \"#FFA15A\", \"dash\": \"solid\"}, \"mode\": \"lines\", \"name\": \"Sector=24S-EQU\", \"showlegend\": true, \"type\": \"scattergl\", \"x\": [1880, 1881, 1882, 1883, 1884, 1885, 1886, 1887, 1888, 1889, 1890, 1891, 1892, 1893, 1894, 1895, 1896, 1897, 1898, 1899, 1900, 1901, 1902, 1903, 1904, 1905, 1906, 1907, 1908, 1909, 1910, 1911, 1912, 1913, 1914, 1915, 1916, 1917, 1918, 1919, 1920, 1921, 1922, 1923, 1924, 1925, 1926, 1927, 1928, 1929, 1930, 1931, 1932, 1933, 1934, 1935, 1936, 1937, 1938, 1939, 1940, 1941, 1942, 1943, 1944, 1945, 1946, 1947, 1948, 1949, 1950, 1951, 1952, 1953, 1954, 1955, 1956, 1957, 1958, 1959, 1960, 1961, 1962, 1963, 1964, 1965, 1966, 1967, 1968, 1969, 1970, 1971, 1972, 1973, 1974, 1975, 1976, 1977, 1978, 1979, 1980, 1981, 1982, 1983, 1984, 1985, 1986, 1987, 1988, 1989, 1990, 1991, 1992, 1993, 1994, 1995, 1996, 1997, 1998, 1999, 2000, 2001, 2002, 2003, 2004, 2005, 2006, 2007, 2008, 2009, 2010, 2011, 2012, 2013, 2014, 2015, 2016, 2017, 2018], \"xaxis\": \"x3\", \"y\": [-0.1, 0.11, -0.05, -0.15, -0.16, -0.2, -0.18, -0.3, 0.12, 0.14, -0.48, -0.17, -0.27, -0.31, -0.19, 0.0, 0.13, 0.19, -0.28, -0.09, 0.24, -0.03, -0.07, -0.35, -0.51, -0.07, -0.2, -0.33, -0.47, -0.54, -0.5, -0.44, -0.1, -0.16, -0.03, -0.03, -0.42, -0.6, -0.29, -0.18, -0.15, -0.23, -0.33, -0.28, -0.26, -0.21, 0.01, -0.19, -0.17, -0.29, -0.14, 0.04, -0.15, -0.29, -0.25, -0.21, -0.22, -0.12, -0.29, -0.14, 0.28, 0.43, 0.02, -0.08, 0.25, 0.23, -0.08, -0.1, -0.15, -0.16, -0.29, -0.13, 0.03, 0.06, -0.29, -0.39, -0.38, 0.1, 0.15, 0.07, -0.03, 0.0, -0.05, 0.1, -0.14, 0.02, 0.0, -0.17, -0.1, 0.32, 0.07, -0.22, 0.27, 0.3, -0.16, -0.16, -0.1, 0.22, 0.05, 0.27, 0.29, 0.15, 0.29, 0.58, 0.3, 0.14, 0.28, 0.62, 0.43, 0.19, 0.37, 0.41, 0.37, 0.36, 0.35, 0.46, 0.33, 0.53, 0.8, 0.26, 0.29, 0.45, 0.64, 0.67, 0.55, 0.63, 0.56, 0.49, 0.43, 0.72, 0.66, 0.36, 0.58, 0.59, 0.66, 0.95, 1.07, 0.78, 0.63], \"yaxis\": \"y3\"}, {\"hoverlabel\": {\"namelength\": 0}, \"hovertemplate\": \"Sector=44S-24S<br>Year=%{x}<br>Temperature=%{y}\", \"legendgroup\": \"Sector=44S-24S\", \"line\": {\"color\": \"#19d3f3\", \"dash\": \"solid\"}, \"mode\": \"lines\", \"name\": \"Sector=44S-24S\", \"showlegend\": true, \"type\": \"scattergl\", \"x\": [1880, 1881, 1882, 1883, 1884, 1885, 1886, 1887, 1888, 1889, 1890, 1891, 1892, 1893, 1894, 1895, 1896, 1897, 1898, 1899, 1900, 1901, 1902, 1903, 1904, 1905, 1906, 1907, 1908, 1909, 1910, 1911, 1912, 1913, 1914, 1915, 1916, 1917, 1918, 1919, 1920, 1921, 1922, 1923, 1924, 1925, 1926, 1927, 1928, 1929, 1930, 1931, 1932, 1933, 1934, 1935, 1936, 1937, 1938, 1939, 1940, 1941, 1942, 1943, 1944, 1945, 1946, 1947, 1948, 1949, 1950, 1951, 1952, 1953, 1954, 1955, 1956, 1957, 1958, 1959, 1960, 1961, 1962, 1963, 1964, 1965, 1966, 1967, 1968, 1969, 1970, 1971, 1972, 1973, 1974, 1975, 1976, 1977, 1978, 1979, 1980, 1981, 1982, 1983, 1984, 1985, 1986, 1987, 1988, 1989, 1990, 1991, 1992, 1993, 1994, 1995, 1996, 1997, 1998, 1999, 2000, 2001, 2002, 2003, 2004, 2005, 2006, 2007, 2008, 2009, 2010, 2011, 2012, 2013, 2014, 2015, 2016, 2017, 2018], \"xaxis\": \"x4\", \"y\": [-0.04, -0.05, 0.01, -0.04, -0.19, -0.34, -0.2, -0.28, -0.31, -0.16, -0.18, -0.18, 0.02, 0.06, -0.15, -0.2, -0.15, -0.19, -0.28, -0.16, -0.29, -0.28, -0.28, -0.35, -0.37, -0.33, -0.21, -0.21, -0.29, -0.38, -0.33, -0.44, -0.37, -0.28, -0.16, -0.15, -0.23, -0.23, -0.06, -0.15, -0.19, -0.23, -0.24, -0.26, -0.4, -0.24, -0.35, -0.3, -0.29, -0.43, -0.33, -0.42, -0.21, -0.22, -0.16, -0.31, -0.27, -0.19, -0.06, -0.04, 0.03, 0.04, 0.06, 0.07, 0.19, 0.04, -0.22, -0.19, -0.19, -0.17, -0.06, -0.22, -0.1, -0.08, -0.18, -0.16, -0.14, -0.09, -0.08, -0.03, -0.1, 0.14, 0.09, -0.1, -0.3, -0.23, -0.24, -0.09, -0.14, 0.0, 0.11, 0.03, 0.16, 0.22, 0.22, 0.13, 0.1, 0.21, 0.21, 0.29, 0.35, 0.28, 0.18, 0.21, 0.16, 0.3, 0.25, 0.32, 0.38, 0.36, 0.38, 0.31, 0.2, 0.27, 0.26, 0.29, 0.33, 0.42, 0.39, 0.46, 0.42, 0.58, 0.49, 0.44, 0.48, 0.49, 0.51, 0.5, 0.53, 0.6, 0.63, 0.64, 0.56, 0.63, 0.72, 0.75, 0.67, 0.76, 0.8], \"yaxis\": \"y4\"}, {\"hoverlabel\": {\"namelength\": 0}, \"hovertemplate\": \"Sector=64S-44S<br>Year=%{x}<br>Temperature=%{y}\", \"legendgroup\": \"Sector=64S-44S\", \"line\": {\"color\": \"#FF6692\", \"dash\": \"solid\"}, \"mode\": \"lines\", \"name\": \"Sector=64S-44S\", \"showlegend\": true, \"type\": \"scattergl\", \"x\": [1880, 1881, 1882, 1883, 1884, 1885, 1886, 1887, 1888, 1889, 1890, 1891, 1892, 1893, 1894, 1895, 1896, 1897, 1898, 1899, 1900, 1901, 1902, 1903, 1904, 1905, 1906, 1907, 1908, 1909, 1910, 1911, 1912, 1913, 1914, 1915, 1916, 1917, 1918, 1919, 1920, 1921, 1922, 1923, 1924, 1925, 1926, 1927, 1928, 1929, 1930, 1931, 1932, 1933, 1934, 1935, 1936, 1937, 1938, 1939, 1940, 1941, 1942, 1943, 1944, 1945, 1946, 1947, 1948, 1949, 1950, 1951, 1952, 1953, 1954, 1955, 1956, 1957, 1958, 1959, 1960, 1961, 1962, 1963, 1964, 1965, 1966, 1967, 1968, 1969, 1970, 1971, 1972, 1973, 1974, 1975, 1976, 1977, 1978, 1979, 1980, 1981, 1982, 1983, 1984, 1985, 1986, 1987, 1988, 1989, 1990, 1991, 1992, 1993, 1994, 1995, 1996, 1997, 1998, 1999, 2000, 2001, 2002, 2003, 2004, 2005, 2006, 2007, 2008, 2009, 2010, 2011, 2012, 2013, 2014, 2015, 2016, 2017, 2018], \"xaxis\": \"x\", \"y\": [0.05, -0.07, 0.04, 0.07, -0.02, -0.15, -0.21, -0.26, -0.23, -0.15, -0.27, -0.24, -0.22, -0.2, -0.35, -0.32, -0.13, -0.27, -0.21, -0.22, -0.29, -0.34, -0.43, -0.4, -0.49, -0.37, -0.23, -0.37, -0.48, -0.52, -0.45, -0.53, -0.29, -0.4, -0.18, -0.24, -0.17, -0.1, -0.23, -0.32, -0.48, -0.38, -0.29, -0.41, -0.45, -0.55, -0.45, -0.46, -0.48, -0.45, -0.47, -0.4, -0.53, -0.49, -0.38, -0.42, -0.33, -0.26, -0.11, -0.19, -0.2, -0.15, -0.05, -0.01, -0.1, 0.0, -0.24, -0.08, -0.19, -0.15, -0.16, -0.16, -0.02, -0.24, -0.2, -0.08, 0.02, -0.02, -0.08, -0.26, -0.07, -0.17, -0.07, -0.17, -0.07, -0.03, -0.14, -0.02, 0.0, 0.13, 0.03, 0.16, -0.02, 0.08, -0.08, 0.14, 0.22, 0.31, 0.13, 0.33, 0.37, 0.39, 0.32, 0.41, 0.32, 0.44, 0.25, 0.25, 0.2, 0.3, 0.37, 0.29, 0.33, 0.39, 0.23, 0.15, 0.28, 0.36, 0.31, 0.19, 0.1, 0.24, 0.32, 0.24, 0.23, 0.19, 0.2, 0.07, 0.09, 0.15, 0.2, 0.18, 0.19, 0.23, 0.18, 0.18, 0.26, 0.35, 0.38], \"yaxis\": \"y\"}, {\"hoverlabel\": {\"namelength\": 0}, \"hovertemplate\": \"Sector=90S-64S<br>Year=%{x}<br>Temperature=%{y}\", \"legendgroup\": \"Sector=90S-64S\", \"line\": {\"color\": \"#B6E880\", \"dash\": \"solid\"}, \"mode\": \"lines\", \"name\": \"Sector=90S-64S\", \"showlegend\": true, \"type\": \"scattergl\", \"x\": [1880, 1881, 1882, 1883, 1884, 1885, 1886, 1887, 1888, 1889, 1890, 1891, 1892, 1893, 1894, 1895, 1896, 1897, 1898, 1899, 1900, 1901, 1902, 1903, 1904, 1905, 1906, 1907, 1908, 1909, 1910, 1911, 1912, 1913, 1914, 1915, 1916, 1917, 1918, 1919, 1920, 1921, 1922, 1923, 1924, 1925, 1926, 1927, 1928, 1929, 1930, 1931, 1932, 1933, 1934, 1935, 1936, 1937, 1938, 1939, 1940, 1941, 1942, 1943, 1944, 1945, 1946, 1947, 1948, 1949, 1950, 1951, 1952, 1953, 1954, 1955, 1956, 1957, 1958, 1959, 1960, 1961, 1962, 1963, 1964, 1965, 1966, 1967, 1968, 1969, 1970, 1971, 1972, 1973, 1974, 1975, 1976, 1977, 1978, 1979, 1980, 1981, 1982, 1983, 1984, 1985, 1986, 1987, 1988, 1989, 1990, 1991, 1992, 1993, 1994, 1995, 1996, 1997, 1998, 1999, 2000, 2001, 2002, 2003, 2004, 2005, 2006, 2007, 2008, 2009, 2010, 2011, 2012, 2013, 2014, 2015, 2016, 2017, 2018], \"xaxis\": \"x2\", \"y\": [0.63, 0.56, 0.59, 0.46, 0.61, 0.78, 0.55, 0.28, 0.12, 0.41, 0.11, -0.2, 0.05, -0.08, -0.42, -0.62, 0.22, 0.36, 0.34, 0.54, 0.23, 0.22, -0.09, -0.5, -1.32, -0.34, -0.71, -1.2, 0.67, -0.57, 0.16, 0.05, -1.64, -1.04, -0.37, -1.98, -1.05, 0.06, -0.28, 0.19, -1.15, -0.84, -0.28, -0.55, -0.53, -0.86, -0.64, -1.38, -2.12, -1.08, -2.6, -0.41, -0.99, -1.15, -0.57, -1.72, -0.04, 0.36, -0.87, -1.61, -0.06, -0.47, -0.9, 1.13, -0.92, -1.75, -0.14, -0.19, -1.35, -1.95, -0.87, -0.69, -0.49, -1.09, -0.8, 1.22, 0.76, 0.48, -0.47, -0.33, -0.7, 0.25, -0.55, -0.03, -0.4, -0.03, 0.06, 0.29, -0.03, -0.09, 0.26, 0.4, 0.4, 0.33, 0.64, 0.25, -0.28, 0.24, 0.03, -0.21, 0.57, 0.56, -0.12, -0.02, 0.47, 0.0, -0.1, 0.01, 0.78, 0.3, 0.39, 0.89, 0.34, -0.32, -0.06, 0.15, 1.2, 0.01, 0.19, 0.04, 0.27, 0.32, 0.74, 0.45, 0.06, 0.72, 0.44, 1.17, 0.56, 0.91, 0.48, 0.98, 0.26, 0.99, 0.52, -0.34, 0.36, 0.54, 0.93], \"yaxis\": \"y2\"}],\n",
              "                        {\"annotations\": [{\"font\": {}, \"showarrow\": false, \"text\": \"Sector=64S-44S\", \"x\": 0.245, \"xanchor\": \"center\", \"xref\": \"paper\", \"y\": 0.1975, \"yanchor\": \"bottom\", \"yref\": \"paper\"}, {\"font\": {}, \"showarrow\": false, \"text\": \"Sector=90S-64S\", \"x\": 0.755, \"xanchor\": \"center\", \"xref\": \"paper\", \"y\": 0.1975, \"yanchor\": \"bottom\", \"yref\": \"paper\"}, {\"font\": {}, \"showarrow\": false, \"text\": \"Sector=24S-EQU\", \"x\": 0.245, \"xanchor\": \"center\", \"xref\": \"paper\", \"y\": 0.465, \"yanchor\": \"bottom\", \"yref\": \"paper\"}, {\"font\": {}, \"showarrow\": false, \"text\": \"Sector=44S-24S\", \"x\": 0.755, \"xanchor\": \"center\", \"xref\": \"paper\", \"y\": 0.465, \"yanchor\": \"bottom\", \"yref\": \"paper\"}, {\"font\": {}, \"showarrow\": false, \"text\": \"Sector=24N-44N\", \"x\": 0.245, \"xanchor\": \"center\", \"xref\": \"paper\", \"y\": 0.7325, \"yanchor\": \"bottom\", \"yref\": \"paper\"}, {\"font\": {}, \"showarrow\": false, \"text\": \"Sector=EQU-24N\", \"x\": 0.755, \"xanchor\": \"center\", \"xref\": \"paper\", \"y\": 0.7325, \"yanchor\": \"bottom\", \"yref\": \"paper\"}, {\"font\": {}, \"showarrow\": false, \"text\": \"Sector=64N-90N\", \"x\": 0.245, \"xanchor\": \"center\", \"xref\": \"paper\", \"y\": 1.0, \"yanchor\": \"bottom\", \"yref\": \"paper\"}, {\"font\": {}, \"showarrow\": false, \"text\": \"Sector=44N-64N\", \"x\": 0.755, \"xanchor\": \"center\", \"xref\": \"paper\", \"y\": 1.0, \"yanchor\": \"bottom\", \"yref\": \"paper\"}], \"height\": 600, \"legend\": {\"tracegroupgap\": 0}, \"margin\": {\"t\": 60}, \"template\": {\"data\": {\"bar\": [{\"error_x\": {\"color\": \"#2a3f5f\"}, \"error_y\": {\"color\": \"#2a3f5f\"}, \"marker\": {\"line\": {\"color\": \"#E5ECF6\", \"width\": 0.5}}, \"type\": \"bar\"}], \"barpolar\": [{\"marker\": {\"line\": {\"color\": \"#E5ECF6\", \"width\": 0.5}}, \"type\": \"barpolar\"}], \"carpet\": [{\"aaxis\": {\"endlinecolor\": \"#2a3f5f\", \"gridcolor\": \"white\", \"linecolor\": \"white\", \"minorgridcolor\": \"white\", \"startlinecolor\": \"#2a3f5f\"}, \"baxis\": {\"endlinecolor\": \"#2a3f5f\", \"gridcolor\": \"white\", \"linecolor\": \"white\", \"minorgridcolor\": \"white\", \"startlinecolor\": \"#2a3f5f\"}, \"type\": \"carpet\"}], \"choropleth\": [{\"colorbar\": {\"outlinewidth\": 0, \"ticks\": \"\"}, \"type\": \"choropleth\"}], \"contour\": [{\"colorbar\": {\"outlinewidth\": 0, \"ticks\": \"\"}, \"colorscale\": [[0.0, \"#0d0887\"], [0.1111111111111111, \"#46039f\"], [0.2222222222222222, \"#7201a8\"], [0.3333333333333333, \"#9c179e\"], [0.4444444444444444, \"#bd3786\"], [0.5555555555555556, \"#d8576b\"], [0.6666666666666666, \"#ed7953\"], [0.7777777777777778, \"#fb9f3a\"], [0.8888888888888888, \"#fdca26\"], [1.0, \"#f0f921\"]], \"type\": \"contour\"}], \"contourcarpet\": [{\"colorbar\": {\"outlinewidth\": 0, \"ticks\": \"\"}, \"type\": \"contourcarpet\"}], \"heatmap\": [{\"colorbar\": {\"outlinewidth\": 0, \"ticks\": \"\"}, \"colorscale\": [[0.0, \"#0d0887\"], [0.1111111111111111, \"#46039f\"], [0.2222222222222222, \"#7201a8\"], [0.3333333333333333, \"#9c179e\"], [0.4444444444444444, \"#bd3786\"], [0.5555555555555556, \"#d8576b\"], [0.6666666666666666, \"#ed7953\"], [0.7777777777777778, \"#fb9f3a\"], [0.8888888888888888, \"#fdca26\"], [1.0, \"#f0f921\"]], \"type\": \"heatmap\"}], \"heatmapgl\": [{\"colorbar\": {\"outlinewidth\": 0, \"ticks\": \"\"}, \"colorscale\": [[0.0, \"#0d0887\"], [0.1111111111111111, \"#46039f\"], [0.2222222222222222, \"#7201a8\"], [0.3333333333333333, \"#9c179e\"], [0.4444444444444444, \"#bd3786\"], [0.5555555555555556, \"#d8576b\"], [0.6666666666666666, \"#ed7953\"], [0.7777777777777778, \"#fb9f3a\"], [0.8888888888888888, \"#fdca26\"], [1.0, \"#f0f921\"]], \"type\": \"heatmapgl\"}], \"histogram\": [{\"marker\": {\"colorbar\": {\"outlinewidth\": 0, \"ticks\": \"\"}}, \"type\": \"histogram\"}], \"histogram2d\": [{\"colorbar\": {\"outlinewidth\": 0, \"ticks\": \"\"}, \"colorscale\": [[0.0, \"#0d0887\"], [0.1111111111111111, \"#46039f\"], [0.2222222222222222, \"#7201a8\"], [0.3333333333333333, \"#9c179e\"], [0.4444444444444444, \"#bd3786\"], [0.5555555555555556, \"#d8576b\"], [0.6666666666666666, \"#ed7953\"], [0.7777777777777778, \"#fb9f3a\"], [0.8888888888888888, \"#fdca26\"], [1.0, \"#f0f921\"]], \"type\": \"histogram2d\"}], \"histogram2dcontour\": [{\"colorbar\": {\"outlinewidth\": 0, \"ticks\": \"\"}, \"colorscale\": [[0.0, \"#0d0887\"], [0.1111111111111111, \"#46039f\"], [0.2222222222222222, \"#7201a8\"], [0.3333333333333333, \"#9c179e\"], [0.4444444444444444, \"#bd3786\"], [0.5555555555555556, \"#d8576b\"], [0.6666666666666666, \"#ed7953\"], [0.7777777777777778, \"#fb9f3a\"], [0.8888888888888888, \"#fdca26\"], [1.0, \"#f0f921\"]], \"type\": \"histogram2dcontour\"}], \"mesh3d\": [{\"colorbar\": {\"outlinewidth\": 0, \"ticks\": \"\"}, \"type\": \"mesh3d\"}], \"parcoords\": [{\"line\": {\"colorbar\": {\"outlinewidth\": 0, \"ticks\": \"\"}}, \"type\": \"parcoords\"}], \"pie\": [{\"automargin\": true, \"type\": \"pie\"}], \"scatter\": [{\"marker\": {\"colorbar\": {\"outlinewidth\": 0, \"ticks\": \"\"}}, \"type\": \"scatter\"}], \"scatter3d\": [{\"line\": {\"colorbar\": {\"outlinewidth\": 0, \"ticks\": \"\"}}, \"marker\": {\"colorbar\": {\"outlinewidth\": 0, \"ticks\": \"\"}}, \"type\": \"scatter3d\"}], \"scattercarpet\": [{\"marker\": {\"colorbar\": {\"outlinewidth\": 0, \"ticks\": \"\"}}, \"type\": \"scattercarpet\"}], \"scattergeo\": [{\"marker\": {\"colorbar\": {\"outlinewidth\": 0, \"ticks\": \"\"}}, \"type\": \"scattergeo\"}], \"scattergl\": [{\"marker\": {\"colorbar\": {\"outlinewidth\": 0, \"ticks\": \"\"}}, \"type\": \"scattergl\"}], \"scattermapbox\": [{\"marker\": {\"colorbar\": {\"outlinewidth\": 0, \"ticks\": \"\"}}, \"type\": \"scattermapbox\"}], \"scatterpolar\": [{\"marker\": {\"colorbar\": {\"outlinewidth\": 0, \"ticks\": \"\"}}, \"type\": \"scatterpolar\"}], \"scatterpolargl\": [{\"marker\": {\"colorbar\": {\"outlinewidth\": 0, \"ticks\": \"\"}}, \"type\": \"scatterpolargl\"}], \"scatterternary\": [{\"marker\": {\"colorbar\": {\"outlinewidth\": 0, \"ticks\": \"\"}}, \"type\": \"scatterternary\"}], \"surface\": [{\"colorbar\": {\"outlinewidth\": 0, \"ticks\": \"\"}, \"colorscale\": [[0.0, \"#0d0887\"], [0.1111111111111111, \"#46039f\"], [0.2222222222222222, \"#7201a8\"], [0.3333333333333333, \"#9c179e\"], [0.4444444444444444, \"#bd3786\"], [0.5555555555555556, \"#d8576b\"], [0.6666666666666666, \"#ed7953\"], [0.7777777777777778, \"#fb9f3a\"], [0.8888888888888888, \"#fdca26\"], [1.0, \"#f0f921\"]], \"type\": \"surface\"}], \"table\": [{\"cells\": {\"fill\": {\"color\": \"#EBF0F8\"}, \"line\": {\"color\": \"white\"}}, \"header\": {\"fill\": {\"color\": \"#C8D4E3\"}, \"line\": {\"color\": \"white\"}}, \"type\": \"table\"}]}, \"layout\": {\"annotationdefaults\": {\"arrowcolor\": \"#2a3f5f\", \"arrowhead\": 0, \"arrowwidth\": 1}, \"coloraxis\": {\"colorbar\": {\"outlinewidth\": 0, \"ticks\": \"\"}}, \"colorscale\": {\"diverging\": [[0, \"#8e0152\"], [0.1, \"#c51b7d\"], [0.2, \"#de77ae\"], [0.3, \"#f1b6da\"], [0.4, \"#fde0ef\"], [0.5, \"#f7f7f7\"], [0.6, \"#e6f5d0\"], [0.7, \"#b8e186\"], [0.8, \"#7fbc41\"], [0.9, \"#4d9221\"], [1, \"#276419\"]], \"sequential\": [[0.0, \"#0d0887\"], [0.1111111111111111, \"#46039f\"], [0.2222222222222222, \"#7201a8\"], [0.3333333333333333, \"#9c179e\"], [0.4444444444444444, \"#bd3786\"], [0.5555555555555556, \"#d8576b\"], [0.6666666666666666, \"#ed7953\"], [0.7777777777777778, \"#fb9f3a\"], [0.8888888888888888, \"#fdca26\"], [1.0, \"#f0f921\"]], \"sequentialminus\": [[0.0, \"#0d0887\"], [0.1111111111111111, \"#46039f\"], [0.2222222222222222, \"#7201a8\"], [0.3333333333333333, \"#9c179e\"], [0.4444444444444444, \"#bd3786\"], [0.5555555555555556, \"#d8576b\"], [0.6666666666666666, \"#ed7953\"], [0.7777777777777778, \"#fb9f3a\"], [0.8888888888888888, \"#fdca26\"], [1.0, \"#f0f921\"]]}, \"colorway\": [\"#636efa\", \"#EF553B\", \"#00cc96\", \"#ab63fa\", \"#FFA15A\", \"#19d3f3\", \"#FF6692\", \"#B6E880\", \"#FF97FF\", \"#FECB52\"], \"font\": {\"color\": \"#2a3f5f\"}, \"geo\": {\"bgcolor\": \"white\", \"lakecolor\": \"white\", \"landcolor\": \"#E5ECF6\", \"showlakes\": true, \"showland\": true, \"subunitcolor\": \"white\"}, \"hoverlabel\": {\"align\": \"left\"}, \"hovermode\": \"closest\", \"mapbox\": {\"style\": \"light\"}, \"paper_bgcolor\": \"white\", \"plot_bgcolor\": \"#E5ECF6\", \"polar\": {\"angularaxis\": {\"gridcolor\": \"white\", \"linecolor\": \"white\", \"ticks\": \"\"}, \"bgcolor\": \"#E5ECF6\", \"radialaxis\": {\"gridcolor\": \"white\", \"linecolor\": \"white\", \"ticks\": \"\"}}, \"scene\": {\"xaxis\": {\"backgroundcolor\": \"#E5ECF6\", \"gridcolor\": \"white\", \"gridwidth\": 2, \"linecolor\": \"white\", \"showbackground\": true, \"ticks\": \"\", \"zerolinecolor\": \"white\"}, \"yaxis\": {\"backgroundcolor\": \"#E5ECF6\", \"gridcolor\": \"white\", \"gridwidth\": 2, \"linecolor\": \"white\", \"showbackground\": true, \"ticks\": \"\", \"zerolinecolor\": \"white\"}, \"zaxis\": {\"backgroundcolor\": \"#E5ECF6\", \"gridcolor\": \"white\", \"gridwidth\": 2, \"linecolor\": \"white\", \"showbackground\": true, \"ticks\": \"\", \"zerolinecolor\": \"white\"}}, \"shapedefaults\": {\"line\": {\"color\": \"#2a3f5f\"}}, \"ternary\": {\"aaxis\": {\"gridcolor\": \"white\", \"linecolor\": \"white\", \"ticks\": \"\"}, \"baxis\": {\"gridcolor\": \"white\", \"linecolor\": \"white\", \"ticks\": \"\"}, \"bgcolor\": \"#E5ECF6\", \"caxis\": {\"gridcolor\": \"white\", \"linecolor\": \"white\", \"ticks\": \"\"}}, \"title\": {\"x\": 0.05}, \"xaxis\": {\"automargin\": true, \"gridcolor\": \"white\", \"linecolor\": \"white\", \"ticks\": \"\", \"title\": {\"standoff\": 15}, \"zerolinecolor\": \"white\", \"zerolinewidth\": 2}, \"yaxis\": {\"automargin\": true, \"gridcolor\": \"white\", \"linecolor\": \"white\", \"ticks\": \"\", \"title\": {\"standoff\": 15}, \"zerolinecolor\": \"white\", \"zerolinewidth\": 2}}}, \"xaxis\": {\"anchor\": \"y\", \"domain\": [0.0, 0.49], \"title\": {\"text\": \"Year\"}}, \"xaxis2\": {\"anchor\": \"y2\", \"domain\": [0.51, 1.0], \"matches\": \"x\", \"title\": {\"text\": \"Year\"}}, \"xaxis3\": {\"anchor\": \"y3\", \"domain\": [0.0, 0.49], \"matches\": \"x\", \"showticklabels\": false}, \"xaxis4\": {\"anchor\": \"y4\", \"domain\": [0.51, 1.0], \"matches\": \"x\", \"showticklabels\": false}, \"xaxis5\": {\"anchor\": \"y5\", \"domain\": [0.0, 0.49], \"matches\": \"x\", \"showticklabels\": false}, \"xaxis6\": {\"anchor\": \"y6\", \"domain\": [0.51, 1.0], \"matches\": \"x\", \"showticklabels\": false}, \"xaxis7\": {\"anchor\": \"y7\", \"domain\": [0.0, 0.49], \"matches\": \"x\", \"showticklabels\": false}, \"xaxis8\": {\"anchor\": \"y8\", \"domain\": [0.51, 1.0], \"matches\": \"x\", \"showticklabels\": false}, \"yaxis\": {\"anchor\": \"x\", \"domain\": [0.0, 0.1975], \"title\": {\"text\": \"Temperature\"}}, \"yaxis2\": {\"anchor\": \"x2\", \"domain\": [0.0, 0.1975], \"matches\": \"y\", \"showticklabels\": false}, \"yaxis3\": {\"anchor\": \"x3\", \"domain\": [0.2675, 0.465], \"matches\": \"y\", \"title\": {\"text\": \"Temperature\"}}, \"yaxis4\": {\"anchor\": \"x4\", \"domain\": [0.2675, 0.465], \"matches\": \"y\", \"showticklabels\": false}, \"yaxis5\": {\"anchor\": \"x5\", \"domain\": [0.535, 0.7325], \"matches\": \"y\", \"title\": {\"text\": \"Temperature\"}}, \"yaxis6\": {\"anchor\": \"x6\", \"domain\": [0.535, 0.7325], \"matches\": \"y\", \"showticklabels\": false}, \"yaxis7\": {\"anchor\": \"x7\", \"domain\": [0.8025, 1.0], \"matches\": \"y\", \"title\": {\"text\": \"Temperature\"}}, \"yaxis8\": {\"anchor\": \"x8\", \"domain\": [0.8025, 1.0], \"matches\": \"y\", \"showticklabels\": false}},\n",
              "                        {\"responsive\": true}\n",
              "                    ).then(function(){\n",
              "                            \n",
              "var gd = document.getElementById('a4c9e5db-c7f8-4fce-bf81-378bf7678814');\n",
              "var x = new MutationObserver(function (mutations, observer) {{\n",
              "        var display = window.getComputedStyle(gd).display;\n",
              "        if (!display || display === 'none') {{\n",
              "            console.log([gd, 'removed!']);\n",
              "            Plotly.purge(gd);\n",
              "            observer.disconnect();\n",
              "        }}\n",
              "}});\n",
              "\n",
              "// Listen for the removal of the full notebook cells\n",
              "var notebookContainer = gd.closest('#notebook-container');\n",
              "if (notebookContainer) {{\n",
              "    x.observe(notebookContainer, {childList: true});\n",
              "}}\n",
              "\n",
              "// Listen for the clearing of the current output cell\n",
              "var outputEl = gd.closest('.output');\n",
              "if (outputEl) {{\n",
              "    x.observe(outputEl, {childList: true});\n",
              "}}\n",
              "\n",
              "                        })\n",
              "                };\n",
              "                \n",
              "            </script>\n",
              "        </div>\n",
              "</body>\n",
              "</html>"
            ]
          },
          "metadata": {
            "tags": []
          }
        }
      ]
    },
    {
      "cell_type": "code",
      "metadata": {
        "id": "HTIkv1ijxvaF",
        "colab_type": "code",
        "colab": {
          "base_uri": "https://localhost:8080/",
          "height": 617
        },
        "outputId": "add1979a-0dee-4ae2-e20e-472411a425a1"
      },
      "source": [
        "px.histogram(sector_melt, x='Temperature', color='Sector',\n",
        "        facet_col='Sector', nbins=30, facet_col_wrap=2)"
      ],
      "execution_count": null,
      "outputs": [
        {
          "output_type": "display_data",
          "data": {
            "text/html": [
              "<html>\n",
              "<head><meta charset=\"utf-8\" /></head>\n",
              "<body>\n",
              "    <div>\n",
              "            <script src=\"https://cdnjs.cloudflare.com/ajax/libs/mathjax/2.7.5/MathJax.js?config=TeX-AMS-MML_SVG\"></script><script type=\"text/javascript\">if (window.MathJax) {MathJax.Hub.Config({SVG: {font: \"STIX-Web\"}});}</script>\n",
              "                <script type=\"text/javascript\">window.PlotlyConfig = {MathJaxConfig: 'local'};</script>\n",
              "        <script src=\"https://cdn.plot.ly/plotly-latest.min.js\"></script>    \n",
              "            <div id=\"9ba7a5e7-0767-42fc-a7b6-306a60fcd64c\" class=\"plotly-graph-div\" style=\"height:600px; width:100%;\"></div>\n",
              "            <script type=\"text/javascript\">\n",
              "                \n",
              "                    window.PLOTLYENV=window.PLOTLYENV || {};\n",
              "                    \n",
              "                if (document.getElementById(\"9ba7a5e7-0767-42fc-a7b6-306a60fcd64c\")) {\n",
              "                    Plotly.newPlot(\n",
              "                        '9ba7a5e7-0767-42fc-a7b6-306a60fcd64c',\n",
              "                        [{\"alignmentgroup\": \"True\", \"bingroup\": \"x\", \"hoverlabel\": {\"namelength\": 0}, \"hovertemplate\": \"Sector=64N-90N<br>Temperature=%{x}<br>count=%{y}\", \"legendgroup\": \"Sector=64N-90N\", \"marker\": {\"color\": \"#636efa\"}, \"name\": \"Sector=64N-90N\", \"nbinsx\": 30, \"offsetgroup\": \"Sector=64N-90N\", \"orientation\": \"v\", \"showlegend\": true, \"type\": \"histogram\", \"x\": [-0.83, -0.93, -1.42, -0.21, -1.35, -1.55, -1.63, -1.8, -1.34, -0.72, -1.17, -1.15, -1.15, -0.72, -0.97, -0.68, -0.88, -0.56, -1.13, -1.06, -0.56, -0.45, -1.43, -0.31, -0.2, -0.08, -0.29, -0.61, -0.25, -0.76, -0.58, -0.3, -0.5, -0.5, -0.38, -0.6, -0.49, -0.84, -1.04, -0.72, -0.03, -0.03, -0.32, 0.15, 0.44, -0.09, 0.56, 0.01, 0.71, 0.13, 0.52, 0.57, 0.48, -0.16, 0.88, 0.34, 0.39, 1.23, 1.5, 0.56, 1.0, 0.0, 0.73, 1.42, 1.18, 0.63, -0.02, 1.07, 0.12, 0.2, 0.2, 0.09, 0.27, 1.02, 0.8, -0.24, 0.01, 0.09, -0.17, 0.48, 0.34, -0.15, 0.45, -0.16, -0.67, -0.28, -0.76, 0.36, -0.33, -0.04, -0.21, -0.08, -0.37, 0.07, -0.19, 0.1, -0.07, 0.16, -0.16, -0.61, 0.25, 1.09, -0.4, 0.19, 0.36, 0.39, 0.01, -0.36, 0.59, 0.33, 0.58, 0.75, -0.16, 0.54, 0.34, 1.31, 0.77, 0.75, 0.85, 0.39, 0.96, 1.06, 1.25, 1.5, 0.47, 1.98, 1.73, 2.11, 1.54, 1.43, 2.21, 2.34, 2.2, 1.56, 2.04, 2.0, 3.24, 2.51, 2.15], \"xaxis\": \"x7\", \"yaxis\": \"y7\"}, {\"alignmentgroup\": \"True\", \"bingroup\": \"x\", \"hoverlabel\": {\"namelength\": 0}, \"hovertemplate\": \"Sector=44N-64N<br>Temperature=%{x}<br>count=%{y}\", \"legendgroup\": \"Sector=44N-64N\", \"marker\": {\"color\": \"#EF553B\"}, \"name\": \"Sector=44N-64N\", \"nbinsx\": 30, \"offsetgroup\": \"Sector=44N-64N\", \"orientation\": \"v\", \"showlegend\": true, \"type\": \"histogram\", \"x\": [-0.45, -0.42, -0.24, -0.53, -0.64, -0.66, -0.48, -0.49, -0.4, -0.21, -0.57, -0.32, -0.63, -0.54, -0.32, -0.51, -0.34, -0.45, -0.18, -0.07, -0.11, -0.09, -0.5, -0.4, -0.58, -0.21, -0.04, -0.71, -0.52, -0.6, -0.22, -0.4, -0.77, -0.32, -0.15, -0.15, -0.53, -0.49, -0.26, -0.55, -0.19, 0.18, -0.39, -0.14, -0.24, 0.19, 0.17, -0.21, -0.16, -0.61, 0.04, -0.04, 0.2, -0.47, 0.31, -0.05, 0.1, 0.02, 0.38, 0.28, -0.02, -0.1, -0.06, 0.27, 0.46, -0.03, -0.05, -0.13, 0.31, 0.16, -0.31, 0.01, -0.09, 0.35, -0.21, -0.11, -0.47, 0.22, 0.15, 0.18, -0.07, 0.38, 0.31, 0.31, -0.2, -0.24, -0.19, 0.26, -0.02, -0.61, -0.13, 0.01, -0.47, 0.27, -0.07, 0.39, -0.32, 0.24, 0.03, 0.06, 0.02, 0.78, 0.09, 0.69, 0.08, -0.27, 0.27, 0.13, 0.57, 0.69, 0.88, 0.66, 0.44, 0.29, 0.5, 0.99, 0.17, 0.9, 0.94, 0.8, 0.8, 0.86, 1.0, 0.98, 0.96, 1.22, 1.06, 1.32, 1.08, 0.6, 0.87, 0.94, 0.93, 1.05, 1.12, 1.47, 1.43, 1.37, 1.09], \"xaxis\": \"x8\", \"yaxis\": \"y8\"}, {\"alignmentgroup\": \"True\", \"bingroup\": \"x\", \"hoverlabel\": {\"namelength\": 0}, \"hovertemplate\": \"Sector=24N-44N<br>Temperature=%{x}<br>count=%{y}\", \"legendgroup\": \"Sector=24N-44N\", \"marker\": {\"color\": \"#00cc96\"}, \"name\": \"Sector=24N-44N\", \"nbinsx\": 30, \"offsetgroup\": \"Sector=24N-44N\", \"orientation\": \"v\", \"showlegend\": true, \"type\": \"histogram\", \"x\": [-0.26, -0.17, -0.11, -0.23, -0.43, -0.42, -0.37, -0.26, -0.21, -0.25, -0.25, -0.34, -0.15, -0.44, -0.15, -0.24, -0.19, -0.21, -0.2, -0.12, -0.13, -0.12, -0.3, -0.53, -0.53, -0.6, -0.37, -0.5, -0.5, -0.42, -0.47, -0.45, -0.48, -0.49, -0.26, -0.17, -0.22, -0.41, -0.33, -0.28, -0.33, -0.07, -0.12, -0.24, -0.21, -0.17, -0.2, -0.11, -0.22, -0.37, -0.09, -0.13, -0.19, -0.1, -0.11, -0.15, -0.24, -0.01, 0.04, 0.09, -0.08, 0.09, 0.07, 0.11, 0.1, 0.04, 0.17, 0.05, 0.01, 0.05, 0.04, 0.12, 0.19, 0.14, 0.01, 0.23, -0.09, -0.11, 0.12, 0.05, 0.11, 0.18, 0.14, 0.13, -0.12, -0.12, 0.08, -0.05, -0.09, -0.17, -0.06, -0.1, -0.25, 0.02, -0.18, -0.05, -0.28, 0.06, -0.04, 0.09, 0.02, 0.08, -0.09, -0.07, -0.14, -0.01, 0.03, 0.12, 0.24, 0.25, 0.49, 0.26, -0.03, -0.11, 0.42, 0.32, 0.1, 0.23, 0.66, 0.74, 0.55, 0.69, 0.58, 0.54, 0.66, 0.57, 0.7, 0.69, 0.62, 0.69, 0.74, 0.58, 0.74, 0.69, 0.73, 0.99, 1.07, 1.04, 1.05], \"xaxis\": \"x5\", \"yaxis\": \"y5\"}, {\"alignmentgroup\": \"True\", \"bingroup\": \"x\", \"hoverlabel\": {\"namelength\": 0}, \"hovertemplate\": \"Sector=EQU-24N<br>Temperature=%{x}<br>count=%{y}\", \"legendgroup\": \"Sector=EQU-24N\", \"marker\": {\"color\": \"#ab63fa\"}, \"name\": \"Sector=EQU-24N\", \"nbinsx\": 30, \"offsetgroup\": \"Sector=EQU-24N\", \"orientation\": \"v\", \"showlegend\": true, \"type\": \"histogram\", \"x\": [-0.15, 0.1, -0.04, -0.17, -0.12, -0.04, -0.18, -0.27, 0.1, 0.04, -0.24, 0.03, -0.3, -0.4, -0.45, -0.11, 0.08, 0.16, -0.16, -0.15, 0.12, -0.04, -0.01, -0.23, -0.43, -0.1, -0.2, -0.3, -0.42, -0.43, -0.49, -0.43, -0.28, -0.39, -0.11, -0.01, -0.49, -0.69, -0.38, -0.23, -0.37, -0.29, -0.32, -0.32, -0.27, -0.29, 0.0, -0.15, -0.16, -0.28, -0.1, 0.1, -0.19, -0.29, -0.27, -0.18, -0.06, 0.0, -0.18, -0.12, 0.27, 0.54, 0.11, -0.11, 0.1, 0.09, -0.03, -0.04, -0.23, -0.24, -0.31, -0.01, -0.02, 0.08, -0.14, -0.3, -0.29, 0.05, 0.26, 0.07, 0.06, -0.07, -0.05, 0.13, -0.14, -0.08, 0.16, -0.11, -0.02, 0.35, 0.07, -0.29, 0.07, 0.08, -0.23, -0.3, -0.12, 0.1, 0.11, 0.26, 0.33, 0.22, 0.25, 0.3, 0.08, 0.05, 0.18, 0.55, 0.33, 0.07, 0.38, 0.33, 0.2, 0.29, 0.29, 0.41, 0.32, 0.5, 0.6, 0.16, 0.21, 0.41, 0.56, 0.62, 0.57, 0.63, 0.57, 0.45, 0.34, 0.66, 0.73, 0.39, 0.48, 0.59, 0.69, 0.98, 0.96, 0.87, 0.73], \"xaxis\": \"x6\", \"yaxis\": \"y6\"}, {\"alignmentgroup\": \"True\", \"bingroup\": \"x\", \"hoverlabel\": {\"namelength\": 0}, \"hovertemplate\": \"Sector=24S-EQU<br>Temperature=%{x}<br>count=%{y}\", \"legendgroup\": \"Sector=24S-EQU\", \"marker\": {\"color\": \"#FFA15A\"}, \"name\": \"Sector=24S-EQU\", \"nbinsx\": 30, \"offsetgroup\": \"Sector=24S-EQU\", \"orientation\": \"v\", \"showlegend\": true, \"type\": \"histogram\", \"x\": [-0.1, 0.11, -0.05, -0.15, -0.16, -0.2, -0.18, -0.3, 0.12, 0.14, -0.48, -0.17, -0.27, -0.31, -0.19, 0.0, 0.13, 0.19, -0.28, -0.09, 0.24, -0.03, -0.07, -0.35, -0.51, -0.07, -0.2, -0.33, -0.47, -0.54, -0.5, -0.44, -0.1, -0.16, -0.03, -0.03, -0.42, -0.6, -0.29, -0.18, -0.15, -0.23, -0.33, -0.28, -0.26, -0.21, 0.01, -0.19, -0.17, -0.29, -0.14, 0.04, -0.15, -0.29, -0.25, -0.21, -0.22, -0.12, -0.29, -0.14, 0.28, 0.43, 0.02, -0.08, 0.25, 0.23, -0.08, -0.1, -0.15, -0.16, -0.29, -0.13, 0.03, 0.06, -0.29, -0.39, -0.38, 0.1, 0.15, 0.07, -0.03, 0.0, -0.05, 0.1, -0.14, 0.02, 0.0, -0.17, -0.1, 0.32, 0.07, -0.22, 0.27, 0.3, -0.16, -0.16, -0.1, 0.22, 0.05, 0.27, 0.29, 0.15, 0.29, 0.58, 0.3, 0.14, 0.28, 0.62, 0.43, 0.19, 0.37, 0.41, 0.37, 0.36, 0.35, 0.46, 0.33, 0.53, 0.8, 0.26, 0.29, 0.45, 0.64, 0.67, 0.55, 0.63, 0.56, 0.49, 0.43, 0.72, 0.66, 0.36, 0.58, 0.59, 0.66, 0.95, 1.07, 0.78, 0.63], \"xaxis\": \"x3\", \"yaxis\": \"y3\"}, {\"alignmentgroup\": \"True\", \"bingroup\": \"x\", \"hoverlabel\": {\"namelength\": 0}, \"hovertemplate\": \"Sector=44S-24S<br>Temperature=%{x}<br>count=%{y}\", \"legendgroup\": \"Sector=44S-24S\", \"marker\": {\"color\": \"#19d3f3\"}, \"name\": \"Sector=44S-24S\", \"nbinsx\": 30, \"offsetgroup\": \"Sector=44S-24S\", \"orientation\": \"v\", \"showlegend\": true, \"type\": \"histogram\", \"x\": [-0.04, -0.05, 0.01, -0.04, -0.19, -0.34, -0.2, -0.28, -0.31, -0.16, -0.18, -0.18, 0.02, 0.06, -0.15, -0.2, -0.15, -0.19, -0.28, -0.16, -0.29, -0.28, -0.28, -0.35, -0.37, -0.33, -0.21, -0.21, -0.29, -0.38, -0.33, -0.44, -0.37, -0.28, -0.16, -0.15, -0.23, -0.23, -0.06, -0.15, -0.19, -0.23, -0.24, -0.26, -0.4, -0.24, -0.35, -0.3, -0.29, -0.43, -0.33, -0.42, -0.21, -0.22, -0.16, -0.31, -0.27, -0.19, -0.06, -0.04, 0.03, 0.04, 0.06, 0.07, 0.19, 0.04, -0.22, -0.19, -0.19, -0.17, -0.06, -0.22, -0.1, -0.08, -0.18, -0.16, -0.14, -0.09, -0.08, -0.03, -0.1, 0.14, 0.09, -0.1, -0.3, -0.23, -0.24, -0.09, -0.14, 0.0, 0.11, 0.03, 0.16, 0.22, 0.22, 0.13, 0.1, 0.21, 0.21, 0.29, 0.35, 0.28, 0.18, 0.21, 0.16, 0.3, 0.25, 0.32, 0.38, 0.36, 0.38, 0.31, 0.2, 0.27, 0.26, 0.29, 0.33, 0.42, 0.39, 0.46, 0.42, 0.58, 0.49, 0.44, 0.48, 0.49, 0.51, 0.5, 0.53, 0.6, 0.63, 0.64, 0.56, 0.63, 0.72, 0.75, 0.67, 0.76, 0.8], \"xaxis\": \"x4\", \"yaxis\": \"y4\"}, {\"alignmentgroup\": \"True\", \"bingroup\": \"x\", \"hoverlabel\": {\"namelength\": 0}, \"hovertemplate\": \"Sector=64S-44S<br>Temperature=%{x}<br>count=%{y}\", \"legendgroup\": \"Sector=64S-44S\", \"marker\": {\"color\": \"#FF6692\"}, \"name\": \"Sector=64S-44S\", \"nbinsx\": 30, \"offsetgroup\": \"Sector=64S-44S\", \"orientation\": \"v\", \"showlegend\": true, \"type\": \"histogram\", \"x\": [0.05, -0.07, 0.04, 0.07, -0.02, -0.15, -0.21, -0.26, -0.23, -0.15, -0.27, -0.24, -0.22, -0.2, -0.35, -0.32, -0.13, -0.27, -0.21, -0.22, -0.29, -0.34, -0.43, -0.4, -0.49, -0.37, -0.23, -0.37, -0.48, -0.52, -0.45, -0.53, -0.29, -0.4, -0.18, -0.24, -0.17, -0.1, -0.23, -0.32, -0.48, -0.38, -0.29, -0.41, -0.45, -0.55, -0.45, -0.46, -0.48, -0.45, -0.47, -0.4, -0.53, -0.49, -0.38, -0.42, -0.33, -0.26, -0.11, -0.19, -0.2, -0.15, -0.05, -0.01, -0.1, 0.0, -0.24, -0.08, -0.19, -0.15, -0.16, -0.16, -0.02, -0.24, -0.2, -0.08, 0.02, -0.02, -0.08, -0.26, -0.07, -0.17, -0.07, -0.17, -0.07, -0.03, -0.14, -0.02, 0.0, 0.13, 0.03, 0.16, -0.02, 0.08, -0.08, 0.14, 0.22, 0.31, 0.13, 0.33, 0.37, 0.39, 0.32, 0.41, 0.32, 0.44, 0.25, 0.25, 0.2, 0.3, 0.37, 0.29, 0.33, 0.39, 0.23, 0.15, 0.28, 0.36, 0.31, 0.19, 0.1, 0.24, 0.32, 0.24, 0.23, 0.19, 0.2, 0.07, 0.09, 0.15, 0.2, 0.18, 0.19, 0.23, 0.18, 0.18, 0.26, 0.35, 0.38], \"xaxis\": \"x\", \"yaxis\": \"y\"}, {\"alignmentgroup\": \"True\", \"bingroup\": \"x\", \"hoverlabel\": {\"namelength\": 0}, \"hovertemplate\": \"Sector=90S-64S<br>Temperature=%{x}<br>count=%{y}\", \"legendgroup\": \"Sector=90S-64S\", \"marker\": {\"color\": \"#B6E880\"}, \"name\": \"Sector=90S-64S\", \"nbinsx\": 30, \"offsetgroup\": \"Sector=90S-64S\", \"orientation\": \"v\", \"showlegend\": true, \"type\": \"histogram\", \"x\": [0.63, 0.56, 0.59, 0.46, 0.61, 0.78, 0.55, 0.28, 0.12, 0.41, 0.11, -0.2, 0.05, -0.08, -0.42, -0.62, 0.22, 0.36, 0.34, 0.54, 0.23, 0.22, -0.09, -0.5, -1.32, -0.34, -0.71, -1.2, 0.67, -0.57, 0.16, 0.05, -1.64, -1.04, -0.37, -1.98, -1.05, 0.06, -0.28, 0.19, -1.15, -0.84, -0.28, -0.55, -0.53, -0.86, -0.64, -1.38, -2.12, -1.08, -2.6, -0.41, -0.99, -1.15, -0.57, -1.72, -0.04, 0.36, -0.87, -1.61, -0.06, -0.47, -0.9, 1.13, -0.92, -1.75, -0.14, -0.19, -1.35, -1.95, -0.87, -0.69, -0.49, -1.09, -0.8, 1.22, 0.76, 0.48, -0.47, -0.33, -0.7, 0.25, -0.55, -0.03, -0.4, -0.03, 0.06, 0.29, -0.03, -0.09, 0.26, 0.4, 0.4, 0.33, 0.64, 0.25, -0.28, 0.24, 0.03, -0.21, 0.57, 0.56, -0.12, -0.02, 0.47, 0.0, -0.1, 0.01, 0.78, 0.3, 0.39, 0.89, 0.34, -0.32, -0.06, 0.15, 1.2, 0.01, 0.19, 0.04, 0.27, 0.32, 0.74, 0.45, 0.06, 0.72, 0.44, 1.17, 0.56, 0.91, 0.48, 0.98, 0.26, 0.99, 0.52, -0.34, 0.36, 0.54, 0.93], \"xaxis\": \"x2\", \"yaxis\": \"y2\"}],\n",
              "                        {\"annotations\": [{\"font\": {}, \"showarrow\": false, \"text\": \"Sector=64S-44S\", \"x\": 0.245, \"xanchor\": \"center\", \"xref\": \"paper\", \"y\": 0.1975, \"yanchor\": \"bottom\", \"yref\": \"paper\"}, {\"font\": {}, \"showarrow\": false, \"text\": \"Sector=90S-64S\", \"x\": 0.755, \"xanchor\": \"center\", \"xref\": \"paper\", \"y\": 0.1975, \"yanchor\": \"bottom\", \"yref\": \"paper\"}, {\"font\": {}, \"showarrow\": false, \"text\": \"Sector=24S-EQU\", \"x\": 0.245, \"xanchor\": \"center\", \"xref\": \"paper\", \"y\": 0.465, \"yanchor\": \"bottom\", \"yref\": \"paper\"}, {\"font\": {}, \"showarrow\": false, \"text\": \"Sector=44S-24S\", \"x\": 0.755, \"xanchor\": \"center\", \"xref\": \"paper\", \"y\": 0.465, \"yanchor\": \"bottom\", \"yref\": \"paper\"}, {\"font\": {}, \"showarrow\": false, \"text\": \"Sector=24N-44N\", \"x\": 0.245, \"xanchor\": \"center\", \"xref\": \"paper\", \"y\": 0.7325, \"yanchor\": \"bottom\", \"yref\": \"paper\"}, {\"font\": {}, \"showarrow\": false, \"text\": \"Sector=EQU-24N\", \"x\": 0.755, \"xanchor\": \"center\", \"xref\": \"paper\", \"y\": 0.7325, \"yanchor\": \"bottom\", \"yref\": \"paper\"}, {\"font\": {}, \"showarrow\": false, \"text\": \"Sector=64N-90N\", \"x\": 0.245, \"xanchor\": \"center\", \"xref\": \"paper\", \"y\": 1.0, \"yanchor\": \"bottom\", \"yref\": \"paper\"}, {\"font\": {}, \"showarrow\": false, \"text\": \"Sector=44N-64N\", \"x\": 0.755, \"xanchor\": \"center\", \"xref\": \"paper\", \"y\": 1.0, \"yanchor\": \"bottom\", \"yref\": \"paper\"}], \"barmode\": \"relative\", \"height\": 600, \"legend\": {\"tracegroupgap\": 0}, \"margin\": {\"t\": 60}, \"template\": {\"data\": {\"bar\": [{\"error_x\": {\"color\": \"#2a3f5f\"}, \"error_y\": {\"color\": \"#2a3f5f\"}, \"marker\": {\"line\": {\"color\": \"#E5ECF6\", \"width\": 0.5}}, \"type\": \"bar\"}], \"barpolar\": [{\"marker\": {\"line\": {\"color\": \"#E5ECF6\", \"width\": 0.5}}, \"type\": \"barpolar\"}], \"carpet\": [{\"aaxis\": {\"endlinecolor\": \"#2a3f5f\", \"gridcolor\": \"white\", \"linecolor\": \"white\", \"minorgridcolor\": \"white\", \"startlinecolor\": \"#2a3f5f\"}, \"baxis\": {\"endlinecolor\": \"#2a3f5f\", \"gridcolor\": \"white\", \"linecolor\": \"white\", \"minorgridcolor\": \"white\", \"startlinecolor\": \"#2a3f5f\"}, \"type\": \"carpet\"}], \"choropleth\": [{\"colorbar\": {\"outlinewidth\": 0, \"ticks\": \"\"}, \"type\": \"choropleth\"}], \"contour\": [{\"colorbar\": {\"outlinewidth\": 0, \"ticks\": \"\"}, \"colorscale\": [[0.0, \"#0d0887\"], [0.1111111111111111, \"#46039f\"], [0.2222222222222222, \"#7201a8\"], [0.3333333333333333, \"#9c179e\"], [0.4444444444444444, \"#bd3786\"], [0.5555555555555556, \"#d8576b\"], [0.6666666666666666, \"#ed7953\"], [0.7777777777777778, \"#fb9f3a\"], [0.8888888888888888, \"#fdca26\"], [1.0, \"#f0f921\"]], \"type\": \"contour\"}], \"contourcarpet\": [{\"colorbar\": {\"outlinewidth\": 0, \"ticks\": \"\"}, \"type\": \"contourcarpet\"}], \"heatmap\": [{\"colorbar\": {\"outlinewidth\": 0, \"ticks\": \"\"}, \"colorscale\": [[0.0, \"#0d0887\"], [0.1111111111111111, \"#46039f\"], [0.2222222222222222, \"#7201a8\"], [0.3333333333333333, \"#9c179e\"], [0.4444444444444444, \"#bd3786\"], [0.5555555555555556, \"#d8576b\"], [0.6666666666666666, \"#ed7953\"], [0.7777777777777778, \"#fb9f3a\"], [0.8888888888888888, \"#fdca26\"], [1.0, \"#f0f921\"]], \"type\": \"heatmap\"}], \"heatmapgl\": [{\"colorbar\": {\"outlinewidth\": 0, \"ticks\": \"\"}, \"colorscale\": [[0.0, \"#0d0887\"], [0.1111111111111111, \"#46039f\"], [0.2222222222222222, \"#7201a8\"], [0.3333333333333333, \"#9c179e\"], [0.4444444444444444, \"#bd3786\"], [0.5555555555555556, \"#d8576b\"], [0.6666666666666666, \"#ed7953\"], [0.7777777777777778, \"#fb9f3a\"], [0.8888888888888888, \"#fdca26\"], [1.0, \"#f0f921\"]], \"type\": \"heatmapgl\"}], \"histogram\": [{\"marker\": {\"colorbar\": {\"outlinewidth\": 0, \"ticks\": \"\"}}, \"type\": \"histogram\"}], \"histogram2d\": [{\"colorbar\": {\"outlinewidth\": 0, \"ticks\": \"\"}, \"colorscale\": [[0.0, \"#0d0887\"], [0.1111111111111111, \"#46039f\"], [0.2222222222222222, \"#7201a8\"], [0.3333333333333333, \"#9c179e\"], [0.4444444444444444, \"#bd3786\"], [0.5555555555555556, \"#d8576b\"], [0.6666666666666666, \"#ed7953\"], [0.7777777777777778, \"#fb9f3a\"], [0.8888888888888888, \"#fdca26\"], [1.0, \"#f0f921\"]], \"type\": \"histogram2d\"}], \"histogram2dcontour\": [{\"colorbar\": {\"outlinewidth\": 0, \"ticks\": \"\"}, \"colorscale\": [[0.0, \"#0d0887\"], [0.1111111111111111, \"#46039f\"], [0.2222222222222222, \"#7201a8\"], [0.3333333333333333, \"#9c179e\"], [0.4444444444444444, \"#bd3786\"], [0.5555555555555556, \"#d8576b\"], [0.6666666666666666, \"#ed7953\"], [0.7777777777777778, \"#fb9f3a\"], [0.8888888888888888, \"#fdca26\"], [1.0, \"#f0f921\"]], \"type\": \"histogram2dcontour\"}], \"mesh3d\": [{\"colorbar\": {\"outlinewidth\": 0, \"ticks\": \"\"}, \"type\": \"mesh3d\"}], \"parcoords\": [{\"line\": {\"colorbar\": {\"outlinewidth\": 0, \"ticks\": \"\"}}, \"type\": \"parcoords\"}], \"pie\": [{\"automargin\": true, \"type\": \"pie\"}], \"scatter\": [{\"marker\": {\"colorbar\": {\"outlinewidth\": 0, \"ticks\": \"\"}}, \"type\": \"scatter\"}], \"scatter3d\": [{\"line\": {\"colorbar\": {\"outlinewidth\": 0, \"ticks\": \"\"}}, \"marker\": {\"colorbar\": {\"outlinewidth\": 0, \"ticks\": \"\"}}, \"type\": \"scatter3d\"}], \"scattercarpet\": [{\"marker\": {\"colorbar\": {\"outlinewidth\": 0, \"ticks\": \"\"}}, \"type\": \"scattercarpet\"}], \"scattergeo\": [{\"marker\": {\"colorbar\": {\"outlinewidth\": 0, \"ticks\": \"\"}}, \"type\": \"scattergeo\"}], \"scattergl\": [{\"marker\": {\"colorbar\": {\"outlinewidth\": 0, \"ticks\": \"\"}}, \"type\": \"scattergl\"}], \"scattermapbox\": [{\"marker\": {\"colorbar\": {\"outlinewidth\": 0, \"ticks\": \"\"}}, \"type\": \"scattermapbox\"}], \"scatterpolar\": [{\"marker\": {\"colorbar\": {\"outlinewidth\": 0, \"ticks\": \"\"}}, \"type\": \"scatterpolar\"}], \"scatterpolargl\": [{\"marker\": {\"colorbar\": {\"outlinewidth\": 0, \"ticks\": \"\"}}, \"type\": \"scatterpolargl\"}], \"scatterternary\": [{\"marker\": {\"colorbar\": {\"outlinewidth\": 0, \"ticks\": \"\"}}, \"type\": \"scatterternary\"}], \"surface\": [{\"colorbar\": {\"outlinewidth\": 0, \"ticks\": \"\"}, \"colorscale\": [[0.0, \"#0d0887\"], [0.1111111111111111, \"#46039f\"], [0.2222222222222222, \"#7201a8\"], [0.3333333333333333, \"#9c179e\"], [0.4444444444444444, \"#bd3786\"], [0.5555555555555556, \"#d8576b\"], [0.6666666666666666, \"#ed7953\"], [0.7777777777777778, \"#fb9f3a\"], [0.8888888888888888, \"#fdca26\"], [1.0, \"#f0f921\"]], \"type\": \"surface\"}], \"table\": [{\"cells\": {\"fill\": {\"color\": \"#EBF0F8\"}, \"line\": {\"color\": \"white\"}}, \"header\": {\"fill\": {\"color\": \"#C8D4E3\"}, \"line\": {\"color\": \"white\"}}, \"type\": \"table\"}]}, \"layout\": {\"annotationdefaults\": {\"arrowcolor\": \"#2a3f5f\", \"arrowhead\": 0, \"arrowwidth\": 1}, \"coloraxis\": {\"colorbar\": {\"outlinewidth\": 0, \"ticks\": \"\"}}, \"colorscale\": {\"diverging\": [[0, \"#8e0152\"], [0.1, \"#c51b7d\"], [0.2, \"#de77ae\"], [0.3, \"#f1b6da\"], [0.4, \"#fde0ef\"], [0.5, \"#f7f7f7\"], [0.6, \"#e6f5d0\"], [0.7, \"#b8e186\"], [0.8, \"#7fbc41\"], [0.9, \"#4d9221\"], [1, \"#276419\"]], \"sequential\": [[0.0, \"#0d0887\"], [0.1111111111111111, \"#46039f\"], [0.2222222222222222, \"#7201a8\"], [0.3333333333333333, \"#9c179e\"], [0.4444444444444444, \"#bd3786\"], [0.5555555555555556, \"#d8576b\"], [0.6666666666666666, \"#ed7953\"], [0.7777777777777778, \"#fb9f3a\"], [0.8888888888888888, \"#fdca26\"], [1.0, \"#f0f921\"]], \"sequentialminus\": [[0.0, \"#0d0887\"], [0.1111111111111111, \"#46039f\"], [0.2222222222222222, \"#7201a8\"], [0.3333333333333333, \"#9c179e\"], [0.4444444444444444, \"#bd3786\"], [0.5555555555555556, \"#d8576b\"], [0.6666666666666666, \"#ed7953\"], [0.7777777777777778, \"#fb9f3a\"], [0.8888888888888888, \"#fdca26\"], [1.0, \"#f0f921\"]]}, \"colorway\": [\"#636efa\", \"#EF553B\", \"#00cc96\", \"#ab63fa\", \"#FFA15A\", \"#19d3f3\", \"#FF6692\", \"#B6E880\", \"#FF97FF\", \"#FECB52\"], \"font\": {\"color\": \"#2a3f5f\"}, \"geo\": {\"bgcolor\": \"white\", \"lakecolor\": \"white\", \"landcolor\": \"#E5ECF6\", \"showlakes\": true, \"showland\": true, \"subunitcolor\": \"white\"}, \"hoverlabel\": {\"align\": \"left\"}, \"hovermode\": \"closest\", \"mapbox\": {\"style\": \"light\"}, \"paper_bgcolor\": \"white\", \"plot_bgcolor\": \"#E5ECF6\", \"polar\": {\"angularaxis\": {\"gridcolor\": \"white\", \"linecolor\": \"white\", \"ticks\": \"\"}, \"bgcolor\": \"#E5ECF6\", \"radialaxis\": {\"gridcolor\": \"white\", \"linecolor\": \"white\", \"ticks\": \"\"}}, \"scene\": {\"xaxis\": {\"backgroundcolor\": \"#E5ECF6\", \"gridcolor\": \"white\", \"gridwidth\": 2, \"linecolor\": \"white\", \"showbackground\": true, \"ticks\": \"\", \"zerolinecolor\": \"white\"}, \"yaxis\": {\"backgroundcolor\": \"#E5ECF6\", \"gridcolor\": \"white\", \"gridwidth\": 2, \"linecolor\": \"white\", \"showbackground\": true, \"ticks\": \"\", \"zerolinecolor\": \"white\"}, \"zaxis\": {\"backgroundcolor\": \"#E5ECF6\", \"gridcolor\": \"white\", \"gridwidth\": 2, \"linecolor\": \"white\", \"showbackground\": true, \"ticks\": \"\", \"zerolinecolor\": \"white\"}}, \"shapedefaults\": {\"line\": {\"color\": \"#2a3f5f\"}}, \"ternary\": {\"aaxis\": {\"gridcolor\": \"white\", \"linecolor\": \"white\", \"ticks\": \"\"}, \"baxis\": {\"gridcolor\": \"white\", \"linecolor\": \"white\", \"ticks\": \"\"}, \"bgcolor\": \"#E5ECF6\", \"caxis\": {\"gridcolor\": \"white\", \"linecolor\": \"white\", \"ticks\": \"\"}}, \"title\": {\"x\": 0.05}, \"xaxis\": {\"automargin\": true, \"gridcolor\": \"white\", \"linecolor\": \"white\", \"ticks\": \"\", \"title\": {\"standoff\": 15}, \"zerolinecolor\": \"white\", \"zerolinewidth\": 2}, \"yaxis\": {\"automargin\": true, \"gridcolor\": \"white\", \"linecolor\": \"white\", \"ticks\": \"\", \"title\": {\"standoff\": 15}, \"zerolinecolor\": \"white\", \"zerolinewidth\": 2}}}, \"xaxis\": {\"anchor\": \"y\", \"domain\": [0.0, 0.49], \"title\": {\"text\": \"Temperature\"}}, \"xaxis2\": {\"anchor\": \"y2\", \"domain\": [0.51, 1.0], \"matches\": \"x\", \"title\": {\"text\": \"Temperature\"}}, \"xaxis3\": {\"anchor\": \"y3\", \"domain\": [0.0, 0.49], \"matches\": \"x\", \"showticklabels\": false}, \"xaxis4\": {\"anchor\": \"y4\", \"domain\": [0.51, 1.0], \"matches\": \"x\", \"showticklabels\": false}, \"xaxis5\": {\"anchor\": \"y5\", \"domain\": [0.0, 0.49], \"matches\": \"x\", \"showticklabels\": false}, \"xaxis6\": {\"anchor\": \"y6\", \"domain\": [0.51, 1.0], \"matches\": \"x\", \"showticklabels\": false}, \"xaxis7\": {\"anchor\": \"y7\", \"domain\": [0.0, 0.49], \"matches\": \"x\", \"showticklabels\": false}, \"xaxis8\": {\"anchor\": \"y8\", \"domain\": [0.51, 1.0], \"matches\": \"x\", \"showticklabels\": false}, \"yaxis\": {\"anchor\": \"x\", \"domain\": [0.0, 0.1975], \"title\": {\"text\": \"count\"}}, \"yaxis2\": {\"anchor\": \"x2\", \"domain\": [0.0, 0.1975], \"matches\": \"y\", \"showticklabels\": false}, \"yaxis3\": {\"anchor\": \"x3\", \"domain\": [0.2675, 0.465], \"matches\": \"y\", \"title\": {\"text\": \"count\"}}, \"yaxis4\": {\"anchor\": \"x4\", \"domain\": [0.2675, 0.465], \"matches\": \"y\", \"showticklabels\": false}, \"yaxis5\": {\"anchor\": \"x5\", \"domain\": [0.535, 0.7325], \"matches\": \"y\", \"title\": {\"text\": \"count\"}}, \"yaxis6\": {\"anchor\": \"x6\", \"domain\": [0.535, 0.7325], \"matches\": \"y\", \"showticklabels\": false}, \"yaxis7\": {\"anchor\": \"x7\", \"domain\": [0.8025, 1.0], \"matches\": \"y\", \"title\": {\"text\": \"count\"}}, \"yaxis8\": {\"anchor\": \"x8\", \"domain\": [0.8025, 1.0], \"matches\": \"y\", \"showticklabels\": false}},\n",
              "                        {\"responsive\": true}\n",
              "                    ).then(function(){\n",
              "                            \n",
              "var gd = document.getElementById('9ba7a5e7-0767-42fc-a7b6-306a60fcd64c');\n",
              "var x = new MutationObserver(function (mutations, observer) {{\n",
              "        var display = window.getComputedStyle(gd).display;\n",
              "        if (!display || display === 'none') {{\n",
              "            console.log([gd, 'removed!']);\n",
              "            Plotly.purge(gd);\n",
              "            observer.disconnect();\n",
              "        }}\n",
              "}});\n",
              "\n",
              "// Listen for the removal of the full notebook cells\n",
              "var notebookContainer = gd.closest('#notebook-container');\n",
              "if (notebookContainer) {{\n",
              "    x.observe(notebookContainer, {childList: true});\n",
              "}}\n",
              "\n",
              "// Listen for the clearing of the current output cell\n",
              "var outputEl = gd.closest('.output');\n",
              "if (outputEl) {{\n",
              "    x.observe(outputEl, {childList: true});\n",
              "}}\n",
              "\n",
              "                        })\n",
              "                };\n",
              "                \n",
              "            </script>\n",
              "        </div>\n",
              "</body>\n",
              "</html>"
            ]
          },
          "metadata": {
            "tags": []
          }
        }
      ]
    },
    {
      "cell_type": "code",
      "metadata": {
        "id": "T6h0Bo1Zy0uQ",
        "colab_type": "code",
        "colab": {
          "base_uri": "https://localhost:8080/",
          "height": 1000
        },
        "outputId": "487b763f-d578-4d4a-80de-1f1405fc1d65"
      },
      "source": [
        "px.scatter_matrix(sector_data, dimensions=sector_cols, height=1000)"
      ],
      "execution_count": null,
      "outputs": [
        {
          "output_type": "display_data",
          "data": {
            "text/html": [
              "<html>\n",
              "<head><meta charset=\"utf-8\" /></head>\n",
              "<body>\n",
              "    <div>\n",
              "            <script src=\"https://cdnjs.cloudflare.com/ajax/libs/mathjax/2.7.5/MathJax.js?config=TeX-AMS-MML_SVG\"></script><script type=\"text/javascript\">if (window.MathJax) {MathJax.Hub.Config({SVG: {font: \"STIX-Web\"}});}</script>\n",
              "                <script type=\"text/javascript\">window.PlotlyConfig = {MathJaxConfig: 'local'};</script>\n",
              "        <script src=\"https://cdn.plot.ly/plotly-latest.min.js\"></script>    \n",
              "            <div id=\"f03b5ac9-6071-4f0b-9ebe-afa7f3bba48a\" class=\"plotly-graph-div\" style=\"height:1000px; width:100%;\"></div>\n",
              "            <script type=\"text/javascript\">\n",
              "                \n",
              "                    window.PLOTLYENV=window.PLOTLYENV || {};\n",
              "                    \n",
              "                if (document.getElementById(\"f03b5ac9-6071-4f0b-9ebe-afa7f3bba48a\")) {\n",
              "                    Plotly.newPlot(\n",
              "                        'f03b5ac9-6071-4f0b-9ebe-afa7f3bba48a',\n",
              "                        [{\"dimensions\": [{\"axis\": {\"matches\": true}, \"label\": \"64N-90N\", \"values\": [-0.83, -0.93, -1.42, -0.21, -1.35, -1.55, -1.63, -1.8, -1.34, -0.72, -1.17, -1.15, -1.15, -0.72, -0.97, -0.68, -0.88, -0.56, -1.13, -1.06, -0.56, -0.45, -1.43, -0.31, -0.2, -0.08, -0.29, -0.61, -0.25, -0.76, -0.58, -0.3, -0.5, -0.5, -0.38, -0.6, -0.49, -0.84, -1.04, -0.72, -0.03, -0.03, -0.32, 0.15, 0.44, -0.09, 0.56, 0.01, 0.71, 0.13, 0.52, 0.57, 0.48, -0.16, 0.88, 0.34, 0.39, 1.23, 1.5, 0.56, 1.0, 0.0, 0.73, 1.42, 1.18, 0.63, -0.02, 1.07, 0.12, 0.2, 0.2, 0.09, 0.27, 1.02, 0.8, -0.24, 0.01, 0.09, -0.17, 0.48, 0.34, -0.15, 0.45, -0.16, -0.67, -0.28, -0.76, 0.36, -0.33, -0.04, -0.21, -0.08, -0.37, 0.07, -0.19, 0.1, -0.07, 0.16, -0.16, -0.61, 0.25, 1.09, -0.4, 0.19, 0.36, 0.39, 0.01, -0.36, 0.59, 0.33, 0.58, 0.75, -0.16, 0.54, 0.34, 1.31, 0.77, 0.75, 0.85, 0.39, 0.96, 1.06, 1.25, 1.5, 0.47, 1.98, 1.73, 2.11, 1.54, 1.43, 2.21, 2.34, 2.2, 1.56, 2.04, 2.0, 3.24, 2.51, 2.15]}, {\"axis\": {\"matches\": true}, \"label\": \"44N-64N\", \"values\": [-0.45, -0.42, -0.24, -0.53, -0.64, -0.66, -0.48, -0.49, -0.4, -0.21, -0.57, -0.32, -0.63, -0.54, -0.32, -0.51, -0.34, -0.45, -0.18, -0.07, -0.11, -0.09, -0.5, -0.4, -0.58, -0.21, -0.04, -0.71, -0.52, -0.6, -0.22, -0.4, -0.77, -0.32, -0.15, -0.15, -0.53, -0.49, -0.26, -0.55, -0.19, 0.18, -0.39, -0.14, -0.24, 0.19, 0.17, -0.21, -0.16, -0.61, 0.04, -0.04, 0.2, -0.47, 0.31, -0.05, 0.1, 0.02, 0.38, 0.28, -0.02, -0.1, -0.06, 0.27, 0.46, -0.03, -0.05, -0.13, 0.31, 0.16, -0.31, 0.01, -0.09, 0.35, -0.21, -0.11, -0.47, 0.22, 0.15, 0.18, -0.07, 0.38, 0.31, 0.31, -0.2, -0.24, -0.19, 0.26, -0.02, -0.61, -0.13, 0.01, -0.47, 0.27, -0.07, 0.39, -0.32, 0.24, 0.03, 0.06, 0.02, 0.78, 0.09, 0.69, 0.08, -0.27, 0.27, 0.13, 0.57, 0.69, 0.88, 0.66, 0.44, 0.29, 0.5, 0.99, 0.17, 0.9, 0.94, 0.8, 0.8, 0.86, 1.0, 0.98, 0.96, 1.22, 1.06, 1.32, 1.08, 0.6, 0.87, 0.94, 0.93, 1.05, 1.12, 1.47, 1.43, 1.37, 1.09]}, {\"axis\": {\"matches\": true}, \"label\": \"24N-44N\", \"values\": [-0.26, -0.17, -0.11, -0.23, -0.43, -0.42, -0.37, -0.26, -0.21, -0.25, -0.25, -0.34, -0.15, -0.44, -0.15, -0.24, -0.19, -0.21, -0.2, -0.12, -0.13, -0.12, -0.3, -0.53, -0.53, -0.6, -0.37, -0.5, -0.5, -0.42, -0.47, -0.45, -0.48, -0.49, -0.26, -0.17, -0.22, -0.41, -0.33, -0.28, -0.33, -0.07, -0.12, -0.24, -0.21, -0.17, -0.2, -0.11, -0.22, -0.37, -0.09, -0.13, -0.19, -0.1, -0.11, -0.15, -0.24, -0.01, 0.04, 0.09, -0.08, 0.09, 0.07, 0.11, 0.1, 0.04, 0.17, 0.05, 0.01, 0.05, 0.04, 0.12, 0.19, 0.14, 0.01, 0.23, -0.09, -0.11, 0.12, 0.05, 0.11, 0.18, 0.14, 0.13, -0.12, -0.12, 0.08, -0.05, -0.09, -0.17, -0.06, -0.1, -0.25, 0.02, -0.18, -0.05, -0.28, 0.06, -0.04, 0.09, 0.02, 0.08, -0.09, -0.07, -0.14, -0.01, 0.03, 0.12, 0.24, 0.25, 0.49, 0.26, -0.03, -0.11, 0.42, 0.32, 0.1, 0.23, 0.66, 0.74, 0.55, 0.69, 0.58, 0.54, 0.66, 0.57, 0.7, 0.69, 0.62, 0.69, 0.74, 0.58, 0.74, 0.69, 0.73, 0.99, 1.07, 1.04, 1.05]}, {\"axis\": {\"matches\": true}, \"label\": \"EQU-24N\", \"values\": [-0.15, 0.1, -0.04, -0.17, -0.12, -0.04, -0.18, -0.27, 0.1, 0.04, -0.24, 0.03, -0.3, -0.4, -0.45, -0.11, 0.08, 0.16, -0.16, -0.15, 0.12, -0.04, -0.01, -0.23, -0.43, -0.1, -0.2, -0.3, -0.42, -0.43, -0.49, -0.43, -0.28, -0.39, -0.11, -0.01, -0.49, -0.69, -0.38, -0.23, -0.37, -0.29, -0.32, -0.32, -0.27, -0.29, 0.0, -0.15, -0.16, -0.28, -0.1, 0.1, -0.19, -0.29, -0.27, -0.18, -0.06, 0.0, -0.18, -0.12, 0.27, 0.54, 0.11, -0.11, 0.1, 0.09, -0.03, -0.04, -0.23, -0.24, -0.31, -0.01, -0.02, 0.08, -0.14, -0.3, -0.29, 0.05, 0.26, 0.07, 0.06, -0.07, -0.05, 0.13, -0.14, -0.08, 0.16, -0.11, -0.02, 0.35, 0.07, -0.29, 0.07, 0.08, -0.23, -0.3, -0.12, 0.1, 0.11, 0.26, 0.33, 0.22, 0.25, 0.3, 0.08, 0.05, 0.18, 0.55, 0.33, 0.07, 0.38, 0.33, 0.2, 0.29, 0.29, 0.41, 0.32, 0.5, 0.6, 0.16, 0.21, 0.41, 0.56, 0.62, 0.57, 0.63, 0.57, 0.45, 0.34, 0.66, 0.73, 0.39, 0.48, 0.59, 0.69, 0.98, 0.96, 0.87, 0.73]}, {\"axis\": {\"matches\": true}, \"label\": \"24S-EQU\", \"values\": [-0.1, 0.11, -0.05, -0.15, -0.16, -0.2, -0.18, -0.3, 0.12, 0.14, -0.48, -0.17, -0.27, -0.31, -0.19, 0.0, 0.13, 0.19, -0.28, -0.09, 0.24, -0.03, -0.07, -0.35, -0.51, -0.07, -0.2, -0.33, -0.47, -0.54, -0.5, -0.44, -0.1, -0.16, -0.03, -0.03, -0.42, -0.6, -0.29, -0.18, -0.15, -0.23, -0.33, -0.28, -0.26, -0.21, 0.01, -0.19, -0.17, -0.29, -0.14, 0.04, -0.15, -0.29, -0.25, -0.21, -0.22, -0.12, -0.29, -0.14, 0.28, 0.43, 0.02, -0.08, 0.25, 0.23, -0.08, -0.1, -0.15, -0.16, -0.29, -0.13, 0.03, 0.06, -0.29, -0.39, -0.38, 0.1, 0.15, 0.07, -0.03, 0.0, -0.05, 0.1, -0.14, 0.02, 0.0, -0.17, -0.1, 0.32, 0.07, -0.22, 0.27, 0.3, -0.16, -0.16, -0.1, 0.22, 0.05, 0.27, 0.29, 0.15, 0.29, 0.58, 0.3, 0.14, 0.28, 0.62, 0.43, 0.19, 0.37, 0.41, 0.37, 0.36, 0.35, 0.46, 0.33, 0.53, 0.8, 0.26, 0.29, 0.45, 0.64, 0.67, 0.55, 0.63, 0.56, 0.49, 0.43, 0.72, 0.66, 0.36, 0.58, 0.59, 0.66, 0.95, 1.07, 0.78, 0.63]}, {\"axis\": {\"matches\": true}, \"label\": \"44S-24S\", \"values\": [-0.04, -0.05, 0.01, -0.04, -0.19, -0.34, -0.2, -0.28, -0.31, -0.16, -0.18, -0.18, 0.02, 0.06, -0.15, -0.2, -0.15, -0.19, -0.28, -0.16, -0.29, -0.28, -0.28, -0.35, -0.37, -0.33, -0.21, -0.21, -0.29, -0.38, -0.33, -0.44, -0.37, -0.28, -0.16, -0.15, -0.23, -0.23, -0.06, -0.15, -0.19, -0.23, -0.24, -0.26, -0.4, -0.24, -0.35, -0.3, -0.29, -0.43, -0.33, -0.42, -0.21, -0.22, -0.16, -0.31, -0.27, -0.19, -0.06, -0.04, 0.03, 0.04, 0.06, 0.07, 0.19, 0.04, -0.22, -0.19, -0.19, -0.17, -0.06, -0.22, -0.1, -0.08, -0.18, -0.16, -0.14, -0.09, -0.08, -0.03, -0.1, 0.14, 0.09, -0.1, -0.3, -0.23, -0.24, -0.09, -0.14, 0.0, 0.11, 0.03, 0.16, 0.22, 0.22, 0.13, 0.1, 0.21, 0.21, 0.29, 0.35, 0.28, 0.18, 0.21, 0.16, 0.3, 0.25, 0.32, 0.38, 0.36, 0.38, 0.31, 0.2, 0.27, 0.26, 0.29, 0.33, 0.42, 0.39, 0.46, 0.42, 0.58, 0.49, 0.44, 0.48, 0.49, 0.51, 0.5, 0.53, 0.6, 0.63, 0.64, 0.56, 0.63, 0.72, 0.75, 0.67, 0.76, 0.8]}, {\"axis\": {\"matches\": true}, \"label\": \"64S-44S\", \"values\": [0.05, -0.07, 0.04, 0.07, -0.02, -0.15, -0.21, -0.26, -0.23, -0.15, -0.27, -0.24, -0.22, -0.2, -0.35, -0.32, -0.13, -0.27, -0.21, -0.22, -0.29, -0.34, -0.43, -0.4, -0.49, -0.37, -0.23, -0.37, -0.48, -0.52, -0.45, -0.53, -0.29, -0.4, -0.18, -0.24, -0.17, -0.1, -0.23, -0.32, -0.48, -0.38, -0.29, -0.41, -0.45, -0.55, -0.45, -0.46, -0.48, -0.45, -0.47, -0.4, -0.53, -0.49, -0.38, -0.42, -0.33, -0.26, -0.11, -0.19, -0.2, -0.15, -0.05, -0.01, -0.1, 0.0, -0.24, -0.08, -0.19, -0.15, -0.16, -0.16, -0.02, -0.24, -0.2, -0.08, 0.02, -0.02, -0.08, -0.26, -0.07, -0.17, -0.07, -0.17, -0.07, -0.03, -0.14, -0.02, 0.0, 0.13, 0.03, 0.16, -0.02, 0.08, -0.08, 0.14, 0.22, 0.31, 0.13, 0.33, 0.37, 0.39, 0.32, 0.41, 0.32, 0.44, 0.25, 0.25, 0.2, 0.3, 0.37, 0.29, 0.33, 0.39, 0.23, 0.15, 0.28, 0.36, 0.31, 0.19, 0.1, 0.24, 0.32, 0.24, 0.23, 0.19, 0.2, 0.07, 0.09, 0.15, 0.2, 0.18, 0.19, 0.23, 0.18, 0.18, 0.26, 0.35, 0.38]}, {\"axis\": {\"matches\": true}, \"label\": \"90S-64S\", \"values\": [0.63, 0.56, 0.59, 0.46, 0.61, 0.78, 0.55, 0.28, 0.12, 0.41, 0.11, -0.2, 0.05, -0.08, -0.42, -0.62, 0.22, 0.36, 0.34, 0.54, 0.23, 0.22, -0.09, -0.5, -1.32, -0.34, -0.71, -1.2, 0.67, -0.57, 0.16, 0.05, -1.64, -1.04, -0.37, -1.98, -1.05, 0.06, -0.28, 0.19, -1.15, -0.84, -0.28, -0.55, -0.53, -0.86, -0.64, -1.38, -2.12, -1.08, -2.6, -0.41, -0.99, -1.15, -0.57, -1.72, -0.04, 0.36, -0.87, -1.61, -0.06, -0.47, -0.9, 1.13, -0.92, -1.75, -0.14, -0.19, -1.35, -1.95, -0.87, -0.69, -0.49, -1.09, -0.8, 1.22, 0.76, 0.48, -0.47, -0.33, -0.7, 0.25, -0.55, -0.03, -0.4, -0.03, 0.06, 0.29, -0.03, -0.09, 0.26, 0.4, 0.4, 0.33, 0.64, 0.25, -0.28, 0.24, 0.03, -0.21, 0.57, 0.56, -0.12, -0.02, 0.47, 0.0, -0.1, 0.01, 0.78, 0.3, 0.39, 0.89, 0.34, -0.32, -0.06, 0.15, 1.2, 0.01, 0.19, 0.04, 0.27, 0.32, 0.74, 0.45, 0.06, 0.72, 0.44, 1.17, 0.56, 0.91, 0.48, 0.98, 0.26, 0.99, 0.52, -0.34, 0.36, 0.54, 0.93]}], \"hoverlabel\": {\"namelength\": 0}, \"hovertemplate\": \"%{xaxis.title.text}=%{x}<br>%{yaxis.title.text}=%{y}\", \"legendgroup\": \"\", \"marker\": {\"color\": \"#636efa\", \"symbol\": \"circle\"}, \"name\": \"\", \"showlegend\": false, \"type\": \"splom\"}],\n",
              "                        {\"dragmode\": \"select\", \"height\": 1000, \"legend\": {\"tracegroupgap\": 0}, \"margin\": {\"t\": 60}, \"template\": {\"data\": {\"bar\": [{\"error_x\": {\"color\": \"#2a3f5f\"}, \"error_y\": {\"color\": \"#2a3f5f\"}, \"marker\": {\"line\": {\"color\": \"#E5ECF6\", \"width\": 0.5}}, \"type\": \"bar\"}], \"barpolar\": [{\"marker\": {\"line\": {\"color\": \"#E5ECF6\", \"width\": 0.5}}, \"type\": \"barpolar\"}], \"carpet\": [{\"aaxis\": {\"endlinecolor\": \"#2a3f5f\", \"gridcolor\": \"white\", \"linecolor\": \"white\", \"minorgridcolor\": \"white\", \"startlinecolor\": \"#2a3f5f\"}, \"baxis\": {\"endlinecolor\": \"#2a3f5f\", \"gridcolor\": \"white\", \"linecolor\": \"white\", \"minorgridcolor\": \"white\", \"startlinecolor\": \"#2a3f5f\"}, \"type\": \"carpet\"}], \"choropleth\": [{\"colorbar\": {\"outlinewidth\": 0, \"ticks\": \"\"}, \"type\": \"choropleth\"}], \"contour\": [{\"colorbar\": {\"outlinewidth\": 0, \"ticks\": \"\"}, \"colorscale\": [[0.0, \"#0d0887\"], [0.1111111111111111, \"#46039f\"], [0.2222222222222222, \"#7201a8\"], [0.3333333333333333, \"#9c179e\"], [0.4444444444444444, \"#bd3786\"], [0.5555555555555556, \"#d8576b\"], [0.6666666666666666, \"#ed7953\"], [0.7777777777777778, \"#fb9f3a\"], [0.8888888888888888, \"#fdca26\"], [1.0, \"#f0f921\"]], \"type\": \"contour\"}], \"contourcarpet\": [{\"colorbar\": {\"outlinewidth\": 0, \"ticks\": \"\"}, \"type\": \"contourcarpet\"}], \"heatmap\": [{\"colorbar\": {\"outlinewidth\": 0, \"ticks\": \"\"}, \"colorscale\": [[0.0, \"#0d0887\"], [0.1111111111111111, \"#46039f\"], [0.2222222222222222, \"#7201a8\"], [0.3333333333333333, \"#9c179e\"], [0.4444444444444444, \"#bd3786\"], [0.5555555555555556, \"#d8576b\"], [0.6666666666666666, \"#ed7953\"], [0.7777777777777778, \"#fb9f3a\"], [0.8888888888888888, \"#fdca26\"], [1.0, \"#f0f921\"]], \"type\": \"heatmap\"}], \"heatmapgl\": [{\"colorbar\": {\"outlinewidth\": 0, \"ticks\": \"\"}, \"colorscale\": [[0.0, \"#0d0887\"], [0.1111111111111111, \"#46039f\"], [0.2222222222222222, \"#7201a8\"], [0.3333333333333333, \"#9c179e\"], [0.4444444444444444, \"#bd3786\"], [0.5555555555555556, \"#d8576b\"], [0.6666666666666666, \"#ed7953\"], [0.7777777777777778, \"#fb9f3a\"], [0.8888888888888888, \"#fdca26\"], [1.0, \"#f0f921\"]], \"type\": \"heatmapgl\"}], \"histogram\": [{\"marker\": {\"colorbar\": {\"outlinewidth\": 0, \"ticks\": \"\"}}, \"type\": \"histogram\"}], \"histogram2d\": [{\"colorbar\": {\"outlinewidth\": 0, \"ticks\": \"\"}, \"colorscale\": [[0.0, \"#0d0887\"], [0.1111111111111111, \"#46039f\"], [0.2222222222222222, \"#7201a8\"], [0.3333333333333333, \"#9c179e\"], [0.4444444444444444, \"#bd3786\"], [0.5555555555555556, \"#d8576b\"], [0.6666666666666666, \"#ed7953\"], [0.7777777777777778, \"#fb9f3a\"], [0.8888888888888888, \"#fdca26\"], [1.0, \"#f0f921\"]], \"type\": \"histogram2d\"}], \"histogram2dcontour\": [{\"colorbar\": {\"outlinewidth\": 0, \"ticks\": \"\"}, \"colorscale\": [[0.0, \"#0d0887\"], [0.1111111111111111, \"#46039f\"], [0.2222222222222222, \"#7201a8\"], [0.3333333333333333, \"#9c179e\"], [0.4444444444444444, \"#bd3786\"], [0.5555555555555556, \"#d8576b\"], [0.6666666666666666, \"#ed7953\"], [0.7777777777777778, \"#fb9f3a\"], [0.8888888888888888, \"#fdca26\"], [1.0, \"#f0f921\"]], \"type\": \"histogram2dcontour\"}], \"mesh3d\": [{\"colorbar\": {\"outlinewidth\": 0, \"ticks\": \"\"}, \"type\": \"mesh3d\"}], \"parcoords\": [{\"line\": {\"colorbar\": {\"outlinewidth\": 0, \"ticks\": \"\"}}, \"type\": \"parcoords\"}], \"pie\": [{\"automargin\": true, \"type\": \"pie\"}], \"scatter\": [{\"marker\": {\"colorbar\": {\"outlinewidth\": 0, \"ticks\": \"\"}}, \"type\": \"scatter\"}], \"scatter3d\": [{\"line\": {\"colorbar\": {\"outlinewidth\": 0, \"ticks\": \"\"}}, \"marker\": {\"colorbar\": {\"outlinewidth\": 0, \"ticks\": \"\"}}, \"type\": \"scatter3d\"}], \"scattercarpet\": [{\"marker\": {\"colorbar\": {\"outlinewidth\": 0, \"ticks\": \"\"}}, \"type\": \"scattercarpet\"}], \"scattergeo\": [{\"marker\": {\"colorbar\": {\"outlinewidth\": 0, \"ticks\": \"\"}}, \"type\": \"scattergeo\"}], \"scattergl\": [{\"marker\": {\"colorbar\": {\"outlinewidth\": 0, \"ticks\": \"\"}}, \"type\": \"scattergl\"}], \"scattermapbox\": [{\"marker\": {\"colorbar\": {\"outlinewidth\": 0, \"ticks\": \"\"}}, \"type\": \"scattermapbox\"}], \"scatterpolar\": [{\"marker\": {\"colorbar\": {\"outlinewidth\": 0, \"ticks\": \"\"}}, \"type\": \"scatterpolar\"}], \"scatterpolargl\": [{\"marker\": {\"colorbar\": {\"outlinewidth\": 0, \"ticks\": \"\"}}, \"type\": \"scatterpolargl\"}], \"scatterternary\": [{\"marker\": {\"colorbar\": {\"outlinewidth\": 0, \"ticks\": \"\"}}, \"type\": \"scatterternary\"}], \"surface\": [{\"colorbar\": {\"outlinewidth\": 0, \"ticks\": \"\"}, \"colorscale\": [[0.0, \"#0d0887\"], [0.1111111111111111, \"#46039f\"], [0.2222222222222222, \"#7201a8\"], [0.3333333333333333, \"#9c179e\"], [0.4444444444444444, \"#bd3786\"], [0.5555555555555556, \"#d8576b\"], [0.6666666666666666, \"#ed7953\"], [0.7777777777777778, \"#fb9f3a\"], [0.8888888888888888, \"#fdca26\"], [1.0, \"#f0f921\"]], \"type\": \"surface\"}], \"table\": [{\"cells\": {\"fill\": {\"color\": \"#EBF0F8\"}, \"line\": {\"color\": \"white\"}}, \"header\": {\"fill\": {\"color\": \"#C8D4E3\"}, \"line\": {\"color\": \"white\"}}, \"type\": \"table\"}]}, \"layout\": {\"annotationdefaults\": {\"arrowcolor\": \"#2a3f5f\", \"arrowhead\": 0, \"arrowwidth\": 1}, \"coloraxis\": {\"colorbar\": {\"outlinewidth\": 0, \"ticks\": \"\"}}, \"colorscale\": {\"diverging\": [[0, \"#8e0152\"], [0.1, \"#c51b7d\"], [0.2, \"#de77ae\"], [0.3, \"#f1b6da\"], [0.4, \"#fde0ef\"], [0.5, \"#f7f7f7\"], [0.6, \"#e6f5d0\"], [0.7, \"#b8e186\"], [0.8, \"#7fbc41\"], [0.9, \"#4d9221\"], [1, \"#276419\"]], \"sequential\": [[0.0, \"#0d0887\"], [0.1111111111111111, \"#46039f\"], [0.2222222222222222, \"#7201a8\"], [0.3333333333333333, \"#9c179e\"], [0.4444444444444444, \"#bd3786\"], [0.5555555555555556, \"#d8576b\"], [0.6666666666666666, \"#ed7953\"], [0.7777777777777778, \"#fb9f3a\"], [0.8888888888888888, \"#fdca26\"], [1.0, \"#f0f921\"]], \"sequentialminus\": [[0.0, \"#0d0887\"], [0.1111111111111111, \"#46039f\"], [0.2222222222222222, \"#7201a8\"], [0.3333333333333333, \"#9c179e\"], [0.4444444444444444, \"#bd3786\"], [0.5555555555555556, \"#d8576b\"], [0.6666666666666666, \"#ed7953\"], [0.7777777777777778, \"#fb9f3a\"], [0.8888888888888888, \"#fdca26\"], [1.0, \"#f0f921\"]]}, \"colorway\": [\"#636efa\", \"#EF553B\", \"#00cc96\", \"#ab63fa\", \"#FFA15A\", \"#19d3f3\", \"#FF6692\", \"#B6E880\", \"#FF97FF\", \"#FECB52\"], \"font\": {\"color\": \"#2a3f5f\"}, \"geo\": {\"bgcolor\": \"white\", \"lakecolor\": \"white\", \"landcolor\": \"#E5ECF6\", \"showlakes\": true, \"showland\": true, \"subunitcolor\": \"white\"}, \"hoverlabel\": {\"align\": \"left\"}, \"hovermode\": \"closest\", \"mapbox\": {\"style\": \"light\"}, \"paper_bgcolor\": \"white\", \"plot_bgcolor\": \"#E5ECF6\", \"polar\": {\"angularaxis\": {\"gridcolor\": \"white\", \"linecolor\": \"white\", \"ticks\": \"\"}, \"bgcolor\": \"#E5ECF6\", \"radialaxis\": {\"gridcolor\": \"white\", \"linecolor\": \"white\", \"ticks\": \"\"}}, \"scene\": {\"xaxis\": {\"backgroundcolor\": \"#E5ECF6\", \"gridcolor\": \"white\", \"gridwidth\": 2, \"linecolor\": \"white\", \"showbackground\": true, \"ticks\": \"\", \"zerolinecolor\": \"white\"}, \"yaxis\": {\"backgroundcolor\": \"#E5ECF6\", \"gridcolor\": \"white\", \"gridwidth\": 2, \"linecolor\": \"white\", \"showbackground\": true, \"ticks\": \"\", \"zerolinecolor\": \"white\"}, \"zaxis\": {\"backgroundcolor\": \"#E5ECF6\", \"gridcolor\": \"white\", \"gridwidth\": 2, \"linecolor\": \"white\", \"showbackground\": true, \"ticks\": \"\", \"zerolinecolor\": \"white\"}}, \"shapedefaults\": {\"line\": {\"color\": \"#2a3f5f\"}}, \"ternary\": {\"aaxis\": {\"gridcolor\": \"white\", \"linecolor\": \"white\", \"ticks\": \"\"}, \"baxis\": {\"gridcolor\": \"white\", \"linecolor\": \"white\", \"ticks\": \"\"}, \"bgcolor\": \"#E5ECF6\", \"caxis\": {\"gridcolor\": \"white\", \"linecolor\": \"white\", \"ticks\": \"\"}}, \"title\": {\"x\": 0.05}, \"xaxis\": {\"automargin\": true, \"gridcolor\": \"white\", \"linecolor\": \"white\", \"ticks\": \"\", \"title\": {\"standoff\": 15}, \"zerolinecolor\": \"white\", \"zerolinewidth\": 2}, \"yaxis\": {\"automargin\": true, \"gridcolor\": \"white\", \"linecolor\": \"white\", \"ticks\": \"\", \"title\": {\"standoff\": 15}, \"zerolinecolor\": \"white\", \"zerolinewidth\": 2}}}},\n",
              "                        {\"responsive\": true}\n",
              "                    ).then(function(){\n",
              "                            \n",
              "var gd = document.getElementById('f03b5ac9-6071-4f0b-9ebe-afa7f3bba48a');\n",
              "var x = new MutationObserver(function (mutations, observer) {{\n",
              "        var display = window.getComputedStyle(gd).display;\n",
              "        if (!display || display === 'none') {{\n",
              "            console.log([gd, 'removed!']);\n",
              "            Plotly.purge(gd);\n",
              "            observer.disconnect();\n",
              "        }}\n",
              "}});\n",
              "\n",
              "// Listen for the removal of the full notebook cells\n",
              "var notebookContainer = gd.closest('#notebook-container');\n",
              "if (notebookContainer) {{\n",
              "    x.observe(notebookContainer, {childList: true});\n",
              "}}\n",
              "\n",
              "// Listen for the clearing of the current output cell\n",
              "var outputEl = gd.closest('.output');\n",
              "if (outputEl) {{\n",
              "    x.observe(outputEl, {childList: true});\n",
              "}}\n",
              "\n",
              "                        })\n",
              "                };\n",
              "                \n",
              "            </script>\n",
              "        </div>\n",
              "</body>\n",
              "</html>"
            ]
          },
          "metadata": {
            "tags": []
          }
        }
      ]
    },
    {
      "cell_type": "markdown",
      "metadata": {
        "id": "C0D7QH0G-sRX",
        "colab_type": "text"
      },
      "source": [
        "#Análise de componentes principais"
      ]
    },
    {
      "cell_type": "code",
      "metadata": {
        "id": "vgzlsbNRz2c6",
        "colab_type": "code",
        "colab": {}
      },
      "source": [
        " pca_3d = PCA(n_components=3)"
      ],
      "execution_count": null,
      "outputs": []
    },
    {
      "cell_type": "code",
      "metadata": {
        "id": "SJragyY8_BW_",
        "colab_type": "code",
        "colab": {
          "base_uri": "https://localhost:8080/",
          "height": 52
        },
        "outputId": "458b4ea1-a929-442f-bbe2-5e2a0d865c7f"
      },
      "source": [
        "pca_3d.fit(sector_data[sector_cols])"
      ],
      "execution_count": null,
      "outputs": [
        {
          "output_type": "execute_result",
          "data": {
            "text/plain": [
              "PCA(copy=True, iterated_power='auto', n_components=3, random_state=None,\n",
              "    svd_solver='auto', tol=0.0, whiten=False)"
            ]
          },
          "metadata": {
            "tags": []
          },
          "execution_count": 17
        }
      ]
    },
    {
      "cell_type": "code",
      "metadata": {
        "id": "HXh-ECZ9_OvI",
        "colab_type": "code",
        "colab": {
          "base_uri": "https://localhost:8080/",
          "height": 34
        },
        "outputId": "075c7aed-b20e-4938-c23d-d825e5a9ed5c"
      },
      "source": [
        "pca_3d.explained_variance_ratio_"
      ],
      "execution_count": null,
      "outputs": [
        {
          "output_type": "execute_result",
          "data": {
            "text/plain": [
              "array([0.65316183, 0.24348766, 0.05743673])"
            ]
          },
          "metadata": {
            "tags": []
          },
          "execution_count": 18
        }
      ]
    },
    {
      "cell_type": "markdown",
      "metadata": {
        "id": "RhknjjEVAFMs",
        "colab_type": "text"
      },
      "source": [
        "## Visualização da análise\n",
        "**Socres**: Coordenadas dos dados no espaço de componentes principais.\n",
        "\n",
        "**Loadings**: Projeção dos eixos originais no espaço de componentes principais"
      ]
    },
    {
      "cell_type": "code",
      "metadata": {
        "id": "LgAmDAUx_UO0",
        "colab_type": "code",
        "colab": {}
      },
      "source": [
        "scores_3d = pca_3d.transform(sector_data[sector_cols])"
      ],
      "execution_count": null,
      "outputs": []
    },
    {
      "cell_type": "code",
      "metadata": {
        "id": "-ZeGgzHfA0sr",
        "colab_type": "code",
        "colab": {}
      },
      "source": [
        "scores_3d = scores_3d / np.max(np.abs(scores_3d)) #Normalização"
      ],
      "execution_count": null,
      "outputs": []
    },
    {
      "cell_type": "code",
      "metadata": {
        "id": "JPs9Fd1bBB9c",
        "colab_type": "code",
        "colab": {}
      },
      "source": [
        "loadings_3d = pca_3d.components_"
      ],
      "execution_count": null,
      "outputs": []
    },
    {
      "cell_type": "code",
      "metadata": {
        "id": "G4VulcIaBOca",
        "colab_type": "code",
        "colab": {}
      },
      "source": [
        "pca_df_3d = pd.DataFrame({'Componente 1': scores_3d[:, 0],\n",
        "                          'Componente 2': scores_3d[:, 1],\n",
        "                          'Componente 3': scores_3d[:, 2],\n",
        "                          'Ano': raw_data.Year})"
      ],
      "execution_count": null,
      "outputs": []
    },
    {
      "cell_type": "code",
      "metadata": {
        "id": "xxyErijIBzah",
        "colab_type": "code",
        "colab": {
          "base_uri": "https://localhost:8080/",
          "height": 424
        },
        "outputId": "89d55d52-3728-4eb3-85eb-2ae572cbfa37"
      },
      "source": [
        "pca_df_3d"
      ],
      "execution_count": null,
      "outputs": [
        {
          "output_type": "execute_result",
          "data": {
            "text/html": [
              "<div>\n",
              "<style scoped>\n",
              "    .dataframe tbody tr th:only-of-type {\n",
              "        vertical-align: middle;\n",
              "    }\n",
              "\n",
              "    .dataframe tbody tr th {\n",
              "        vertical-align: top;\n",
              "    }\n",
              "\n",
              "    .dataframe thead th {\n",
              "        text-align: right;\n",
              "    }\n",
              "</style>\n",
              "<table border=\"1\" class=\"dataframe\">\n",
              "  <thead>\n",
              "    <tr style=\"text-align: right;\">\n",
              "      <th></th>\n",
              "      <th>Componente 1</th>\n",
              "      <th>Componente 2</th>\n",
              "      <th>Componente 3</th>\n",
              "      <th>Ano</th>\n",
              "    </tr>\n",
              "  </thead>\n",
              "  <tbody>\n",
              "    <tr>\n",
              "      <th>0</th>\n",
              "      <td>-0.243162</td>\n",
              "      <td>-0.280272</td>\n",
              "      <td>0.020448</td>\n",
              "      <td>1880</td>\n",
              "    </tr>\n",
              "    <tr>\n",
              "      <th>1</th>\n",
              "      <td>-0.234494</td>\n",
              "      <td>-0.277348</td>\n",
              "      <td>-0.046963</td>\n",
              "      <td>1881</td>\n",
              "    </tr>\n",
              "    <tr>\n",
              "      <th>2</th>\n",
              "      <td>-0.312314</td>\n",
              "      <td>-0.334217</td>\n",
              "      <td>-0.108780</td>\n",
              "      <td>1882</td>\n",
              "    </tr>\n",
              "    <tr>\n",
              "      <th>3</th>\n",
              "      <td>-0.146137</td>\n",
              "      <td>-0.176149</td>\n",
              "      <td>0.100846</td>\n",
              "      <td>1883</td>\n",
              "    </tr>\n",
              "    <tr>\n",
              "      <th>4</th>\n",
              "      <td>-0.389550</td>\n",
              "      <td>-0.323359</td>\n",
              "      <td>-0.009479</td>\n",
              "      <td>1884</td>\n",
              "    </tr>\n",
              "    <tr>\n",
              "      <th>...</th>\n",
              "      <td>...</td>\n",
              "      <td>...</td>\n",
              "      <td>...</td>\n",
              "      <td>...</td>\n",
              "    </tr>\n",
              "    <tr>\n",
              "      <th>134</th>\n",
              "      <td>0.682813</td>\n",
              "      <td>-0.000234</td>\n",
              "      <td>-0.003415</td>\n",
              "      <td>2014</td>\n",
              "    </tr>\n",
              "    <tr>\n",
              "      <th>135</th>\n",
              "      <td>0.713056</td>\n",
              "      <td>0.190430</td>\n",
              "      <td>-0.194543</td>\n",
              "      <td>2015</td>\n",
              "    </tr>\n",
              "    <tr>\n",
              "      <th>136</th>\n",
              "      <td>1.000000</td>\n",
              "      <td>0.149389</td>\n",
              "      <td>0.026736</td>\n",
              "      <td>2016</td>\n",
              "    </tr>\n",
              "    <tr>\n",
              "      <th>137</th>\n",
              "      <td>0.849818</td>\n",
              "      <td>0.032103</td>\n",
              "      <td>-0.021007</td>\n",
              "      <td>2017</td>\n",
              "    </tr>\n",
              "    <tr>\n",
              "      <th>138</th>\n",
              "      <td>0.762961</td>\n",
              "      <td>-0.096608</td>\n",
              "      <td>0.012529</td>\n",
              "      <td>2018</td>\n",
              "    </tr>\n",
              "  </tbody>\n",
              "</table>\n",
              "<p>139 rows × 4 columns</p>\n",
              "</div>"
            ],
            "text/plain": [
              "     Componente 1  Componente 2  Componente 3   Ano\n",
              "0       -0.243162     -0.280272      0.020448  1880\n",
              "1       -0.234494     -0.277348     -0.046963  1881\n",
              "2       -0.312314     -0.334217     -0.108780  1882\n",
              "3       -0.146137     -0.176149      0.100846  1883\n",
              "4       -0.389550     -0.323359     -0.009479  1884\n",
              "..            ...           ...           ...   ...\n",
              "134      0.682813     -0.000234     -0.003415  2014\n",
              "135      0.713056      0.190430     -0.194543  2015\n",
              "136      1.000000      0.149389      0.026736  2016\n",
              "137      0.849818      0.032103     -0.021007  2017\n",
              "138      0.762961     -0.096608      0.012529  2018\n",
              "\n",
              "[139 rows x 4 columns]"
            ]
          },
          "metadata": {
            "tags": []
          },
          "execution_count": 26
        }
      ]
    },
    {
      "cell_type": "code",
      "metadata": {
        "id": "rrdx5WaiC877",
        "colab_type": "code",
        "colab": {}
      },
      "source": [
        "fig = px.scatter_3d(pca_df_3d, x='Componente 1', y='Componente 2', z='Componente 3')\n",
        "for i in range(8):\n",
        "  fig.add_scatter(x=[0, loadings_3d[0, i]], y = [0, loadings_3d[1,i]], z = [0, loadings_3d[2, i]],\n",
        "                  mode='lines', hoverinfo=None, marker={'color': 'black'},\n",
        "                  showlegend=False)\n",
        "  fig.add_annotation(x=loadings_3d[0, i], y = loadings_3d[1,i], z = loadings_3d[2, i], text=sector_cols[i],\n",
        "                     bgcolor='white', bordercolor='black')"
      ],
      "execution_count": null,
      "outputs": []
    },
    {
      "cell_type": "code",
      "metadata": {
        "id": "UyQemZzUEI1j",
        "colab_type": "code",
        "colab": {
          "base_uri": "https://localhost:8080/",
          "height": 617
        },
        "outputId": "ed8a1728-f95b-44de-a435-015b5aef8327"
      },
      "source": [
        "fig.show()"
      ],
      "execution_count": null,
      "outputs": [
        {
          "output_type": "display_data",
          "data": {
            "text/html": [
              "<html>\n",
              "<head><meta charset=\"utf-8\" /></head>\n",
              "<body>\n",
              "    <div>\n",
              "            <script src=\"https://cdnjs.cloudflare.com/ajax/libs/mathjax/2.7.5/MathJax.js?config=TeX-AMS-MML_SVG\"></script><script type=\"text/javascript\">if (window.MathJax) {MathJax.Hub.Config({SVG: {font: \"STIX-Web\"}});}</script>\n",
              "                <script type=\"text/javascript\">window.PlotlyConfig = {MathJaxConfig: 'local'};</script>\n",
              "        <script src=\"https://cdn.plot.ly/plotly-latest.min.js\"></script>    \n",
              "            <div id=\"01277fe9-3e4c-453f-b85f-9ab28e75a194\" class=\"plotly-graph-div\" style=\"height:600px; width:100%;\"></div>\n",
              "            <script type=\"text/javascript\">\n",
              "                \n",
              "                    window.PLOTLYENV=window.PLOTLYENV || {};\n",
              "                    \n",
              "                if (document.getElementById(\"01277fe9-3e4c-453f-b85f-9ab28e75a194\")) {\n",
              "                    Plotly.newPlot(\n",
              "                        '01277fe9-3e4c-453f-b85f-9ab28e75a194',\n",
              "                        [{\"hoverlabel\": {\"namelength\": 0}, \"hovertemplate\": \"Componente 1=%{x}<br>Componente 2=%{y}<br>Componente 3=%{z}\", \"legendgroup\": \"\", \"marker\": {\"color\": \"#636efa\", \"symbol\": \"circle\"}, \"mode\": \"markers\", \"name\": \"\", \"scene\": \"scene\", \"showlegend\": false, \"type\": \"scatter3d\", \"x\": [-0.24316180108690238, -0.23449422731595918, -0.31231445364284766, -0.14613673850150002, -0.38955032967680586, -0.42961253367639685, -0.43780140726158046, -0.5000296567793769, -0.362448360733366, -0.1985982476280937, -0.402770047715687, -0.36224868600945653, -0.37916607678560293, -0.3221771716867038, -0.36081207889728767, -0.3154845110547922, -0.2478719343560248, -0.1906472621254118, -0.3211890199911698, -0.25846701707691294, -0.1625180715114023, -0.16671113220578726, -0.43450721628575534, -0.28679749038571933, -0.36451354880546766, -0.1900739061971439, -0.2203471611922114, -0.4138661540986947, -0.2289843012046764, -0.42051639819460207, -0.2972455804170019, -0.2714190928649633, -0.417443455438919, -0.34003487222535356, -0.1989048550238161, -0.3338175244555254, -0.3520125763965509, -0.3765965922167713, -0.36357392092036434, -0.29327820560250617, -0.22814660375903548, -0.14806551140111557, -0.23732701100936163, -0.1497197501149981, -0.10750314960605802, -0.17283118188812835, -0.011236509075528126, -0.2167193342080541, -0.1333393077851763, -0.25761661706334954, -0.16600896376679106, -0.006561223673945574, -0.06098593986696057, -0.27250103338702464, 0.057696299257894566, -0.16350130388992767, -0.023605130884830565, 0.18697174406471015, 0.19391230910435012, -0.028983689272020417, 0.16255618550081122, -0.022731410558344056, 0.04570371710185562, 0.32926311853008816, 0.20752463122154446, -0.014641993177061762, -0.07797119788540315, 0.11499799580231929, -0.11443554482904336, -0.14970035172246351, -0.13761257965371565, -0.08837898688012015, -0.025366125934217002, 0.12302877361435209, -0.008807877873129885, -0.05960769353969357, -0.09739397266977097, 0.023841790428896177, -0.06401902373664045, 0.04662910168729133, -0.03001487638287019, -0.00397565830669484, 0.0472127222750066, -0.031201916569227963, -0.26381212717596664, -0.151094218226589, -0.2085603733674339, 0.045588800167707354, -0.13196146482085483, -0.08923718250329855, -0.06855495049320051, -0.061380826801856386, -0.1271730855562357, 0.06124438758923769, -0.0721017811594141, 0.016033346788146732, -0.1280355525244508, 0.07681822187183977, -0.04422101932473216, -0.09787878802482934, 0.11709117890538542, 0.3442323025081539, -0.0680894732298739, 0.14278467246960638, 0.0991292009526154, 0.04741483524520801, 0.03591445139350209, 0.010887777474461945, 0.27431005904205713, 0.18015729182792106, 0.3046633807433411, 0.3211398048571207, 0.05282082500820013, 0.13265867879245177, 0.16484144314587998, 0.4211718934608088, 0.275767429058932, 0.3148289450817513, 0.399472025178342, 0.23324869121092753, 0.3417903671640229, 0.4171131639248107, 0.5058595249253914, 0.5290486253412606, 0.3061317423849136, 0.6650155356319893, 0.5852029650468307, 0.7148755394606884, 0.5284840206069018, 0.5264934756619982, 0.6841346716637563, 0.6983854972142824, 0.6502526925067524, 0.5977620772253172, 0.6828126047284349, 0.7130564128908846, 1.0, 0.8498182938830611, 0.7629606896005344], \"y\": [-0.28027227403194455, -0.27734797826366975, -0.3342166033093517, -0.1761486980232039, -0.3233594875292486, -0.3766324628677878, -0.3283890705108274, -0.2748671557667043, -0.20305300808714996, -0.21219313142129514, -0.16957897618476755, -0.10320061240415805, -0.16345180921952487, -0.08610825037195997, -0.021068728173913153, 0.04603759294867283, -0.1863186864911983, -0.1834638241449536, -0.22185410775696693, -0.2675162715347706, -0.14736651271771523, -0.12440644582986314, -0.1511975282323586, 0.0722873915904254, 0.2866670831974814, 0.05095165689366012, 0.11343545326845833, 0.20107260989765496, -0.19280737554023125, 0.05259037737191634, -0.10232761239080185, -0.04514918763416643, 0.31276478166758587, 0.17875633450341846, 0.014864038067206608, 0.37358573280099594, 0.17645457970547498, -0.11784387065188323, -0.06663791018026463, -0.14617788594332118, 0.2541095711698399, 0.18001993583457637, 0.012530195941213778, 0.1312475079576298, 0.15935895828220895, 0.18508223608032756, 0.1901768334101749, 0.31089043600284944, 0.5594748508932549, 0.25678624173461756, 0.6537514581864453, 0.13261465509359485, 0.2706225720710592, 0.2402087086364488, 0.20938578428387894, 0.4264425296495056, 0.028739861747807967, 0.01217365181246334, 0.3313186807826591, 0.4074738383609634, 0.06849033347361752, 0.05192565025554207, 0.23996188309155617, -0.16356808978509182, 0.28969050869500373, 0.4265971016405608, 0.0003458317599605822, 0.11836483922590066, 0.30662904857360984, 0.45420366806616647, 0.19605824782085102, 0.1401627880020435, 0.09966701592407666, 0.32804264999221594, 0.24377145493974858, -0.34247043641384767, -0.2140064350799139, -0.1483268520494552, 0.04624124931811126, 0.09071114751164469, 0.15854069382055133, -0.1145133359060411, 0.13464583674021507, -0.04888052491291619, -0.006887027619078471, -0.06161422505645574, -0.13213279013418863, -0.0677868815769729, -0.06748015460263111, -0.049459649715062, -0.13648995377251327, -0.14663487058861333, -0.19108575601581976, -0.130206817889606, -0.213122720799328, -0.09245181069939178, 0.004570490796925373, -0.1071099386389163, -0.08220675905437647, -0.08776918984422229, -0.1883611900342388, -0.08846031714475991, -0.08380321589097266, -0.05223171958805969, -0.14179303934729182, -0.03482061769529318, -0.04294873989682308, -0.12256601509645454, -0.1964549106560207, -0.10324102797588537, -0.10956443864827548, -0.20663302773193484, -0.16699193528509412, 0.05546118185852809, -0.020321058718147315, 0.03220178694979885, -0.2797327229893749, -0.00663577477847819, -0.04369401179968768, -0.03712024006380521, -0.029308848278302723, -0.046131848429662344, -0.1313548009344215, -0.034241060652943, -0.046331008970442934, -0.04579593307397411, -0.005403213561537907, -0.12881332911848448, -0.04327699453239305, -0.1558298006385975, 0.025721262356003687, -0.06674439134387186, 0.0850499291524083, -0.15824624543313343, -0.00023449041973610057, 0.19043036457202717, 0.14938947430433466, 0.032102692923618066, -0.09660761751294843], \"z\": [0.020447944380359198, -0.04696250365769423, -0.10877970719822364, 0.10084646993944854, -0.009478595851155866, -0.004506001000731915, -0.04684752106184931, -0.06941616588992203, -0.11572320860019976, -0.027753869741511186, 0.01920870942282351, -0.0849172254350307, -0.019876103869494476, 0.04820543571378792, -0.03608349030500042, -0.04889539829184474, -0.0658040049024466, -0.0012215154829068038, -0.015732819227207383, -0.03086316303989628, -0.03791510671838277, 0.02400654242017563, -0.0892025034001214, 0.08973260150205714, 0.08911004168839934, 0.07722833287240542, -0.005748521524401275, -0.0008182284515721303, 0.2476661309893701, 0.08230822255912969, 0.1411651799670205, 0.18239915452927477, -0.04655476944890895, -0.005405558978964798, -0.020266388197228476, -0.21051057705593954, 0.014941227557884192, 0.11266857179410412, -0.0366509045054979, 0.05498483643340732, 0.026450712229044264, 0.007769672943661965, 0.07480273517480016, 0.1068771378989451, 0.15938716353433613, 0.013509109382875901, 0.07271085524379235, -0.012188309917934622, 0.018274649723101475, 0.11036378224646926, -0.08274623197094268, 0.09488092212883412, 0.06031554157636342, 0.027214539231778228, 0.14619364247673458, -0.004929068196026333, 0.13082310311637518, 0.24811635466617518, 0.15929767501592404, -0.0524325252293386, 0.0935666279597013, -0.13418811471282271, 0.005962625237097699, 0.29004803568559256, -0.0059813495545043525, -0.11116406743331704, 0.023299121156560992, 0.17195043461199017, -0.064808742313808, -0.10201012734120904, 0.04961338065848254, -0.015857816751868117, -0.004524349858279378, 0.013994059774696338, 0.1268200930302344, 0.16616334210289085, 0.1943049217678803, 0.03855272927224542, -0.11597008989773988, 0.02607049181620085, -0.008363328833756652, -0.026175468383042584, -0.0096402191351785, -0.060533109689377564, -0.05068676043756522, 0.008417455238368551, -0.07798194146141502, 0.09844888086970335, -0.017331053981204034, -0.036203223070268, -0.014382036386245505, 0.07279348507322778, -0.008734500966044828, -0.04312086447436139, 0.08277687009262029, 0.040582118890975884, 0.008101316428816337, -0.04784324244069744, -0.05759262902417157, -0.2115992102073943, -0.0299892070880197, 0.05296944298296469, -0.15931864591051897, -0.16286715028249768, 0.020460588759289033, 0.003937304976833391, -0.11343451616747588, -0.22911399843563243, -0.02495410678537109, -0.06748118250687264, -0.11133797154692351, -0.0005048065906221824, -0.12062959075034041, -0.0853475286928846, -0.12335191503099256, -0.022684797411748427, 0.0876220146406247, -0.1410890539458295, -0.17483334336180484, -0.13641037898635172, -0.024586569103273816, -0.07790749057451193, -0.05376782726860612, -0.04243631603639351, -0.20908388900072206, 0.032319896449864216, -0.011461342359671382, 0.1187503172366096, 0.020958030123162514, -0.003118074296209942, 0.035425228004881036, 0.17245724190158393, 0.04833947840769966, 0.0017196927897904198, -0.0034150353560261242, -0.19454344473684743, 0.026735623920767105, -0.021006793056723188, 0.012529360567303034]}],\n",
              "                        {\"height\": 600, \"legend\": {\"tracegroupgap\": 0}, \"margin\": {\"t\": 60}, \"scene\": {\"domain\": {\"x\": [0.0, 1.0], \"y\": [0.0, 1.0]}, \"xaxis\": {\"title\": {\"text\": \"Componente 1\"}}, \"yaxis\": {\"title\": {\"text\": \"Componente 2\"}}, \"zaxis\": {\"title\": {\"text\": \"Componente 3\"}}}, \"template\": {\"data\": {\"bar\": [{\"error_x\": {\"color\": \"#2a3f5f\"}, \"error_y\": {\"color\": \"#2a3f5f\"}, \"marker\": {\"line\": {\"color\": \"#E5ECF6\", \"width\": 0.5}}, \"type\": \"bar\"}], \"barpolar\": [{\"marker\": {\"line\": {\"color\": \"#E5ECF6\", \"width\": 0.5}}, \"type\": \"barpolar\"}], \"carpet\": [{\"aaxis\": {\"endlinecolor\": \"#2a3f5f\", \"gridcolor\": \"white\", \"linecolor\": \"white\", \"minorgridcolor\": \"white\", \"startlinecolor\": \"#2a3f5f\"}, \"baxis\": {\"endlinecolor\": \"#2a3f5f\", \"gridcolor\": \"white\", \"linecolor\": \"white\", \"minorgridcolor\": \"white\", \"startlinecolor\": \"#2a3f5f\"}, \"type\": \"carpet\"}], \"choropleth\": [{\"colorbar\": {\"outlinewidth\": 0, \"ticks\": \"\"}, \"type\": \"choropleth\"}], \"contour\": [{\"colorbar\": {\"outlinewidth\": 0, \"ticks\": \"\"}, \"colorscale\": [[0.0, \"#0d0887\"], [0.1111111111111111, \"#46039f\"], [0.2222222222222222, \"#7201a8\"], [0.3333333333333333, \"#9c179e\"], [0.4444444444444444, \"#bd3786\"], [0.5555555555555556, \"#d8576b\"], [0.6666666666666666, \"#ed7953\"], [0.7777777777777778, \"#fb9f3a\"], [0.8888888888888888, \"#fdca26\"], [1.0, \"#f0f921\"]], \"type\": \"contour\"}], \"contourcarpet\": [{\"colorbar\": {\"outlinewidth\": 0, \"ticks\": \"\"}, \"type\": \"contourcarpet\"}], \"heatmap\": [{\"colorbar\": {\"outlinewidth\": 0, \"ticks\": \"\"}, \"colorscale\": [[0.0, \"#0d0887\"], [0.1111111111111111, \"#46039f\"], [0.2222222222222222, \"#7201a8\"], [0.3333333333333333, \"#9c179e\"], [0.4444444444444444, \"#bd3786\"], [0.5555555555555556, \"#d8576b\"], [0.6666666666666666, \"#ed7953\"], [0.7777777777777778, \"#fb9f3a\"], [0.8888888888888888, \"#fdca26\"], [1.0, \"#f0f921\"]], \"type\": \"heatmap\"}], \"heatmapgl\": [{\"colorbar\": {\"outlinewidth\": 0, \"ticks\": \"\"}, \"colorscale\": [[0.0, \"#0d0887\"], [0.1111111111111111, \"#46039f\"], [0.2222222222222222, \"#7201a8\"], [0.3333333333333333, \"#9c179e\"], [0.4444444444444444, \"#bd3786\"], [0.5555555555555556, \"#d8576b\"], [0.6666666666666666, \"#ed7953\"], [0.7777777777777778, \"#fb9f3a\"], [0.8888888888888888, \"#fdca26\"], [1.0, \"#f0f921\"]], \"type\": \"heatmapgl\"}], \"histogram\": [{\"marker\": {\"colorbar\": {\"outlinewidth\": 0, \"ticks\": \"\"}}, \"type\": \"histogram\"}], \"histogram2d\": [{\"colorbar\": {\"outlinewidth\": 0, \"ticks\": \"\"}, \"colorscale\": [[0.0, \"#0d0887\"], [0.1111111111111111, \"#46039f\"], [0.2222222222222222, \"#7201a8\"], [0.3333333333333333, \"#9c179e\"], [0.4444444444444444, \"#bd3786\"], [0.5555555555555556, \"#d8576b\"], [0.6666666666666666, \"#ed7953\"], [0.7777777777777778, \"#fb9f3a\"], [0.8888888888888888, \"#fdca26\"], [1.0, \"#f0f921\"]], \"type\": \"histogram2d\"}], \"histogram2dcontour\": [{\"colorbar\": {\"outlinewidth\": 0, \"ticks\": \"\"}, \"colorscale\": [[0.0, \"#0d0887\"], [0.1111111111111111, \"#46039f\"], [0.2222222222222222, \"#7201a8\"], [0.3333333333333333, \"#9c179e\"], [0.4444444444444444, \"#bd3786\"], [0.5555555555555556, \"#d8576b\"], [0.6666666666666666, \"#ed7953\"], [0.7777777777777778, \"#fb9f3a\"], [0.8888888888888888, \"#fdca26\"], [1.0, \"#f0f921\"]], \"type\": \"histogram2dcontour\"}], \"mesh3d\": [{\"colorbar\": {\"outlinewidth\": 0, \"ticks\": \"\"}, \"type\": \"mesh3d\"}], \"parcoords\": [{\"line\": {\"colorbar\": {\"outlinewidth\": 0, \"ticks\": \"\"}}, \"type\": \"parcoords\"}], \"pie\": [{\"automargin\": true, \"type\": \"pie\"}], \"scatter\": [{\"marker\": {\"colorbar\": {\"outlinewidth\": 0, \"ticks\": \"\"}}, \"type\": \"scatter\"}], \"scatter3d\": [{\"line\": {\"colorbar\": {\"outlinewidth\": 0, \"ticks\": \"\"}}, \"marker\": {\"colorbar\": {\"outlinewidth\": 0, \"ticks\": \"\"}}, \"type\": \"scatter3d\"}], \"scattercarpet\": [{\"marker\": {\"colorbar\": {\"outlinewidth\": 0, \"ticks\": \"\"}}, \"type\": \"scattercarpet\"}], \"scattergeo\": [{\"marker\": {\"colorbar\": {\"outlinewidth\": 0, \"ticks\": \"\"}}, \"type\": \"scattergeo\"}], \"scattergl\": [{\"marker\": {\"colorbar\": {\"outlinewidth\": 0, \"ticks\": \"\"}}, \"type\": \"scattergl\"}], \"scattermapbox\": [{\"marker\": {\"colorbar\": {\"outlinewidth\": 0, \"ticks\": \"\"}}, \"type\": \"scattermapbox\"}], \"scatterpolar\": [{\"marker\": {\"colorbar\": {\"outlinewidth\": 0, \"ticks\": \"\"}}, \"type\": \"scatterpolar\"}], \"scatterpolargl\": [{\"marker\": {\"colorbar\": {\"outlinewidth\": 0, \"ticks\": \"\"}}, \"type\": \"scatterpolargl\"}], \"scatterternary\": [{\"marker\": {\"colorbar\": {\"outlinewidth\": 0, \"ticks\": \"\"}}, \"type\": \"scatterternary\"}], \"surface\": [{\"colorbar\": {\"outlinewidth\": 0, \"ticks\": \"\"}, \"colorscale\": [[0.0, \"#0d0887\"], [0.1111111111111111, \"#46039f\"], [0.2222222222222222, \"#7201a8\"], [0.3333333333333333, \"#9c179e\"], [0.4444444444444444, \"#bd3786\"], [0.5555555555555556, \"#d8576b\"], [0.6666666666666666, \"#ed7953\"], [0.7777777777777778, \"#fb9f3a\"], [0.8888888888888888, \"#fdca26\"], [1.0, \"#f0f921\"]], \"type\": \"surface\"}], \"table\": [{\"cells\": {\"fill\": {\"color\": \"#EBF0F8\"}, \"line\": {\"color\": \"white\"}}, \"header\": {\"fill\": {\"color\": \"#C8D4E3\"}, \"line\": {\"color\": \"white\"}}, \"type\": \"table\"}]}, \"layout\": {\"annotationdefaults\": {\"arrowcolor\": \"#2a3f5f\", \"arrowhead\": 0, \"arrowwidth\": 1}, \"coloraxis\": {\"colorbar\": {\"outlinewidth\": 0, \"ticks\": \"\"}}, \"colorscale\": {\"diverging\": [[0, \"#8e0152\"], [0.1, \"#c51b7d\"], [0.2, \"#de77ae\"], [0.3, \"#f1b6da\"], [0.4, \"#fde0ef\"], [0.5, \"#f7f7f7\"], [0.6, \"#e6f5d0\"], [0.7, \"#b8e186\"], [0.8, \"#7fbc41\"], [0.9, \"#4d9221\"], [1, \"#276419\"]], \"sequential\": [[0.0, \"#0d0887\"], [0.1111111111111111, \"#46039f\"], [0.2222222222222222, \"#7201a8\"], [0.3333333333333333, \"#9c179e\"], [0.4444444444444444, \"#bd3786\"], [0.5555555555555556, \"#d8576b\"], [0.6666666666666666, \"#ed7953\"], [0.7777777777777778, \"#fb9f3a\"], [0.8888888888888888, \"#fdca26\"], [1.0, \"#f0f921\"]], \"sequentialminus\": [[0.0, \"#0d0887\"], [0.1111111111111111, \"#46039f\"], [0.2222222222222222, \"#7201a8\"], [0.3333333333333333, \"#9c179e\"], [0.4444444444444444, \"#bd3786\"], [0.5555555555555556, \"#d8576b\"], [0.6666666666666666, \"#ed7953\"], [0.7777777777777778, \"#fb9f3a\"], [0.8888888888888888, \"#fdca26\"], [1.0, \"#f0f921\"]]}, \"colorway\": [\"#636efa\", \"#EF553B\", \"#00cc96\", \"#ab63fa\", \"#FFA15A\", \"#19d3f3\", \"#FF6692\", \"#B6E880\", \"#FF97FF\", \"#FECB52\"], \"font\": {\"color\": \"#2a3f5f\"}, \"geo\": {\"bgcolor\": \"white\", \"lakecolor\": \"white\", \"landcolor\": \"#E5ECF6\", \"showlakes\": true, \"showland\": true, \"subunitcolor\": \"white\"}, \"hoverlabel\": {\"align\": \"left\"}, \"hovermode\": \"closest\", \"mapbox\": {\"style\": \"light\"}, \"paper_bgcolor\": \"white\", \"plot_bgcolor\": \"#E5ECF6\", \"polar\": {\"angularaxis\": {\"gridcolor\": \"white\", \"linecolor\": \"white\", \"ticks\": \"\"}, \"bgcolor\": \"#E5ECF6\", \"radialaxis\": {\"gridcolor\": \"white\", \"linecolor\": \"white\", \"ticks\": \"\"}}, \"scene\": {\"xaxis\": {\"backgroundcolor\": \"#E5ECF6\", \"gridcolor\": \"white\", \"gridwidth\": 2, \"linecolor\": \"white\", \"showbackground\": true, \"ticks\": \"\", \"zerolinecolor\": \"white\"}, \"yaxis\": {\"backgroundcolor\": \"#E5ECF6\", \"gridcolor\": \"white\", \"gridwidth\": 2, \"linecolor\": \"white\", \"showbackground\": true, \"ticks\": \"\", \"zerolinecolor\": \"white\"}, \"zaxis\": {\"backgroundcolor\": \"#E5ECF6\", \"gridcolor\": \"white\", \"gridwidth\": 2, \"linecolor\": \"white\", \"showbackground\": true, \"ticks\": \"\", \"zerolinecolor\": \"white\"}}, \"shapedefaults\": {\"line\": {\"color\": \"#2a3f5f\"}}, \"ternary\": {\"aaxis\": {\"gridcolor\": \"white\", \"linecolor\": \"white\", \"ticks\": \"\"}, \"baxis\": {\"gridcolor\": \"white\", \"linecolor\": \"white\", \"ticks\": \"\"}, \"bgcolor\": \"#E5ECF6\", \"caxis\": {\"gridcolor\": \"white\", \"linecolor\": \"white\", \"ticks\": \"\"}}, \"title\": {\"x\": 0.05}, \"xaxis\": {\"automargin\": true, \"gridcolor\": \"white\", \"linecolor\": \"white\", \"ticks\": \"\", \"title\": {\"standoff\": 15}, \"zerolinecolor\": \"white\", \"zerolinewidth\": 2}, \"yaxis\": {\"automargin\": true, \"gridcolor\": \"white\", \"linecolor\": \"white\", \"ticks\": \"\", \"title\": {\"standoff\": 15}, \"zerolinecolor\": \"white\", \"zerolinewidth\": 2}}}},\n",
              "                        {\"responsive\": true}\n",
              "                    ).then(function(){\n",
              "                            \n",
              "var gd = document.getElementById('01277fe9-3e4c-453f-b85f-9ab28e75a194');\n",
              "var x = new MutationObserver(function (mutations, observer) {{\n",
              "        var display = window.getComputedStyle(gd).display;\n",
              "        if (!display || display === 'none') {{\n",
              "            console.log([gd, 'removed!']);\n",
              "            Plotly.purge(gd);\n",
              "            observer.disconnect();\n",
              "        }}\n",
              "}});\n",
              "\n",
              "// Listen for the removal of the full notebook cells\n",
              "var notebookContainer = gd.closest('#notebook-container');\n",
              "if (notebookContainer) {{\n",
              "    x.observe(notebookContainer, {childList: true});\n",
              "}}\n",
              "\n",
              "// Listen for the clearing of the current output cell\n",
              "var outputEl = gd.closest('.output');\n",
              "if (outputEl) {{\n",
              "    x.observe(outputEl, {childList: true});\n",
              "}}\n",
              "\n",
              "                        })\n",
              "                };\n",
              "                \n",
              "            </script>\n",
              "        </div>\n",
              "</body>\n",
              "</html>"
            ]
          },
          "metadata": {
            "tags": []
          }
        }
      ]
    },
    {
      "cell_type": "markdown",
      "metadata": {
        "id": "hGcRZOFHJIzk",
        "colab_type": "text"
      },
      "source": [
        "Componentes principais no tempo"
      ]
    },
    {
      "cell_type": "code",
      "metadata": {
        "id": "OJ3i3UvXELS_",
        "colab_type": "code",
        "colab": {
          "base_uri": "https://localhost:8080/",
          "height": 617
        },
        "outputId": "c6e1bb68-c996-4052-c673-8a90a12df709"
      },
      "source": [
        "px.line_3d(pca_df_3d, x=\"Componente 1\", y=\"Componente 2\",z=\"Componente 3\")"
      ],
      "execution_count": null,
      "outputs": [
        {
          "output_type": "display_data",
          "data": {
            "text/html": [
              "<html>\n",
              "<head><meta charset=\"utf-8\" /></head>\n",
              "<body>\n",
              "    <div>\n",
              "            <script src=\"https://cdnjs.cloudflare.com/ajax/libs/mathjax/2.7.5/MathJax.js?config=TeX-AMS-MML_SVG\"></script><script type=\"text/javascript\">if (window.MathJax) {MathJax.Hub.Config({SVG: {font: \"STIX-Web\"}});}</script>\n",
              "                <script type=\"text/javascript\">window.PlotlyConfig = {MathJaxConfig: 'local'};</script>\n",
              "        <script src=\"https://cdn.plot.ly/plotly-latest.min.js\"></script>    \n",
              "            <div id=\"909ac3b5-c873-4a4b-b4aa-82a5b2d9f198\" class=\"plotly-graph-div\" style=\"height:600px; width:100%;\"></div>\n",
              "            <script type=\"text/javascript\">\n",
              "                \n",
              "                    window.PLOTLYENV=window.PLOTLYENV || {};\n",
              "                    \n",
              "                if (document.getElementById(\"909ac3b5-c873-4a4b-b4aa-82a5b2d9f198\")) {\n",
              "                    Plotly.newPlot(\n",
              "                        '909ac3b5-c873-4a4b-b4aa-82a5b2d9f198',\n",
              "                        [{\"hoverlabel\": {\"namelength\": 0}, \"hovertemplate\": \"Componente 1=%{x}<br>Componente 2=%{y}<br>Componente 3=%{z}\", \"legendgroup\": \"\", \"line\": {\"color\": \"#636efa\", \"dash\": \"solid\"}, \"mode\": \"lines\", \"name\": \"\", \"scene\": \"scene\", \"showlegend\": false, \"type\": \"scatter3d\", \"x\": [-0.24316180108690238, -0.23449422731595918, -0.31231445364284766, -0.14613673850150002, -0.38955032967680586, -0.42961253367639685, -0.43780140726158046, -0.5000296567793769, -0.362448360733366, -0.1985982476280937, -0.402770047715687, -0.36224868600945653, -0.37916607678560293, -0.3221771716867038, -0.36081207889728767, -0.3154845110547922, -0.2478719343560248, -0.1906472621254118, -0.3211890199911698, -0.25846701707691294, -0.1625180715114023, -0.16671113220578726, -0.43450721628575534, -0.28679749038571933, -0.36451354880546766, -0.1900739061971439, -0.2203471611922114, -0.4138661540986947, -0.2289843012046764, -0.42051639819460207, -0.2972455804170019, -0.2714190928649633, -0.417443455438919, -0.34003487222535356, -0.1989048550238161, -0.3338175244555254, -0.3520125763965509, -0.3765965922167713, -0.36357392092036434, -0.29327820560250617, -0.22814660375903548, -0.14806551140111557, -0.23732701100936163, -0.1497197501149981, -0.10750314960605802, -0.17283118188812835, -0.011236509075528126, -0.2167193342080541, -0.1333393077851763, -0.25761661706334954, -0.16600896376679106, -0.006561223673945574, -0.06098593986696057, -0.27250103338702464, 0.057696299257894566, -0.16350130388992767, -0.023605130884830565, 0.18697174406471015, 0.19391230910435012, -0.028983689272020417, 0.16255618550081122, -0.022731410558344056, 0.04570371710185562, 0.32926311853008816, 0.20752463122154446, -0.014641993177061762, -0.07797119788540315, 0.11499799580231929, -0.11443554482904336, -0.14970035172246351, -0.13761257965371565, -0.08837898688012015, -0.025366125934217002, 0.12302877361435209, -0.008807877873129885, -0.05960769353969357, -0.09739397266977097, 0.023841790428896177, -0.06401902373664045, 0.04662910168729133, -0.03001487638287019, -0.00397565830669484, 0.0472127222750066, -0.031201916569227963, -0.26381212717596664, -0.151094218226589, -0.2085603733674339, 0.045588800167707354, -0.13196146482085483, -0.08923718250329855, -0.06855495049320051, -0.061380826801856386, -0.1271730855562357, 0.06124438758923769, -0.0721017811594141, 0.016033346788146732, -0.1280355525244508, 0.07681822187183977, -0.04422101932473216, -0.09787878802482934, 0.11709117890538542, 0.3442323025081539, -0.0680894732298739, 0.14278467246960638, 0.0991292009526154, 0.04741483524520801, 0.03591445139350209, 0.010887777474461945, 0.27431005904205713, 0.18015729182792106, 0.3046633807433411, 0.3211398048571207, 0.05282082500820013, 0.13265867879245177, 0.16484144314587998, 0.4211718934608088, 0.275767429058932, 0.3148289450817513, 0.399472025178342, 0.23324869121092753, 0.3417903671640229, 0.4171131639248107, 0.5058595249253914, 0.5290486253412606, 0.3061317423849136, 0.6650155356319893, 0.5852029650468307, 0.7148755394606884, 0.5284840206069018, 0.5264934756619982, 0.6841346716637563, 0.6983854972142824, 0.6502526925067524, 0.5977620772253172, 0.6828126047284349, 0.7130564128908846, 1.0, 0.8498182938830611, 0.7629606896005344], \"y\": [-0.28027227403194455, -0.27734797826366975, -0.3342166033093517, -0.1761486980232039, -0.3233594875292486, -0.3766324628677878, -0.3283890705108274, -0.2748671557667043, -0.20305300808714996, -0.21219313142129514, -0.16957897618476755, -0.10320061240415805, -0.16345180921952487, -0.08610825037195997, -0.021068728173913153, 0.04603759294867283, -0.1863186864911983, -0.1834638241449536, -0.22185410775696693, -0.2675162715347706, -0.14736651271771523, -0.12440644582986314, -0.1511975282323586, 0.0722873915904254, 0.2866670831974814, 0.05095165689366012, 0.11343545326845833, 0.20107260989765496, -0.19280737554023125, 0.05259037737191634, -0.10232761239080185, -0.04514918763416643, 0.31276478166758587, 0.17875633450341846, 0.014864038067206608, 0.37358573280099594, 0.17645457970547498, -0.11784387065188323, -0.06663791018026463, -0.14617788594332118, 0.2541095711698399, 0.18001993583457637, 0.012530195941213778, 0.1312475079576298, 0.15935895828220895, 0.18508223608032756, 0.1901768334101749, 0.31089043600284944, 0.5594748508932549, 0.25678624173461756, 0.6537514581864453, 0.13261465509359485, 0.2706225720710592, 0.2402087086364488, 0.20938578428387894, 0.4264425296495056, 0.028739861747807967, 0.01217365181246334, 0.3313186807826591, 0.4074738383609634, 0.06849033347361752, 0.05192565025554207, 0.23996188309155617, -0.16356808978509182, 0.28969050869500373, 0.4265971016405608, 0.0003458317599605822, 0.11836483922590066, 0.30662904857360984, 0.45420366806616647, 0.19605824782085102, 0.1401627880020435, 0.09966701592407666, 0.32804264999221594, 0.24377145493974858, -0.34247043641384767, -0.2140064350799139, -0.1483268520494552, 0.04624124931811126, 0.09071114751164469, 0.15854069382055133, -0.1145133359060411, 0.13464583674021507, -0.04888052491291619, -0.006887027619078471, -0.06161422505645574, -0.13213279013418863, -0.0677868815769729, -0.06748015460263111, -0.049459649715062, -0.13648995377251327, -0.14663487058861333, -0.19108575601581976, -0.130206817889606, -0.213122720799328, -0.09245181069939178, 0.004570490796925373, -0.1071099386389163, -0.08220675905437647, -0.08776918984422229, -0.1883611900342388, -0.08846031714475991, -0.08380321589097266, -0.05223171958805969, -0.14179303934729182, -0.03482061769529318, -0.04294873989682308, -0.12256601509645454, -0.1964549106560207, -0.10324102797588537, -0.10956443864827548, -0.20663302773193484, -0.16699193528509412, 0.05546118185852809, -0.020321058718147315, 0.03220178694979885, -0.2797327229893749, -0.00663577477847819, -0.04369401179968768, -0.03712024006380521, -0.029308848278302723, -0.046131848429662344, -0.1313548009344215, -0.034241060652943, -0.046331008970442934, -0.04579593307397411, -0.005403213561537907, -0.12881332911848448, -0.04327699453239305, -0.1558298006385975, 0.025721262356003687, -0.06674439134387186, 0.0850499291524083, -0.15824624543313343, -0.00023449041973610057, 0.19043036457202717, 0.14938947430433466, 0.032102692923618066, -0.09660761751294843], \"z\": [0.020447944380359198, -0.04696250365769423, -0.10877970719822364, 0.10084646993944854, -0.009478595851155866, -0.004506001000731915, -0.04684752106184931, -0.06941616588992203, -0.11572320860019976, -0.027753869741511186, 0.01920870942282351, -0.0849172254350307, -0.019876103869494476, 0.04820543571378792, -0.03608349030500042, -0.04889539829184474, -0.0658040049024466, -0.0012215154829068038, -0.015732819227207383, -0.03086316303989628, -0.03791510671838277, 0.02400654242017563, -0.0892025034001214, 0.08973260150205714, 0.08911004168839934, 0.07722833287240542, -0.005748521524401275, -0.0008182284515721303, 0.2476661309893701, 0.08230822255912969, 0.1411651799670205, 0.18239915452927477, -0.04655476944890895, -0.005405558978964798, -0.020266388197228476, -0.21051057705593954, 0.014941227557884192, 0.11266857179410412, -0.0366509045054979, 0.05498483643340732, 0.026450712229044264, 0.007769672943661965, 0.07480273517480016, 0.1068771378989451, 0.15938716353433613, 0.013509109382875901, 0.07271085524379235, -0.012188309917934622, 0.018274649723101475, 0.11036378224646926, -0.08274623197094268, 0.09488092212883412, 0.06031554157636342, 0.027214539231778228, 0.14619364247673458, -0.004929068196026333, 0.13082310311637518, 0.24811635466617518, 0.15929767501592404, -0.0524325252293386, 0.0935666279597013, -0.13418811471282271, 0.005962625237097699, 0.29004803568559256, -0.0059813495545043525, -0.11116406743331704, 0.023299121156560992, 0.17195043461199017, -0.064808742313808, -0.10201012734120904, 0.04961338065848254, -0.015857816751868117, -0.004524349858279378, 0.013994059774696338, 0.1268200930302344, 0.16616334210289085, 0.1943049217678803, 0.03855272927224542, -0.11597008989773988, 0.02607049181620085, -0.008363328833756652, -0.026175468383042584, -0.0096402191351785, -0.060533109689377564, -0.05068676043756522, 0.008417455238368551, -0.07798194146141502, 0.09844888086970335, -0.017331053981204034, -0.036203223070268, -0.014382036386245505, 0.07279348507322778, -0.008734500966044828, -0.04312086447436139, 0.08277687009262029, 0.040582118890975884, 0.008101316428816337, -0.04784324244069744, -0.05759262902417157, -0.2115992102073943, -0.0299892070880197, 0.05296944298296469, -0.15931864591051897, -0.16286715028249768, 0.020460588759289033, 0.003937304976833391, -0.11343451616747588, -0.22911399843563243, -0.02495410678537109, -0.06748118250687264, -0.11133797154692351, -0.0005048065906221824, -0.12062959075034041, -0.0853475286928846, -0.12335191503099256, -0.022684797411748427, 0.0876220146406247, -0.1410890539458295, -0.17483334336180484, -0.13641037898635172, -0.024586569103273816, -0.07790749057451193, -0.05376782726860612, -0.04243631603639351, -0.20908388900072206, 0.032319896449864216, -0.011461342359671382, 0.1187503172366096, 0.020958030123162514, -0.003118074296209942, 0.035425228004881036, 0.17245724190158393, 0.04833947840769966, 0.0017196927897904198, -0.0034150353560261242, -0.19454344473684743, 0.026735623920767105, -0.021006793056723188, 0.012529360567303034]}],\n",
              "                        {\"height\": 600, \"legend\": {\"tracegroupgap\": 0}, \"margin\": {\"t\": 60}, \"scene\": {\"domain\": {\"x\": [0.0, 1.0], \"y\": [0.0, 1.0]}, \"xaxis\": {\"title\": {\"text\": \"Componente 1\"}}, \"yaxis\": {\"title\": {\"text\": \"Componente 2\"}}, \"zaxis\": {\"title\": {\"text\": \"Componente 3\"}}}, \"template\": {\"data\": {\"bar\": [{\"error_x\": {\"color\": \"#2a3f5f\"}, \"error_y\": {\"color\": \"#2a3f5f\"}, \"marker\": {\"line\": {\"color\": \"#E5ECF6\", \"width\": 0.5}}, \"type\": \"bar\"}], \"barpolar\": [{\"marker\": {\"line\": {\"color\": \"#E5ECF6\", \"width\": 0.5}}, \"type\": \"barpolar\"}], \"carpet\": [{\"aaxis\": {\"endlinecolor\": \"#2a3f5f\", \"gridcolor\": \"white\", \"linecolor\": \"white\", \"minorgridcolor\": \"white\", \"startlinecolor\": \"#2a3f5f\"}, \"baxis\": {\"endlinecolor\": \"#2a3f5f\", \"gridcolor\": \"white\", \"linecolor\": \"white\", \"minorgridcolor\": \"white\", \"startlinecolor\": \"#2a3f5f\"}, \"type\": \"carpet\"}], \"choropleth\": [{\"colorbar\": {\"outlinewidth\": 0, \"ticks\": \"\"}, \"type\": \"choropleth\"}], \"contour\": [{\"colorbar\": {\"outlinewidth\": 0, \"ticks\": \"\"}, \"colorscale\": [[0.0, \"#0d0887\"], [0.1111111111111111, \"#46039f\"], [0.2222222222222222, \"#7201a8\"], [0.3333333333333333, \"#9c179e\"], [0.4444444444444444, \"#bd3786\"], [0.5555555555555556, \"#d8576b\"], [0.6666666666666666, \"#ed7953\"], [0.7777777777777778, \"#fb9f3a\"], [0.8888888888888888, \"#fdca26\"], [1.0, \"#f0f921\"]], \"type\": \"contour\"}], \"contourcarpet\": [{\"colorbar\": {\"outlinewidth\": 0, \"ticks\": \"\"}, \"type\": \"contourcarpet\"}], \"heatmap\": [{\"colorbar\": {\"outlinewidth\": 0, \"ticks\": \"\"}, \"colorscale\": [[0.0, \"#0d0887\"], [0.1111111111111111, \"#46039f\"], [0.2222222222222222, \"#7201a8\"], [0.3333333333333333, \"#9c179e\"], [0.4444444444444444, \"#bd3786\"], [0.5555555555555556, \"#d8576b\"], [0.6666666666666666, \"#ed7953\"], [0.7777777777777778, \"#fb9f3a\"], [0.8888888888888888, \"#fdca26\"], [1.0, \"#f0f921\"]], \"type\": \"heatmap\"}], \"heatmapgl\": [{\"colorbar\": {\"outlinewidth\": 0, \"ticks\": \"\"}, \"colorscale\": [[0.0, \"#0d0887\"], [0.1111111111111111, \"#46039f\"], [0.2222222222222222, \"#7201a8\"], [0.3333333333333333, \"#9c179e\"], [0.4444444444444444, \"#bd3786\"], [0.5555555555555556, \"#d8576b\"], [0.6666666666666666, \"#ed7953\"], [0.7777777777777778, \"#fb9f3a\"], [0.8888888888888888, \"#fdca26\"], [1.0, \"#f0f921\"]], \"type\": \"heatmapgl\"}], \"histogram\": [{\"marker\": {\"colorbar\": {\"outlinewidth\": 0, \"ticks\": \"\"}}, \"type\": \"histogram\"}], \"histogram2d\": [{\"colorbar\": {\"outlinewidth\": 0, \"ticks\": \"\"}, \"colorscale\": [[0.0, \"#0d0887\"], [0.1111111111111111, \"#46039f\"], [0.2222222222222222, \"#7201a8\"], [0.3333333333333333, \"#9c179e\"], [0.4444444444444444, \"#bd3786\"], [0.5555555555555556, \"#d8576b\"], [0.6666666666666666, \"#ed7953\"], [0.7777777777777778, \"#fb9f3a\"], [0.8888888888888888, \"#fdca26\"], [1.0, \"#f0f921\"]], \"type\": \"histogram2d\"}], \"histogram2dcontour\": [{\"colorbar\": {\"outlinewidth\": 0, \"ticks\": \"\"}, \"colorscale\": [[0.0, \"#0d0887\"], [0.1111111111111111, \"#46039f\"], [0.2222222222222222, \"#7201a8\"], [0.3333333333333333, \"#9c179e\"], [0.4444444444444444, \"#bd3786\"], [0.5555555555555556, \"#d8576b\"], [0.6666666666666666, \"#ed7953\"], [0.7777777777777778, \"#fb9f3a\"], [0.8888888888888888, \"#fdca26\"], [1.0, \"#f0f921\"]], \"type\": \"histogram2dcontour\"}], \"mesh3d\": [{\"colorbar\": {\"outlinewidth\": 0, \"ticks\": \"\"}, \"type\": \"mesh3d\"}], \"parcoords\": [{\"line\": {\"colorbar\": {\"outlinewidth\": 0, \"ticks\": \"\"}}, \"type\": \"parcoords\"}], \"pie\": [{\"automargin\": true, \"type\": \"pie\"}], \"scatter\": [{\"marker\": {\"colorbar\": {\"outlinewidth\": 0, \"ticks\": \"\"}}, \"type\": \"scatter\"}], \"scatter3d\": [{\"line\": {\"colorbar\": {\"outlinewidth\": 0, \"ticks\": \"\"}}, \"marker\": {\"colorbar\": {\"outlinewidth\": 0, \"ticks\": \"\"}}, \"type\": \"scatter3d\"}], \"scattercarpet\": [{\"marker\": {\"colorbar\": {\"outlinewidth\": 0, \"ticks\": \"\"}}, \"type\": \"scattercarpet\"}], \"scattergeo\": [{\"marker\": {\"colorbar\": {\"outlinewidth\": 0, \"ticks\": \"\"}}, \"type\": \"scattergeo\"}], \"scattergl\": [{\"marker\": {\"colorbar\": {\"outlinewidth\": 0, \"ticks\": \"\"}}, \"type\": \"scattergl\"}], \"scattermapbox\": [{\"marker\": {\"colorbar\": {\"outlinewidth\": 0, \"ticks\": \"\"}}, \"type\": \"scattermapbox\"}], \"scatterpolar\": [{\"marker\": {\"colorbar\": {\"outlinewidth\": 0, \"ticks\": \"\"}}, \"type\": \"scatterpolar\"}], \"scatterpolargl\": [{\"marker\": {\"colorbar\": {\"outlinewidth\": 0, \"ticks\": \"\"}}, \"type\": \"scatterpolargl\"}], \"scatterternary\": [{\"marker\": {\"colorbar\": {\"outlinewidth\": 0, \"ticks\": \"\"}}, \"type\": \"scatterternary\"}], \"surface\": [{\"colorbar\": {\"outlinewidth\": 0, \"ticks\": \"\"}, \"colorscale\": [[0.0, \"#0d0887\"], [0.1111111111111111, \"#46039f\"], [0.2222222222222222, \"#7201a8\"], [0.3333333333333333, \"#9c179e\"], [0.4444444444444444, \"#bd3786\"], [0.5555555555555556, \"#d8576b\"], [0.6666666666666666, \"#ed7953\"], [0.7777777777777778, \"#fb9f3a\"], [0.8888888888888888, \"#fdca26\"], [1.0, \"#f0f921\"]], \"type\": \"surface\"}], \"table\": [{\"cells\": {\"fill\": {\"color\": \"#EBF0F8\"}, \"line\": {\"color\": \"white\"}}, \"header\": {\"fill\": {\"color\": \"#C8D4E3\"}, \"line\": {\"color\": \"white\"}}, \"type\": \"table\"}]}, \"layout\": {\"annotationdefaults\": {\"arrowcolor\": \"#2a3f5f\", \"arrowhead\": 0, \"arrowwidth\": 1}, \"coloraxis\": {\"colorbar\": {\"outlinewidth\": 0, \"ticks\": \"\"}}, \"colorscale\": {\"diverging\": [[0, \"#8e0152\"], [0.1, \"#c51b7d\"], [0.2, \"#de77ae\"], [0.3, \"#f1b6da\"], [0.4, \"#fde0ef\"], [0.5, \"#f7f7f7\"], [0.6, \"#e6f5d0\"], [0.7, \"#b8e186\"], [0.8, \"#7fbc41\"], [0.9, \"#4d9221\"], [1, \"#276419\"]], \"sequential\": [[0.0, \"#0d0887\"], [0.1111111111111111, \"#46039f\"], [0.2222222222222222, \"#7201a8\"], [0.3333333333333333, \"#9c179e\"], [0.4444444444444444, \"#bd3786\"], [0.5555555555555556, \"#d8576b\"], [0.6666666666666666, \"#ed7953\"], [0.7777777777777778, \"#fb9f3a\"], [0.8888888888888888, \"#fdca26\"], [1.0, \"#f0f921\"]], \"sequentialminus\": [[0.0, \"#0d0887\"], [0.1111111111111111, \"#46039f\"], [0.2222222222222222, \"#7201a8\"], [0.3333333333333333, \"#9c179e\"], [0.4444444444444444, \"#bd3786\"], [0.5555555555555556, \"#d8576b\"], [0.6666666666666666, \"#ed7953\"], [0.7777777777777778, \"#fb9f3a\"], [0.8888888888888888, \"#fdca26\"], [1.0, \"#f0f921\"]]}, \"colorway\": [\"#636efa\", \"#EF553B\", \"#00cc96\", \"#ab63fa\", \"#FFA15A\", \"#19d3f3\", \"#FF6692\", \"#B6E880\", \"#FF97FF\", \"#FECB52\"], \"font\": {\"color\": \"#2a3f5f\"}, \"geo\": {\"bgcolor\": \"white\", \"lakecolor\": \"white\", \"landcolor\": \"#E5ECF6\", \"showlakes\": true, \"showland\": true, \"subunitcolor\": \"white\"}, \"hoverlabel\": {\"align\": \"left\"}, \"hovermode\": \"closest\", \"mapbox\": {\"style\": \"light\"}, \"paper_bgcolor\": \"white\", \"plot_bgcolor\": \"#E5ECF6\", \"polar\": {\"angularaxis\": {\"gridcolor\": \"white\", \"linecolor\": \"white\", \"ticks\": \"\"}, \"bgcolor\": \"#E5ECF6\", \"radialaxis\": {\"gridcolor\": \"white\", \"linecolor\": \"white\", \"ticks\": \"\"}}, \"scene\": {\"xaxis\": {\"backgroundcolor\": \"#E5ECF6\", \"gridcolor\": \"white\", \"gridwidth\": 2, \"linecolor\": \"white\", \"showbackground\": true, \"ticks\": \"\", \"zerolinecolor\": \"white\"}, \"yaxis\": {\"backgroundcolor\": \"#E5ECF6\", \"gridcolor\": \"white\", \"gridwidth\": 2, \"linecolor\": \"white\", \"showbackground\": true, \"ticks\": \"\", \"zerolinecolor\": \"white\"}, \"zaxis\": {\"backgroundcolor\": \"#E5ECF6\", \"gridcolor\": \"white\", \"gridwidth\": 2, \"linecolor\": \"white\", \"showbackground\": true, \"ticks\": \"\", \"zerolinecolor\": \"white\"}}, \"shapedefaults\": {\"line\": {\"color\": \"#2a3f5f\"}}, \"ternary\": {\"aaxis\": {\"gridcolor\": \"white\", \"linecolor\": \"white\", \"ticks\": \"\"}, \"baxis\": {\"gridcolor\": \"white\", \"linecolor\": \"white\", \"ticks\": \"\"}, \"bgcolor\": \"#E5ECF6\", \"caxis\": {\"gridcolor\": \"white\", \"linecolor\": \"white\", \"ticks\": \"\"}}, \"title\": {\"x\": 0.05}, \"xaxis\": {\"automargin\": true, \"gridcolor\": \"white\", \"linecolor\": \"white\", \"ticks\": \"\", \"title\": {\"standoff\": 15}, \"zerolinecolor\": \"white\", \"zerolinewidth\": 2}, \"yaxis\": {\"automargin\": true, \"gridcolor\": \"white\", \"linecolor\": \"white\", \"ticks\": \"\", \"title\": {\"standoff\": 15}, \"zerolinecolor\": \"white\", \"zerolinewidth\": 2}}}},\n",
              "                        {\"responsive\": true}\n",
              "                    ).then(function(){\n",
              "                            \n",
              "var gd = document.getElementById('909ac3b5-c873-4a4b-b4aa-82a5b2d9f198');\n",
              "var x = new MutationObserver(function (mutations, observer) {{\n",
              "        var display = window.getComputedStyle(gd).display;\n",
              "        if (!display || display === 'none') {{\n",
              "            console.log([gd, 'removed!']);\n",
              "            Plotly.purge(gd);\n",
              "            observer.disconnect();\n",
              "        }}\n",
              "}});\n",
              "\n",
              "// Listen for the removal of the full notebook cells\n",
              "var notebookContainer = gd.closest('#notebook-container');\n",
              "if (notebookContainer) {{\n",
              "    x.observe(notebookContainer, {childList: true});\n",
              "}}\n",
              "\n",
              "// Listen for the clearing of the current output cell\n",
              "var outputEl = gd.closest('.output');\n",
              "if (outputEl) {{\n",
              "    x.observe(outputEl, {childList: true});\n",
              "}}\n",
              "\n",
              "                        })\n",
              "                };\n",
              "                \n",
              "            </script>\n",
              "        </div>\n",
              "</body>\n",
              "</html>"
            ]
          },
          "metadata": {
            "tags": []
          }
        }
      ]
    },
    {
      "cell_type": "code",
      "metadata": {
        "id": "yCCg5--PJhep",
        "colab_type": "code",
        "colab": {}
      },
      "source": [
        ""
      ],
      "execution_count": null,
      "outputs": []
    }
  ]
}